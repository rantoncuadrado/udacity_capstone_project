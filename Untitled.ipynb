{
 "cells": [
  {
   "cell_type": "markdown",
   "id": "hairy-colorado",
   "metadata": {},
   "source": [
    "# Project Title\n",
    "### Data Engineering Capstone Project\n",
    "\n",
    "#### Project Summary\n",
    "--describe your project at a high level--\n",
    "\n",
    "The project follows the follow steps:\n",
    "* Step 1: Scope the Project and Gather Data\n",
    "* Step 2: Explore and Assess the Data\n",
    "* Step 3: Define the Data Model\n",
    "* Step 4: Run ETL to Model the Data\n",
    "* Step 5: Complete Project Write Up\n"
   ]
  },
  {
   "cell_type": "code",
   "execution_count": 7,
   "id": "equipped-montana",
   "metadata": {},
   "outputs": [
    {
     "name": "stdout",
     "output_type": "stream",
     "text": [
      "Requirement already satisfied: boto in /usr/local/lib/python3.8/site-packages (2.49.0)\n",
      "Collecting boto3\n",
      "  Using cached boto3-1.17.61-py2.py3-none-any.whl (131 kB)\n",
      "Collecting s3transfer<0.5.0,>=0.4.0\n",
      "  Using cached s3transfer-0.4.2-py2.py3-none-any.whl (79 kB)\n",
      "Requirement already satisfied: jmespath<1.0.0,>=0.7.1 in /usr/local/lib/python3.8/site-packages (from boto3) (0.10.0)\n",
      "Collecting botocore<1.21.0,>=1.20.61\n",
      "  Using cached botocore-1.20.61-py2.py3-none-any.whl (7.5 MB)\n",
      "Requirement already satisfied: urllib3<1.27,>=1.25.4 in /usr/local/lib/python3.8/site-packages (from botocore<1.21.0,>=1.20.61->boto3) (1.25.10)\n",
      "Requirement already satisfied: python-dateutil<3.0.0,>=2.1 in /usr/local/lib/python3.8/site-packages (from botocore<1.21.0,>=1.20.61->boto3) (2.8.1)\n",
      "Requirement already satisfied: six>=1.5 in /usr/local/lib/python3.8/site-packages (from python-dateutil<3.0.0,>=2.1->botocore<1.21.0,>=1.20.61->boto3) (1.15.0)\n",
      "\u001b[31mERROR: awscli 1.18.127 has requirement botocore==1.17.50, but you'll have botocore 1.20.61 which is incompatible.\u001b[0m\n",
      "\u001b[31mERROR: awscli 1.18.127 has requirement s3transfer<0.4.0,>=0.3.0, but you'll have s3transfer 0.4.2 which is incompatible.\u001b[0m\n",
      "Installing collected packages: botocore, s3transfer, boto3\n",
      "  Attempting uninstall: botocore\n",
      "    Found existing installation: botocore 1.17.50\n",
      "    Uninstalling botocore-1.17.50:\n",
      "      Successfully uninstalled botocore-1.17.50\n",
      "  Attempting uninstall: s3transfer\n",
      "    Found existing installation: s3transfer 0.3.3\n",
      "    Uninstalling s3transfer-0.3.3:\n",
      "      Successfully uninstalled s3transfer-0.3.3\n",
      "Successfully installed boto3-1.17.61 botocore-1.20.61 s3transfer-0.4.2\n",
      "Processing /Users/raulantoncuadrado/Library/Caches/pip/wheels/b3/0e/81/264aeed961e43b9f6ba9ec81c8c540d2d7dccc52c6b51cbf22/pyspark-3.1.1-py2.py3-none-any.whl\n",
      "Collecting py4j==0.10.9\n",
      "  Using cached py4j-0.10.9-py2.py3-none-any.whl (198 kB)\n",
      "Installing collected packages: py4j, pyspark\n",
      "Successfully installed py4j-0.10.9 pyspark-3.1.1\n"
     ]
    }
   ],
   "source": [
    "## NOTES\n",
    "# Install a pip package in the current Jupyter kernel\n",
    "\n",
    "#import sys\n",
    "#!{sys.executable} -m pip install s3fs\n",
    "#!{sys.executable} -m pip install boto\n",
    "#!{sys.executable} -m pip install boto3\n",
    "#!{sys.executable} -m pip install pyspark"
   ]
  },
  {
   "cell_type": "code",
   "execution_count": 8,
   "id": "desperate-yeast",
   "metadata": {},
   "outputs": [],
   "source": [
    "# IMPORTS AND INSTALLS\n",
    "\n",
    "import pandas as pd\n",
    "import configparser\n",
    "from datetime import datetime\n",
    "import os\n",
    "\n",
    "import boto\n",
    "import botocore\n",
    "import boto3\n",
    "from boto.s3.key import Key\n",
    "#  https://stackoverflow.com/questions/30249069/listing-contents-of-a-bucket-with-boto3\n",
    "\n",
    "from pyspark.sql import SparkSession\n",
    "from pyspark.sql.functions import udf, col"
   ]
  },
  {
   "cell_type": "code",
   "execution_count": null,
   "id": "allied-account",
   "metadata": {},
   "outputs": [],
   "source": [
    "# SETUP FOR USING S3 BUCKETS WHERE THE DATAFILES ARE\n",
    "\n",
    "config = configparser.ConfigParser()\n",
    "config.read('dl.cfg')\n",
    "\n",
    "os.environ['AWS_ACCESS_KEY_ID']=config['KEYS']['AWS_ACCESS_KEY_ID']\n",
    "os.environ['AWS_SECRET_ACCESS_KEY']=config['KEYS']['AWS_SECRET_ACCESS_KEY']\n",
    "\n",
    "S3_URI = \"s3a://raul-udacity/\"\n",
    "#s3a vs s3 explanation https://stackoverflow.com/questions/33356041/technically-what-is-the-difference-between-s3n-s3a-and-s3\n",
    "\n",
    "data_bares = os.path.join(S3_URI, 'bares.csv')\n",
    "data_restaurantes = os.path.join(S3_URI, 'restaurantes.csv')\n",
    "data_cafeterias = os.path.join(S3_URI, 'cafeterias.csv')\n",
    "\n",
    "data_asociaciones = os.path.join(S3_URI, 'AsociacionesJCyL.csv')\n",
    "data_clubes_deportivos = os.path.join(S3_URI, 'Clubes deportivos.csv')\n",
    "\n",
    "data_bibliotecas = os.path.join(S3_URI, 'Directorio de Bibliotecas de Castilla y León.json')\n",
    "data_museos = os.path.join(S3_URI, 'Directorio de Museos de Castilla y León.json')\n",
    "\n",
    "data_poblacion = os.path.join(S3_URI, 'Cities population per gender age.csv')\n",
    "\n",
    "# Other available data we decided not to use\n",
    "# Poblacion municipio sexo relacion nacimiento residencia.json\n",
    "# Municipios Origen Nacimiento.csv\n",
    "# "
   ]
  }
 ],
 "metadata": {
  "kernelspec": {
   "display_name": "Python 3",
   "language": "python",
   "name": "python3"
  },
  "language_info": {
   "codemirror_mode": {
    "name": "ipython",
    "version": 3
   },
   "file_extension": ".py",
   "mimetype": "text/x-python",
   "name": "python",
   "nbconvert_exporter": "python",
   "pygments_lexer": "ipython3",
   "version": "3.8.5"
  }
 },
 "nbformat": 4,
 "nbformat_minor": 5
}
