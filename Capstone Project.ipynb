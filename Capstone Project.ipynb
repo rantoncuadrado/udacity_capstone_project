{
 "cells": [
  {
   "cell_type": "markdown",
   "id": "encouraging-celebration",
   "metadata": {},
   "source": [
    "# Project Title: Data Engineering Capstone Project\n",
    "## Author: Raúl Antón Cuadrado.\n",
    "\n",
    "Contact me at \n",
    "- raulanton@gmail.com\n",
    "- https://remotefrog.com/hello or https://remotefrog.com/hola\n",
    "\n",
    "## Project Summary\n",
    "\n",
    "*The project lives in a Github repo https://github.com/rantoncuadrado/udacity_capstone_project/\n",
    "*The project scope and definitions are in https://github.com/rantoncuadrado/udacity_capstone_project/blob/main/scope.md\n",
    "*The datasources detailed definition are in https://github.com/rantoncuadrado/udacity_capstone_project/blob/main/Datasources%20Description.md\n"
   ]
  },
  {
   "cell_type": "code",
   "execution_count": 1,
   "id": "relevant-abortion",
   "metadata": {},
   "outputs": [],
   "source": [
    "## NOTES on installing a pip package in the current Jupyter kernel\n",
    "#import sys\n",
    "#!{sys.executable} -m pip install s3fs\n",
    "#!{sys.executable} -m pip install boto\n",
    "#!{sys.executable} -m pip install boto3\n",
    "#!{sys.executable} -m pip install pyspark"
   ]
  },
  {
   "cell_type": "code",
   "execution_count": 2,
   "id": "clinical-energy",
   "metadata": {},
   "outputs": [],
   "source": [
    "## IMPORTS \n",
    "\n",
    "import pandas as pd\n",
    "\n",
    "from datetime import datetime\n",
    "\n",
    "from s3_local_io import *\n",
    "from create_parquet_tables import *\n",
    "from data_quality_checks import *\n",
    "\n",
    "from pyspark.sql import SparkSession\n",
    "from pyspark.sql.functions import udf, col, count, lit, when, max, lower, countDistinct\n"
   ]
  },
  {
   "cell_type": "code",
   "execution_count": 3,
   "id": "enormous-trance",
   "metadata": {},
   "outputs": [],
   "source": [
    "## Global DEFINITIONS\n",
    "\n",
    "# URL and PATHS to data\n",
    "bucket_name = 'raul-udacity'\n",
    "bucket_parquet_path ='/parquet/'\n",
    "bucket_path = 's3a://'+bucket_name+'/'\n",
    "local_path = './input_files/'\n",
    "local_parquet_path = './input_files/parquet_files/'\n",
    "# For context s3a vs s3 explanation https://stackoverflow.com/questions/33356041/technically-what-is-the-difference-between-s3n-s3a-and-s3\n",
    "\n",
    "# FILENAMES\n",
    "data_bares = 'bares.csv'\n",
    "data_restaurantes = 'restaurantes.csv'\n",
    "data_cafeterias = 'cafeterias.csv'\n",
    "\n",
    "data_asociaciones = 'AsociacionesJCyL.csv'\n",
    "data_clubes_deportivos = 'Clubes deportivos.csv'\n",
    "\n",
    "data_bibliotecas = 'Directorio de Bibliotecas de Castilla y León.json'\n",
    "data_museos = 'Directorio de Museos de Castilla y León.json'\n",
    "\n",
    "data_poblacion = 'Cities population per gender age.csv'\n",
    "\n",
    "# Other available data/filenames we decided not to use\n",
    "# Poblacion municipio sexo relacion nacimiento residencia.json\n",
    "# Municipios Origen Nacimiento.csv"
   ]
  },
  {
   "cell_type": "markdown",
   "id": "asian-recommendation",
   "metadata": {},
   "source": [
    "# 1.- DATA SOURCES PREPARATION\n"
   ]
  },
  {
   "cell_type": "markdown",
   "id": "precious-aquatic",
   "metadata": {},
   "source": [
    "## 1.1.- Copy Files from S3 to local filesystem\n",
    "\n",
    "There are 2 options for the data sources (csv and json files) \n",
    "1) We can use files in S3\n",
    "2) We can work on local files (This is the default option to avoid s3 costs). IN this case, we need to copy s3 files to local."
   ]
  },
  {
   "cell_type": "code",
   "execution_count": 4,
   "id": "fourth-month",
   "metadata": {},
   "outputs": [],
   "source": [
    "## COPY FILES FROM s3 TO LOCAL\n",
    "## This step is not needed if working with s3 files\n",
    "## This step is not needed if they are already copied.\n",
    "\n",
    "# copy_files_s3_to_local(bucket_name, local_path)"
   ]
  },
  {
   "cell_type": "markdown",
   "id": "liberal-coffee",
   "metadata": {},
   "source": [
    "## 1.2.- Creation of the Spark Session\n",
    "\n",
    "I'll use Spark dataframes to gather and clean the data and later to save the results in parquet files\n",
    "It would work both over s3 or in local filesystem"
   ]
  },
  {
   "cell_type": "code",
   "execution_count": 5,
   "id": "hundred-america",
   "metadata": {},
   "outputs": [],
   "source": [
    "# Create an SPARK SESSION \n",
    "\n",
    "spark_session = SparkSession \\\n",
    "        .builder \\\n",
    "        .appName(\"Castilla y Leon -> Fact Tables\") \\\n",
    "        .getOrCreate()\n",
    "\n",
    "\n",
    "# This is needed just if we use spark on s3\n",
    "#spark_session.sparkContext._jsc.hadoopConfiguration().set(\"fs.s3a.aws.credentials.provider\",\"org.apache.hadoop.fs.s3a.SimpleAWSCredentialsProvider\")\n",
    "#spark_session.sparkContext._jsc.hadoopConfiguration().set(\"fs.s3a.access.key\",os.environ['AWS_ACCESS_KEY_ID'])\n",
    "#spark_session.sparkContext._jsc.hadoopConfiguration().set(\"fs.s3a.secret.key\",os.environ['AWS_SECRET_ACCESS_KEY'])\n"
   ]
  },
  {
   "cell_type": "markdown",
   "id": "running-dodge",
   "metadata": {},
   "source": [
    "# 2.- GARITOS TABLE\n",
    "Garitos is the spanish word I used to comprise bars, restaurants, cafés and maybe other kind of related businesses in the future. "
   ]
  },
  {
   "cell_type": "markdown",
   "id": "falling-forth",
   "metadata": {},
   "source": [
    "## 2.1.- Gather Bars table, Restaurants table, Cafes table and puting them together into a SparkDF Garitos.\n",
    "These 3 files share same schema"
   ]
  },
  {
   "cell_type": "code",
   "execution_count": 7,
   "id": "phantom-joshua",
   "metadata": {},
   "outputs": [],
   "source": [
    "sparkdf_garitos=create_garitos(spark_session,local_path,[data_bares,data_restaurantes,data_cafeterias])"
   ]
  },
  {
   "cell_type": "markdown",
   "id": "about-victorian",
   "metadata": {},
   "source": [
    "# 3.- CITY - POSTAL CODE TABLE.  \n",
    "\n",
    "We suppose city/postal code table is not available and we infer it from the info we have in garitos table \n",
    "Goal: we'll make a parquet table available.\n"
   ]
  },
  {
   "cell_type": "code",
   "execution_count": 8,
   "id": "external-ireland",
   "metadata": {},
   "outputs": [],
   "source": [
    "sparkdf_postal_codes=create_postal_code(sparkdf_garitos)"
   ]
  },
  {
   "cell_type": "code",
   "execution_count": 9,
   "id": "collected-likelihood",
   "metadata": {},
   "outputs": [
    {
     "data": {
      "text/html": [
       "<div>\n",
       "<style scoped>\n",
       "    .dataframe tbody tr th:only-of-type {\n",
       "        vertical-align: middle;\n",
       "    }\n",
       "\n",
       "    .dataframe tbody tr th {\n",
       "        vertical-align: top;\n",
       "    }\n",
       "\n",
       "    .dataframe thead th {\n",
       "        text-align: right;\n",
       "    }\n",
       "</style>\n",
       "<table border=\"1\" class=\"dataframe\">\n",
       "  <thead>\n",
       "    <tr style=\"text-align: right;\">\n",
       "      <th></th>\n",
       "      <th>county</th>\n",
       "      <th>city</th>\n",
       "      <th>postal_code</th>\n",
       "    </tr>\n",
       "  </thead>\n",
       "  <tbody>\n",
       "    <tr>\n",
       "      <th>count</th>\n",
       "      <td>2881</td>\n",
       "      <td>2881</td>\n",
       "      <td>2881</td>\n",
       "    </tr>\n",
       "    <tr>\n",
       "      <th>unique</th>\n",
       "      <td>9</td>\n",
       "      <td>1730</td>\n",
       "      <td>2025</td>\n",
       "    </tr>\n",
       "    <tr>\n",
       "      <th>top</th>\n",
       "      <td>león</td>\n",
       "      <td>Zamora</td>\n",
       "      <td>24000</td>\n",
       "    </tr>\n",
       "    <tr>\n",
       "      <th>freq</th>\n",
       "      <td>519</td>\n",
       "      <td>33</td>\n",
       "      <td>23</td>\n",
       "    </tr>\n",
       "  </tbody>\n",
       "</table>\n",
       "</div>"
      ],
      "text/plain": [
       "       county    city postal_code\n",
       "count    2881    2881        2881\n",
       "unique      9    1730        2025\n",
       "top      león  Zamora       24000\n",
       "freq      519      33          23"
      ]
     },
     "execution_count": 9,
     "metadata": {},
     "output_type": "execute_result"
    }
   ],
   "source": [
    "#just playing with pandas :)\n",
    "\n",
    "df=sparkdf_postal_codes.toPandas()\n",
    "df.describe(include='all')"
   ]
  },
  {
   "cell_type": "code",
   "execution_count": 10,
   "id": "wooden-penguin",
   "metadata": {},
   "outputs": [],
   "source": [
    "toparquet_postal_codes(spark_session,local_parquet_path,sparkdf_postal_codes)"
   ]
  },
  {
   "cell_type": "markdown",
   "id": "portable-assault",
   "metadata": {},
   "source": [
    "## 2.2.- Garitos table Quality Check and Wrangle/Cleanup"
   ]
  },
  {
   "cell_type": "markdown",
   "id": "occasional-principal",
   "metadata": {},
   "source": [
    "### 2.2.1.- Garitos table. Check for null values in key columns"
   ]
  },
  {
   "cell_type": "code",
   "execution_count": 11,
   "id": "medical-crossing",
   "metadata": {},
   "outputs": [
    {
     "name": "stdout",
     "output_type": "stream",
     "text": [
      "Checking DataFrame. No null values found in column name\n",
      "Checking DataFrame. No null values found in column county\n",
      "Checking DataFrame. No null values found in column city\n",
      "Checking DataFrame. No null values found in column garito_kind\n"
     ]
    },
    {
     "data": {
      "text/plain": [
       "True"
      ]
     },
     "execution_count": 11,
     "metadata": {},
     "output_type": "execute_result"
    }
   ],
   "source": [
    "##CHECK FOR NULL VALUES IN KEY COLUMNS\n",
    "check_sparkdf_not_nulls(sparkdf_garitos,['name','county','city','garito_kind'])"
   ]
  },
  {
   "cell_type": "markdown",
   "id": "absent-office",
   "metadata": {},
   "source": [
    "### 2.2.2.- Garitos table. Check for duplicate values."
   ]
  },
  {
   "cell_type": "code",
   "execution_count": 12,
   "id": "successful-platform",
   "metadata": {},
   "outputs": [
    {
     "data": {
      "text/plain": [
       "[Row(name='BURGER KING', county='valladolid', city='Valladolid', garito_kind='restaurantes', Total=8),\n",
       " Row(name='TELEPIZZA', county='valladolid', city='Valladolid', garito_kind='bares', Total=6),\n",
       " Row(name='GARCIA', county='león', city='León', garito_kind='bares', Total=5),\n",
       " Row(name='LA BODEGUILLA', county='león', city='León', garito_kind='bares', Total=5),\n",
       " Row(name='BURGER KING', county='burgos', city='Burgos', garito_kind='restaurantes', Total=4),\n",
       " Row(name='AVENIDA', county='valladolid', city='Valladolid', garito_kind='bares', Total=4),\n",
       " Row(name='TELEPIZZA', county='burgos', city='Burgos', garito_kind='bares', Total=4),\n",
       " Row(name='BERTIZ', county='burgos', city='Burgos', garito_kind='cafeterias', Total=4),\n",
       " Row(name='PAN EL VISO', county='zamora', city='Zamora', garito_kind='cafeterias', Total=4),\n",
       " Row(name='BURGER KING', county='león', city='León', garito_kind='restaurantes', Total=4)]"
      ]
     },
     "execution_count": 12,
     "metadata": {},
     "output_type": "execute_result"
    }
   ],
   "source": [
    "##WE SHOULD NOT CHECK FOR DUPES AS DUPES ARE PERFECTLY OK\n",
    "## THey mean several bar/restaurant/cafes with the same name in a given city\n",
    "## This happens with Burguer King and similars. \n",
    "## An example here:\n",
    "\n",
    "a=sparkdf_garitos.select(\"*\").groupBy('name','county','city','garito_kind') \\\n",
    "    .agg(count(\"name\").alias(\"Total\")) \\\n",
    "    .orderBy(\"Total\", ascending=False)\n",
    "\n",
    "a.head(10)"
   ]
  },
  {
   "cell_type": "markdown",
   "id": "informative-anthony",
   "metadata": {},
   "source": [
    "### 2.2.3.- Garitos table Wrangling: we can have null postal codes, but we'll try to guess and fill them when possible."
   ]
  },
  {
   "cell_type": "code",
   "execution_count": 13,
   "id": "solved-shell",
   "metadata": {},
   "outputs": [
    {
     "name": "stdout",
     "output_type": "stream",
     "text": [
      "Checking DataFrame. I found null values in column postal_code\n"
     ]
    },
    {
     "data": {
      "text/plain": [
       "False"
      ]
     },
     "execution_count": 13,
     "metadata": {},
     "output_type": "execute_result"
    }
   ],
   "source": [
    "## GUESS NULL POSTAL CODE WHEN POSSIBLE AND COMPLETE THESE ROWS\n",
    "\n",
    "# We could have rows with null postal codes. IN these cases we'll try to find the one corresponding with\n",
    "# the county and city in the postal code table (when there is just one for that city) and\n",
    "# we'll complete the row with the postal code\n",
    "\n",
    "check_sparkdf_not_nulls(sparkdf_garitos,['postal_code'])"
   ]
  },
  {
   "cell_type": "code",
   "execution_count": 14,
   "id": "electoral-trunk",
   "metadata": {},
   "outputs": [
    {
     "data": {
      "text/plain": [
       "[Row(name='SILVAN', address=None, county='león', city='Torre del Bierzo', postal_code=None, garito_kind='bares'),\n",
       " Row(name='AVENIDA', address='GONZÁLEZ DE LAMA, 10', county='león', city='León', postal_code=None, garito_kind='bares')]"
      ]
     },
     "execution_count": 14,
     "metadata": {},
     "output_type": "execute_result"
    }
   ],
   "source": [
    "# We found rows with null postal_code so we put all these rows in a spark dataframe\n",
    "\n",
    "sparkdf_garitos_pc_null=sparkdf_garitos.select(\n",
    "            '*'\n",
    "            ).where(col('postal_code').isNull())\n",
    "\n",
    "sparkdf_garitos=sparkdf_garitos.select(\n",
    "            '*'\n",
    "            ).where(col('postal_code').isNotNull())\n",
    "\n",
    "sparkdf_garitos_pc_null.head(2)"
   ]
  },
  {
   "cell_type": "code",
   "execution_count": 15,
   "id": "built-error",
   "metadata": {},
   "outputs": [
    {
     "name": "stdout",
     "output_type": "stream",
     "text": [
      "+----------------+------------+-----------+\n",
      "|            city|postal_codes|postal_code|\n",
      "+----------------+------------+-----------+\n",
      "|          Abades|           1|      40141|\n",
      "|Abarca de Campos|           1|      34338|\n",
      "|          Abejar|           1|      42146|\n",
      "|         Abusejo|           1|      37640|\n",
      "|  Adrada de Haza|           1|      09462|\n",
      "+----------------+------------+-----------+\n",
      "only showing top 5 rows\n",
      "\n"
     ]
    }
   ],
   "source": [
    "# We extract the list of cities with unique postal code (The only ones we can use to guess postal codes)\n",
    "\n",
    "cities_with_unique_postal_codes=sparkdf_postal_codes.select(\n",
    "            'city',\n",
    "            'postal_code'\n",
    "            ).groupBy(\"city\") \\\n",
    "            .agg(count('postal_code').alias('postal_codes'),\n",
    "                 max('postal_code').alias('postal_code')) \\\n",
    "            .orderBy('city', ascending=True) \\\n",
    "            .where(\"postal_codes=1\")\n",
    "\n",
    "\n",
    "cities_with_unique_postal_codes.show(5)   \n"
   ]
  },
  {
   "cell_type": "code",
   "execution_count": 16,
   "id": "subsequent-constitutional",
   "metadata": {},
   "outputs": [
    {
     "name": "stdout",
     "output_type": "stream",
     "text": [
      "+--------------------+--------------------+---------+--------------------+-----------+-----------+\n",
      "|                name|             address|   county|                city|postal_code|garito_kind|\n",
      "+--------------------+--------------------+---------+--------------------+-----------+-----------+\n",
      "|              SILVAN|                null|     león|    Torre del Bierzo|       null|      bares|\n",
      "|             AVENIDA|GONZÁLEZ DE LAMA, 10|     león|                León|       null|      bares|\n",
      "|               VIFER| MAESTRO URIARTE, 25|     león|                León|       null|      bares|\n",
      "|           LA CHISPA|C/ OBISPO MONTOYA...| palencia|             Grijota|      34192|      bares|\n",
      "|           PUB EBANO|C/ JUAN FERRERO N...|     león|         Valderrueda|       null|      bares|\n",
      "|              CASINO|PLAZA DE LA LEÑA,...|     león|          Villamañán|       null|      bares|\n",
      "|              FARINA|C/ ANTONIO ALMARZ...|    ávila|               Ávila|       null|      bares|\n",
      "|    MESON LA BARRACA|AVDA. RODRÍGUEZ P...|     león|                León|       null|      bares|\n",
      "|              AGUEDA|CAMINO DEL PEREGR...|     león|                León|       null|      bares|\n",
      "|         LA PETENERA|     CL/ CALZADAS, 1|   burgos|              Burgos|       null|      bares|\n",
      "|           LA VUELTA|TRAVESIA DE SANTA...|    ávila|Hoyo de Pinares (El)|       null|      bares|\n",
      "|               OASIS|      LA VICTORIA, 4|     león|Valencia de Don Juan|       null|      bares|\n",
      "|            LA PLAZA|     PZA. MAYOR, S/N|     león|   Vegas del Condado|       null|      bares|\n",
      "|              RAMSES|CARRETERA ESTACIO...|    ávila|         Sanchidrián|       null|      bares|\n",
      "|MERCADO REGIONAL ...|CTRA. BURGOS-PORT...|salamanca|           Salamanca|       null|      bares|\n",
      "+--------------------+--------------------+---------+--------------------+-----------+-----------+\n",
      "\n",
      "None\n"
     ]
    }
   ],
   "source": [
    "# Completing postalcodeless garitos with postal code when there is only one / city\n",
    "\n",
    "sparkdf_garitos_pc_fixed = sparkdf_garitos_pc_null.join(\n",
    "    cities_with_unique_postal_codes,\n",
    "    sparkdf_garitos_pc_null.city == cities_with_unique_postal_codes.city,\n",
    "    'left').select(\n",
    "        'name',\n",
    "        'address',\n",
    "        'county',\n",
    "        sparkdf_garitos_pc_null.city,\n",
    "        cities_with_unique_postal_codes.postal_code,\n",
    "        'garito_kind'\n",
    "    )\n",
    "\n",
    "print(sparkdf_garitos_pc_fixed.show(15))\n",
    "# (It seems we were just able to fix 1)\n"
   ]
  },
  {
   "cell_type": "code",
   "execution_count": 17,
   "id": "refined-crawford",
   "metadata": {},
   "outputs": [],
   "source": [
    "sparkdf_garitos = (\n",
    "        sparkdf_garitos.union(sparkdf_garitos_pc_fixed)\n",
    "    )"
   ]
  },
  {
   "cell_type": "markdown",
   "id": "invisible-keeping",
   "metadata": {},
   "source": [
    "### 2.2.4.- Garitos table. Example Queries."
   ]
  },
  {
   "cell_type": "code",
   "execution_count": 18,
   "id": "anonymous-cleveland",
   "metadata": {},
   "outputs": [
    {
     "data": {
      "text/html": [
       "<div>\n",
       "<style scoped>\n",
       "    .dataframe tbody tr th:only-of-type {\n",
       "        vertical-align: middle;\n",
       "    }\n",
       "\n",
       "    .dataframe tbody tr th {\n",
       "        vertical-align: top;\n",
       "    }\n",
       "\n",
       "    .dataframe thead th {\n",
       "        text-align: right;\n",
       "    }\n",
       "</style>\n",
       "<table border=\"1\" class=\"dataframe\">\n",
       "  <thead>\n",
       "    <tr style=\"text-align: right;\">\n",
       "      <th></th>\n",
       "      <th>name</th>\n",
       "      <th>address</th>\n",
       "      <th>county</th>\n",
       "      <th>city</th>\n",
       "      <th>postal_code</th>\n",
       "      <th>garito_kind</th>\n",
       "    </tr>\n",
       "  </thead>\n",
       "  <tbody>\n",
       "    <tr>\n",
       "      <th>count</th>\n",
       "      <td>22487</td>\n",
       "      <td>22426</td>\n",
       "      <td>22487</td>\n",
       "      <td>22487</td>\n",
       "      <td>22473</td>\n",
       "      <td>22487</td>\n",
       "    </tr>\n",
       "    <tr>\n",
       "      <th>unique</th>\n",
       "      <td>16100</td>\n",
       "      <td>21087</td>\n",
       "      <td>9</td>\n",
       "      <td>1730</td>\n",
       "      <td>2025</td>\n",
       "      <td>3</td>\n",
       "    </tr>\n",
       "    <tr>\n",
       "      <th>top</th>\n",
       "      <td>LA PLAZA</td>\n",
       "      <td>PLAZA MAYOR, 2</td>\n",
       "      <td>león</td>\n",
       "      <td>Valladolid</td>\n",
       "      <td>24003</td>\n",
       "      <td>bares</td>\n",
       "    </tr>\n",
       "    <tr>\n",
       "      <th>freq</th>\n",
       "      <td>87</td>\n",
       "      <td>20</td>\n",
       "      <td>4942</td>\n",
       "      <td>2668</td>\n",
       "      <td>369</td>\n",
       "      <td>15080</td>\n",
       "    </tr>\n",
       "  </tbody>\n",
       "</table>\n",
       "</div>"
      ],
      "text/plain": [
       "            name         address county        city postal_code garito_kind\n",
       "count      22487           22426  22487       22487       22473       22487\n",
       "unique     16100           21087      9        1730        2025           3\n",
       "top     LA PLAZA  PLAZA MAYOR, 2   león  Valladolid       24003       bares\n",
       "freq          87              20   4942        2668         369       15080"
      ]
     },
     "execution_count": 18,
     "metadata": {},
     "output_type": "execute_result"
    }
   ],
   "source": [
    "# I want to practice with both dataframes and sparkdfs\n",
    "# df shows here that there are addressless and postal_codeless\n",
    "# garitos (garito= bar | restaurant | cafe) but no countyless or cityless\n",
    "df=sparkdf_garitos.toPandas()\n",
    "df.describe(include='all')"
   ]
  },
  {
   "cell_type": "code",
   "execution_count": 19,
   "id": "prompt-convert",
   "metadata": {},
   "outputs": [
    {
     "data": {
      "text/plain": [
       "[Row(name='LA PLAZA', Total=87),\n",
       " Row(name='AVENIDA', Total=55),\n",
       " Row(name='PLAZA', Total=47),\n",
       " Row(name='CENTRAL', Total=43),\n",
       " Row(name='TELEPIZZA', Total=41),\n",
       " Row(name='EL PASO', Total=36),\n",
       " Row(name='PISCINAS MUNICIPALES', Total=35),\n",
       " Row(name='LA TABERNA', Total=32),\n",
       " Row(name='EL RINCON', Total=32),\n",
       " Row(name='BURGER KING', Total=31),\n",
       " Row(name='CASTILLA', Total=31),\n",
       " Row(name='LA TERRAZA', Total=31),\n",
       " Row(name='EL CRUCE', Total=30),\n",
       " Row(name='LOS ARCOS', Total=30),\n",
       " Row(name='LA PARADA', Total=29),\n",
       " Row(name='EL PUENTE', Total=28),\n",
       " Row(name='LA BODEGUILLA', Total=27),\n",
       " Row(name='LA FUENTE', Total=27),\n",
       " Row(name='EL MOLINO', Total=23),\n",
       " Row(name='LOS ANGELES', Total=23),\n",
       " Row(name='MANOLO', Total=22),\n",
       " Row(name='EL PARQUE', Total=22),\n",
       " Row(name='PISCINA MUNICIPAL', Total=21),\n",
       " Row(name='LA CASONA', Total=21),\n",
       " Row(name='EL CASTILLO', Total=21),\n",
       " Row(name='LAS PISCINAS', Total=21),\n",
       " Row(name='LA BODEGA', Total=21),\n",
       " Row(name='LA POSADA', Total=20),\n",
       " Row(name='EL REFUGIO', Total=20),\n",
       " Row(name='PACO', Total=19)]"
      ]
     },
     "execution_count": 19,
     "metadata": {},
     "output_type": "execute_result"
    }
   ],
   "source": [
    "# Playing with Spark Data Frames. Most repeated names.\n",
    "garitos_name_top = sparkdf_garitos \\\n",
    "    .select(\"name\",'address') \\\n",
    "    .groupBy(\"name\") \\\n",
    "    .agg(count(\"address\").alias(\"Total\")) \\\n",
    "    .orderBy(\"Total\", ascending=False)\n",
    "garitos_name_top.head(30)\n"
   ]
  },
  {
   "cell_type": "code",
   "execution_count": 20,
   "id": "afraid-azerbaijan",
   "metadata": {},
   "outputs": [
    {
     "data": {
      "text/plain": [
       "[Row(name='BURGER KING', Total=27),\n",
       " Row(name='TELEPIZZA', Total=18),\n",
       " Row(name='LA POSADA', Total=12),\n",
       " Row(name='EL MOLINO', Total=10),\n",
       " Row(name='LA CASONA', Total=10),\n",
       " Row(name='LA TABERNA', Total=10),\n",
       " Row(name='AVENIDA', Total=10),\n",
       " Row(name=\"FOSTER'S HOLLYWOOD\", Total=9),\n",
       " Row(name='EL CRUCE', Total=8),\n",
       " Row(name='CASTILLA', Total=7),\n",
       " Row(name=\"DOMINO'S PIZZA\", Total=7),\n",
       " Row(name='PLAZA', Total=7),\n",
       " Row(name=\"MC DONALD'S\", Total=7),\n",
       " Row(name='LA PARADA', Total=7),\n",
       " Row(name='LOS ARCOS', Total=7)]"
      ]
     },
     "execution_count": 20,
     "metadata": {},
     "output_type": "execute_result"
    }
   ],
   "source": [
    "# Playing with Spark Data Frames. \n",
    "# Most repeated restaurant names\n",
    "\n",
    "restaurante_name_top = sparkdf_garitos \\\n",
    "    .select(\"name\",'address','garito_kind') \\\n",
    "    .where(\"garito_kind='restaurantes'\") \\\n",
    "    .groupBy(\"name\",) \\\n",
    "    .agg(count(\"address\").alias(\"Total\")) \\\n",
    "    .orderBy(\"Total\", ascending=False)\n",
    "\n",
    "restaurante_name_top.head(15)\n",
    "\n"
   ]
  },
  {
   "cell_type": "code",
   "execution_count": 22,
   "id": "minute-sheep",
   "metadata": {},
   "outputs": [
    {
     "data": {
      "text/plain": [
       "[Row(county='león', Total=317),\n",
       " Row(county='salamanca', Total=315),\n",
       " Row(county='valladolid', Total=230),\n",
       " Row(county='burgos', Total=179),\n",
       " Row(county='ávila', Total=141),\n",
       " Row(county='zamora', Total=91),\n",
       " Row(county='segovia', Total=59),\n",
       " Row(county='soria', Total=59),\n",
       " Row(county='palencia', Total=54)]"
      ]
     },
     "execution_count": 22,
     "metadata": {},
     "output_type": "execute_result"
    }
   ],
   "source": [
    "# Playing with Spark Data Frames. \n",
    "# Counties order by number of cafeterias \n",
    "\n",
    "cafe_name_top = sparkdf_garitos \\\n",
    "    .select(\"county\",'address') \\\n",
    "    .where(\"garito_kind='cafeterias'\") \\\n",
    "    .groupBy(\"county\",) \\\n",
    "    .agg(count(\"address\").alias(\"Total\")) \\\n",
    "    .orderBy(\"Total\", ascending=False)\n",
    "\n",
    "cafe_name_top.head(10)"
   ]
  },
  {
   "cell_type": "code",
   "execution_count": 25,
   "id": "smaller-trinity",
   "metadata": {},
   "outputs": [
    {
     "data": {
      "text/plain": [
       "[Row(city='Burgos', cafes=102, bars=765, restaurants=244, total=1110),\n",
       " Row(city='Aranda de Duero', cafes=19, bars=168, restaurants=62, total=249),\n",
       " Row(city='Miranda de Ebro', cafes=14, bars=177, restaurants=42, total=233),\n",
       " Row(city='Medina de Pomar', cafes=3, bars=67, restaurants=20, total=90),\n",
       " Row(city='Villarcayo de Merindad de Castilla la Vieja', cafes=7, bars=42, restaurants=16, total=65),\n",
       " Row(city='Briviesca', cafes=3, bars=42, restaurants=13, total=58),\n",
       " Row(city='Lerma', cafes=2, bars=19, restaurants=22, total=43),\n",
       " Row(city='Valle de Mena', cafes=2, bars=29, restaurants=13, total=41),\n",
       " Row(city='Espinosa de los Monteros', cafes=0, bars=25, restaurants=11, total=36),\n",
       " Row(city='Salas de los Infantes', cafes=0, bars=20, restaurants=9, total=29),\n",
       " Row(city='Roa', cafes=1, bars=18, restaurants=6, total=25),\n",
       " Row(city='Belorado', cafes=3, bars=12, restaurants=10, total=25),\n",
       " Row(city='Quintanar de la Sierra', cafes=0, bars=18, restaurants=7, total=24),\n",
       " Row(city='Melgar de Fernamental', cafes=0, bars=17, restaurants=6, total=23),\n",
       " Row(city='Valle de Sedano', cafes=0, bars=8, restaurants=14, total=21),\n",
       " Row(city='Huerta de Rey', cafes=0, bars=14, restaurants=5, total=19),\n",
       " Row(city='Valle de Tobalina', cafes=0, bars=10, restaurants=8, total=18),\n",
       " Row(city='Covarrubias', cafes=0, bars=9, restaurants=9, total=18),\n",
       " Row(city='Villadiego', cafes=0, bars=15, restaurants=5, total=18),\n",
       " Row(city='Trespaderne', cafes=3, bars=12, restaurants=2, total=17),\n",
       " Row(city='Oña', cafes=0, bars=10, restaurants=6, total=16),\n",
       " Row(city='Valle de Valdebezana', cafes=0, bars=9, restaurants=8, total=14),\n",
       " Row(city='Merindad de Montija', cafes=0, bars=10, restaurants=7, total=14),\n",
       " Row(city='Castrojeriz', cafes=1, bars=7, restaurants=7, total=14),\n",
       " Row(city='Ibeas de Juarros', cafes=0, bars=7, restaurants=5, total=12),\n",
       " Row(city='Pancorbo', cafes=1, bars=7, restaurants=4, total=12),\n",
       " Row(city='Valle de Losa', cafes=0, bars=8, restaurants=3, total=11),\n",
       " Row(city='Santo Domingo de Silos', cafes=0, bars=4, restaurants=7, total=11),\n",
       " Row(city='Villalmanzo', cafes=1, bars=5, restaurants=5, total=11),\n",
       " Row(city='Merindad de Valdeporres', cafes=2, bars=6, restaurants=4, total=10)]"
      ]
     },
     "execution_count": 25,
     "metadata": {},
     "output_type": "execute_result"
    }
   ],
   "source": [
    "# Playing with Spark Data Frames. \n",
    "# Order cities in a county (Burgos) by numero of garitos, but showing each type\n",
    "burgos_top = sparkdf_garitos \\\n",
    "    .select(\"city\",'address',\n",
    "           when(sparkdf_garitos['garito_kind'] == 'cafeterias', 1).alias(\"is_cafe\"),\n",
    "           when(sparkdf_garitos['garito_kind'] == 'bares', 1).alias(\"is_bar\"),\n",
    "           when(sparkdf_garitos['garito_kind'] == 'restaurantes', 1).alias(\"is_restaurante\")\n",
    "           ) \\\n",
    "    .where(\"county='burgos'\") \\\n",
    "    .groupBy(\"city\") \\\n",
    "    .agg(count(\"is_cafe\").alias(\"cafes\"), \n",
    "         count(\"is_bar\").alias(\"bars\"),\n",
    "         count(\"is_restaurante\").alias(\"restaurants\"),\n",
    "         count(\"address\").alias(\"total\"),\n",
    "        ) \\\n",
    "    .orderBy(\"Total\", ascending=False)\n",
    "\n",
    "\n",
    "burgos_top.head(30)"
   ]
  },
  {
   "cell_type": "markdown",
   "id": "successful-discussion",
   "metadata": {},
   "source": [
    "### 2.2.5.- Garitos table --> Parquet TABLE."
   ]
  },
  {
   "cell_type": "code",
   "execution_count": 26,
   "id": "relative-nylon",
   "metadata": {},
   "outputs": [],
   "source": [
    "## CLEANED UP GARITOS TO PARQUET \n",
    "toparquet_by_county_and_postcode(spark_session,local_parquet_path  + 'garitos/',sparkdf_garitos)\n"
   ]
  },
  {
   "cell_type": "markdown",
   "id": "disciplinary-scanning",
   "metadata": {},
   "source": [
    "# 4.- SOCIAL TABLE\n",
    "Social comprise any kind of associations, this including the special kind called sports associations (which information is in a different table / csv file). "
   ]
  },
  {
   "cell_type": "markdown",
   "id": "therapeutic-terminology",
   "metadata": {},
   "source": [
    "## 4.1.- Gather associations and sport clubs tables and puting them together into a SparkDF for Social.\n",
    "These 2 files share a similar schema"
   ]
  },
  {
   "cell_type": "code",
   "execution_count": 27,
   "id": "going-karen",
   "metadata": {},
   "outputs": [
    {
     "name": "stdout",
     "output_type": "stream",
     "text": [
      "social Spark Data Frame was created; \n",
      "  [Row(name='ASOCIACION DE JUBILADOS Y PENSIONISTAS VIRGEN DE LA PIEDAD', address='c/ Las Parras, 89', county='avila', city='EL BARRACO', postal_code='05110', sports='N/A', social_kind='association'), Row(name='PEÑA SAN MARCOS ', address='DE LAS FUENTES 10 ', county='avila', city='EL BARRACO', postal_code='05000', sports='N/A', social_kind='association')]\n"
     ]
    },
    {
     "data": {
      "text/plain": [
       "[Row(name='ASOCIACION DE JUBILADOS Y PENSIONISTAS VIRGEN DE LA PIEDAD', address='c/ Las Parras, 89', county='avila', city='EL BARRACO', postal_code='05110', sports='N/A', social_kind='association'),\n",
       " Row(name='PEÑA SAN MARCOS ', address='DE LAS FUENTES 10 ', county='avila', city='EL BARRACO', postal_code='05000', sports='N/A', social_kind='association'),\n",
       " Row(name='ASOCIACION DE JUBILADOS Y PENSIONISTAS DE SAN JUAN DEL OLMO SAN JUAN BAUTISTA', address='C/General Franco s/nº', county='avila', city='SAN JUAN DEL OLMO', postal_code='05145', sports='N/A', social_kind='association'),\n",
       " Row(name='ASOCIACION DEPORTIVO CULTURAL DE CAZADORES LA PICOTA', address='C/Piñonera nº 18', county='avila', city='CEBREROS', postal_code='05260', sports='N/A', social_kind='association'),\n",
       " Row(name='ASOCIACION CULTURAL -FORO 93-', address='AVDA. DE JOSE ANTONIO, 32 - 6', county='avila', city='EL HOYO DE PINARES', postal_code='05250', sports='N/A', social_kind='association')]"
      ]
     },
     "execution_count": 27,
     "metadata": {},
     "output_type": "execute_result"
    }
   ],
   "source": [
    "## One from s3 (To test) ant the other from local folder\n",
    "\n",
    "sparkdf_social=create_social(spark_session,local_path,data_asociaciones, data_clubes_deportivos) \n",
    "\n",
    "sparkdf_social.head(5)\n"
   ]
  },
  {
   "cell_type": "markdown",
   "id": "united-steam",
   "metadata": {},
   "source": [
    "## 4.2.- Social table Quality Check and Wrangle/Cleanup"
   ]
  },
  {
   "cell_type": "markdown",
   "id": "simplified-reach",
   "metadata": {},
   "source": [
    "### 4.2.1.- Social table. Check for null values in key columns"
   ]
  },
  {
   "cell_type": "code",
   "execution_count": 28,
   "id": "critical-syndicate",
   "metadata": {},
   "outputs": [
    {
     "name": "stdout",
     "output_type": "stream",
     "text": [
      "Checking DataFrame. No null values found in column name\n",
      "Checking DataFrame. No null values found in column county\n",
      "Checking DataFrame. No null values found in column city\n",
      "Checking DataFrame. No null values found in column social_kind\n"
     ]
    },
    {
     "data": {
      "text/plain": [
       "True"
      ]
     },
     "execution_count": 28,
     "metadata": {},
     "output_type": "execute_result"
    }
   ],
   "source": [
    "##CHECK FOR NULL VALUES IN KEY COLUMNS\n",
    "check_sparkdf_not_nulls(sparkdf_social,['name','county','city','social_kind'])"
   ]
  },
  {
   "cell_type": "markdown",
   "id": "european-mining",
   "metadata": {},
   "source": [
    "### 4.2.2.-Social table. Check for duplicate values and WRANGLE result."
   ]
  },
  {
   "cell_type": "code",
   "execution_count": 29,
   "id": "connected-kinase",
   "metadata": {},
   "outputs": [
    {
     "name": "stdout",
     "output_type": "stream",
     "text": [
      "[Row(name='ASOCIACION JUVENIL CULTURAL 15 DE AGOSTO ', county='segovia', city='MOZONCILLO', social_kind='association', count=2), Row(name='ASOCIACIÓN CÍRCULO PSICOANALÍTICO DE LEÓN', county='león', city='LEÓN', social_kind='association', count=2), Row(name='ASOCIACION JUVENIL EL RIO ', county='segovia', city='CARRASCAL DEL RÍO', social_kind='association', count=2), Row(name='ANULADO', county='zamora', city='ZAMORA', social_kind='sports_club', count=2), Row(name='ASOCIACIÓN CULTURAL LUCERNA', county='león', city='CARUCEDO', social_kind='association', count=2)]\n"
     ]
    }
   ],
   "source": [
    "##CHECK FOR REPEATED VALUES IN KEY COLUMNS\n",
    "# We can accept same name, even same name in same city (if it is a different kind\n",
    "# of association), but not same name / same city / same kind\n",
    "dupes=check_sparkdf_find_dupes(sparkdf_social,['name','county','city','social_kind'])\n",
    "\n",
    "print(dupes.head(15))"
   ]
  },
  {
   "cell_type": "code",
   "execution_count": 30,
   "id": "wanted-dispute",
   "metadata": {},
   "outputs": [
    {
     "name": "stdout",
     "output_type": "stream",
     "text": [
      "+-------+--------------------+----------+--------------------+-----------+--------------------+-----------+\n",
      "|   name|             address|    county|                city|postal_code|              sports|social_kind|\n",
      "+-------+--------------------+----------+--------------------+-----------+--------------------+-----------+\n",
      "|ANULADO|                 XXX|valladolid|          VALLADOLID|      47000|FU001#FÚTBOL - FÚ...|sports_club|\n",
      "|ANULADO|C/ CORUÑA DEL CON...|    burgos|     ARANDA DE DUERO|       9400|FU001#FÚTBOL - FÚ...|sports_club|\n",
      "|ANULADO|                JJJJ|  palencia|CAMPORREDONDO DE ...|      34888|CI003#CICLISMO - ...|sports_club|\n",
      "|ANULADO|      Avda principal|     ávila|NAVAS DEL MARQUES...|       5230|CA001#CAZA - PICH...|sports_club|\n",
      "|ANULADO|           XXXXXXXXX| salamanca|           SALAMANCA|      37008|MT018#MOTOCICLISM...|sports_club|\n",
      "|ANULADO|C/ CARTAJENA DE I...|    zamora| MORALES DE VALVERDE|      49697|CA001#CAZA - PICH...|sports_club|\n",
      "|ANULADO|    XXXXXXXXXXXXXXXX|      león|VELILLA DE LA REI...|      24272|BC001#BALONCESTO ...|sports_club|\n",
      "|ANULADO|     VVVVVVVVVVVVVVV|    zamora|              ZAMORA|      49166|GI001#GIMNASIA - ...|sports_club|\n",
      "|ANULADO|                 XXX|     ávila|            CASILLAS|       5428|FU001#FÚTBOL - FÚ...|sports_club|\n",
      "|ANULADO|                   C|    zamora|              ZAMORA|      49025|BM001#BALONMANO -...|sports_club|\n",
      "|ANULADO|CALLE DE LA ADELF...|      león|TROBAJO DEL CAMIN...|      24010|AT001#ATLETISMO -...|sports_club|\n",
      "+-------+--------------------+----------+--------------------+-----------+--------------------+-----------+\n",
      "\n"
     ]
    }
   ],
   "source": [
    "## We see there are several duplicates, one of them name=\"ANULADO\" (Means voided)\n",
    "## makes us think we should find other ANULADO/VOIDED and remove all of them\n",
    "\n",
    "sparkdf_social_voided = sparkdf_social.select('*').where(\"name='ANULADO'\").show()"
   ]
  },
  {
   "cell_type": "code",
   "execution_count": 31,
   "id": "victorian-integration",
   "metadata": {},
   "outputs": [],
   "source": [
    "# changing name to ANULADO instead of removing the item seems a common practice in the sports_club \n",
    "# datasource. We get rid of all of them\n",
    "\n",
    "sparkdf_social = sparkdf_social.select('*').where(\"name <> 'ANULADO'\")"
   ]
  },
  {
   "cell_type": "code",
   "execution_count": 32,
   "id": "arbitrary-dollar",
   "metadata": {},
   "outputs": [
    {
     "name": "stdout",
     "output_type": "stream",
     "text": [
      "Rows before removing duplicates 43738\n",
      "Rows after removing duplicates 43734\n"
     ]
    }
   ],
   "source": [
    "# Also, we want to remove other duplicates\n",
    "\n",
    "print('Rows before removing duplicates',sparkdf_social.count())\n",
    "sparkdf_social=sparkdf_social.dropDuplicates(['name','county','city','social_kind'])\n",
    "print('Rows after removing duplicates',sparkdf_social.count())\n"
   ]
  },
  {
   "cell_type": "markdown",
   "id": "neutral-richmond",
   "metadata": {},
   "source": [
    "### 4.2.3.- Social table Wrangling: check counties that are not valid. Guess those that can be guessed (soft typos) and remove the others.\n",
    "Note: There are some cases of wrong counties containing special characters (like Ñ) that spoils out the parquet table creation as it would end in a hardly descriptive error. "
   ]
  },
  {
   "cell_type": "code",
   "execution_count": 33,
   "id": "mexican-branch",
   "metadata": {},
   "outputs": [
    {
     "name": "stdout",
     "output_type": "stream",
     "text": [
      "Rows before removing duplicates 43734\n",
      "Rows after removing duplicates 43731\n"
     ]
    },
    {
     "data": {
      "text/plain": [
       "[Row(County='león'),\n",
       " Row(County='ávila'),\n",
       " Row(County='segovia'),\n",
       " Row(County='palencia'),\n",
       " Row(County='soria'),\n",
       " Row(County='burgos'),\n",
       " Row(County='zamora'),\n",
       " Row(County='valladolid'),\n",
       " Row(County='salamanca')]"
      ]
     },
     "execution_count": 33,
     "metadata": {},
     "output_type": "execute_result"
    }
   ],
   "source": [
    "# CHECK and remove wrong Counties as we are going to partition by county\n",
    "print('Rows before removing duplicates',sparkdf_social.count())\n",
    "sparkdf_social=clean_wrong_counties(sparkdf_social)\n",
    "print('Rows after removing duplicates',sparkdf_social.count())\n",
    "\n",
    "\n",
    "sparkdf_social.select(\"County\").distinct().head(80)\n"
   ]
  },
  {
   "cell_type": "markdown",
   "id": "welsh-inventory",
   "metadata": {},
   "source": [
    "### 4.2.4.- Social table --> Parquet TABLE."
   ]
  },
  {
   "cell_type": "code",
   "execution_count": 34,
   "id": "critical-participant",
   "metadata": {},
   "outputs": [],
   "source": [
    "\n",
    "## CLEANED UP SOCIAL TO PARQUET (LOCAL)\n",
    "toparquet_by_county_and_postcode(spark_session,local_parquet_path  + 'social/',sparkdf_social)"
   ]
  },
  {
   "cell_type": "code",
   "execution_count": 35,
   "id": "hungry-friendly",
   "metadata": {},
   "outputs": [],
   "source": [
    "## CLEANED UP SOCIAL TO PARQUET (S3)\n",
    "\n",
    "#bucket_name = 'raul-udacity'\n",
    "#bucket_parquet_path ='/parquet/'\n",
    "#Sparkdf_social.write.partitionBy(\"county\",\"postal_code\").parquet('s3a://'+bucket_name+bucket_parquet_path + \"social/\", mode=\"overwrite\")"
   ]
  },
  {
   "cell_type": "markdown",
   "id": "funky-albuquerque",
   "metadata": {},
   "source": [
    "### 4.2.5.- Example queries to SOCIAL"
   ]
  },
  {
   "cell_type": "code",
   "execution_count": 37,
   "id": "indirect-aging",
   "metadata": {},
   "outputs": [
    {
     "data": {
      "text/plain": [
       "[Row(sports='N/A', sport_associations=5423),\n",
       " Row(sports='', sport_associations=1102),\n",
       " Row(sports='CA013#CAZA - EDUCACIÓN CANINA#', sport_associations=385),\n",
       " Row(sports='CA005#CAZA - PERROS DE CAZA Y AGILITY#', sport_associations=385),\n",
       " Row(sports='CA001#CAZA - PICHON A BRAZO#', sport_associations=384),\n",
       " Row(sports='CA010#CAZA - CAZA FOTOGRAFICA Y VIDEO#', sport_associations=384),\n",
       " Row(sports='CA011#CAZA - COMPAK SPORTING#', sport_associations=384),\n",
       " Row(sports='CA009#CAZA - TIRO A CAZA LANZADA#', sport_associations=384),\n",
       " Row(sports='CA008#CAZA - CAZA CON ARCO#', sport_associations=384),\n",
       " Row(sports='CA006#CAZA - CETRERIA#', sport_associations=384),\n",
       " Row(sports='CA014#CAZA - CAZA DE BECADAS#', sport_associations=384),\n",
       " Row(sports='CA012#CAZA - PERDIZ CON RECLAMO#', sport_associations=384),\n",
       " Row(sports='CA004#CAZA - CAZA SAN HUBERTO#', sport_associations=384),\n",
       " Row(sports='CA003#CAZA - RECORRIDOS DE CAZA#', sport_associations=383),\n",
       " Row(sports='CA007#CAZA - PAJAROS DE CANTO#', sport_associations=383),\n",
       " Row(sports='CA002#CAZA - CAZA MENOR CON PERROS#', sport_associations=382),\n",
       " Row(sports='FU001#FÚTBOL - FÚTBOL#', sport_associations=160),\n",
       " Row(sports='FU002#FÚTBOL - FÚTBOL SALA#', sport_associations=152),\n",
       " Row(sports='CI003#CICLISMO - BICICLETA MONTAÑA (BTT)#', sport_associations=123),\n",
       " Row(sports='CI001#CICLISMO - CARRETERA#', sport_associations=121)]"
      ]
     },
     "execution_count": 37,
     "metadata": {},
     "output_type": "execute_result"
    }
   ],
   "source": [
    "## Sports / county\n",
    "# https://stackoverflow.com/questions/57066797/pyspark-dataframe-split-column-with-multiple-values-into-rows#57080133\n",
    "\n",
    "from pyspark.sql.functions import explode, regexp_replace, split\n",
    "\n",
    "out=sparkdf_social.withColumn(\n",
    "    \"sports\", \n",
    "    explode(split(col(\"sports\"), \"\\|\"))\n",
    ").where(\"county='burgos'\").select(\n",
    "    col('sports')\n",
    "    ).groupBy('sports').agg(count('sports').alias('sport_associations')) \\\n",
    "    .orderBy('sport_associations', ascending=False)\n",
    "\n",
    "\n",
    "\n",
    "out.head(20)"
   ]
  },
  {
   "cell_type": "markdown",
   "id": "elegant-garden",
   "metadata": {},
   "source": [
    "# 5.- CULTURAL TABLE\n",
    "\n",
    "Cultural comprise libraries (bibliotecas), museums (museos) and it could also include more cases in the future. \n",
    "To mention that these tables inputs **are in JSON**"
   ]
  },
  {
   "cell_type": "markdown",
   "id": "modular-avatar",
   "metadata": {},
   "source": [
    "## 5.1.- Gather libraries (bibliotecas), museums (museos) and puting them together into a SparkDF for Cultural.\n",
    "\n",
    "These 2 files share a similar schema\n"
   ]
  },
  {
   "cell_type": "code",
   "execution_count": 38,
   "id": "choice-granny",
   "metadata": {},
   "outputs": [],
   "source": [
    "sparkdf_cultural=create_cultural_from_json(spark_session,local_path,[data_bibliotecas,data_museos])"
   ]
  },
  {
   "cell_type": "code",
   "execution_count": 39,
   "id": "advisory-cornell",
   "metadata": {},
   "outputs": [
    {
     "data": {
      "text/plain": [
       "[Row(name='Biblioteca Pública Municipal de Valverde del Majano', address='C/ Real, 10', county='Segovia', city='Valverde del Majano', postal_code='40140', cultural_kind='Directorio de Bibliotecas de Castilla y León'),\n",
       " Row(name=\"Biblioteca Pública Municipal del Centro Cívico 'Río Vena' de Burgos\", address='C/ Juan de Padilla, s/n - Centro Cívico, 1ª planta', county='Burgos', city='Burgos', postal_code='09006', cultural_kind='Directorio de Bibliotecas de Castilla y León'),\n",
       " Row(name='Biblioteca Pública Municipal de Villanueva del Campo', address='C/ Federico Arrazola, s/n', county='Zamora', city='Villanueva del Campo', postal_code='49100', cultural_kind='Directorio de Bibliotecas de Castilla y León'),\n",
       " Row(name='Centro de Documentación Europea. Valladolid', address='Pza. de Sta. Cruz, 5, 3ª planta', county='Valladolid', city='Valladolid', postal_code='47002', cultural_kind='Directorio de Bibliotecas de Castilla y León'),\n",
       " Row(name='Biblioteca de la Universidad de León', address='Campus de Vegazana, s/n', county='León', city='León', postal_code='24071', cultural_kind='Directorio de Bibliotecas de Castilla y León'),\n",
       " Row(name='Biblioteca Pública Municipal de Cabrerizos', address='Avda. del Manzano, s/n', county='Salamanca', city='Cabrerizos', postal_code='37196', cultural_kind='Directorio de Bibliotecas de Castilla y León'),\n",
       " Row(name='Biblioteca Pública Municipal de Toral de los Vados', address='Plaza de la Estación, s/n', county='León', city='Toral de los Vados', postal_code='24560', cultural_kind='Directorio de Bibliotecas de Castilla y León'),\n",
       " Row(name='Biblioteca Pública de Burgos', address='Plaza San Juan, s/n', county='Burgos', city='Burgos', postal_code='09004', cultural_kind='Directorio de Bibliotecas de Castilla y León'),\n",
       " Row(name=\"Biblioteca Pública Municipal 'Francisco Pino'\", address=\"Centro Municipal 'José Luis Mosquera'. C/ Francisco Hernández Pacheco s/n\", county='Valladolid', city='Valladolid', postal_code='47014', cultural_kind='Directorio de Bibliotecas de Castilla y León'),\n",
       " Row(name='Biblioteca Pública Municipal  Candelaria-Bloques de Zamora', address='C/ Juan Sebastián Elcano, 10', county='Zamora', city='Zamora', postal_code='49020', cultural_kind='Directorio de Bibliotecas de Castilla y León')]"
      ]
     },
     "execution_count": 39,
     "metadata": {},
     "output_type": "execute_result"
    }
   ],
   "source": [
    "sparkdf_cultural.head(10)\n"
   ]
  },
  {
   "cell_type": "code",
   "execution_count": 40,
   "id": "adjustable-mexican",
   "metadata": {},
   "outputs": [
    {
     "data": {
      "text/plain": [
       "DataFrame[summary: string, name: string, address: string, county: string, city: string, postal_code: string, cultural_kind: string]"
      ]
     },
     "execution_count": 40,
     "metadata": {},
     "output_type": "execute_result"
    }
   ],
   "source": [
    "sparkdf_cultural.describe()\n"
   ]
  },
  {
   "cell_type": "markdown",
   "id": "beneficial-block",
   "metadata": {},
   "source": [
    "## 5.2.- Cultural table Quality Checks and Wrangle/Cleanup"
   ]
  },
  {
   "cell_type": "markdown",
   "id": "ideal-colorado",
   "metadata": {},
   "source": [
    "### 5.2.1.- Cultural table. Check for null values in key columns"
   ]
  },
  {
   "cell_type": "code",
   "execution_count": 41,
   "id": "premium-popularity",
   "metadata": {},
   "outputs": [
    {
     "name": "stdout",
     "output_type": "stream",
     "text": [
      "Checking DataFrame. No null values found in column name\n",
      "Checking DataFrame. No null values found in column county\n",
      "Checking DataFrame. No null values found in column city\n",
      "Checking DataFrame. No null values found in column cultural_kind\n"
     ]
    },
    {
     "data": {
      "text/plain": [
       "True"
      ]
     },
     "execution_count": 41,
     "metadata": {},
     "output_type": "execute_result"
    }
   ],
   "source": [
    "##CHECK FOR NULL VALUES IN KEY COLUMNS\n",
    "check_sparkdf_not_nulls(sparkdf_cultural,['name','county','city','cultural_kind'])"
   ]
  },
  {
   "cell_type": "markdown",
   "id": "vanilla-madrid",
   "metadata": {},
   "source": [
    "### 5.2.2.-Cultural table. Check for duplicate values and WRANGLE result."
   ]
  },
  {
   "cell_type": "code",
   "execution_count": 42,
   "id": "laden-source",
   "metadata": {},
   "outputs": [
    {
     "name": "stdout",
     "output_type": "stream",
     "text": [
      "[Row(name='Biblioteca Pública Municipal de Ávila', county='Ávila', city='Ávila', cultural_kind='Directorio de Bibliotecas de Castilla y León', count=3), Row(name='Museo de la Industria Harinera de Castilla y León (MIHACALE)', county='León', city='Gordoncillo', cultural_kind='Directorio de Museos de Castilla y León', count=2)]\n"
     ]
    }
   ],
   "source": [
    "##CHECK FOR REPEATED VALUES IN KEY COLUMNS\n",
    "# We can accept same name, even same name in same city (if it is a different kind\n",
    "# of association), but not same name / same city / same kind\n",
    "dupes=check_sparkdf_find_dupes(sparkdf_cultural,['name','county','city','cultural_kind'])\n",
    "\n",
    "print(dupes.head(15))"
   ]
  },
  {
   "cell_type": "code",
   "execution_count": 43,
   "id": "induced-porcelain",
   "metadata": {},
   "outputs": [
    {
     "name": "stdout",
     "output_type": "stream",
     "text": [
      "[]\n"
     ]
    }
   ],
   "source": [
    "# In this case, they are city libraries with the same name and in the same city, but different address \n",
    "# meaning the library has 3 buildings / offices\n",
    "# So I decide not to remove duplicates (Address is different)\n",
    "\n",
    "dupes=check_sparkdf_find_dupes(sparkdf_cultural,['name','address','county','city','cultural_kind'])\n",
    "print(dupes.head(15))"
   ]
  },
  {
   "cell_type": "markdown",
   "id": "innovative-cooking",
   "metadata": {},
   "source": [
    "### 5.2.3.- Cultural table Wrangling: check counties that are not valid. Guess those that can be guessed (soft typos) and remove the others.\n",
    "Note: There are some cases of wrong counties containing special characters (like Ñ) that spoils out the parquet table creation as it would end in a hardly descriptive error. "
   ]
  },
  {
   "cell_type": "code",
   "execution_count": 44,
   "id": "entertaining-boost",
   "metadata": {},
   "outputs": [
    {
     "name": "stdout",
     "output_type": "stream",
     "text": [
      "Rows before removing duplicates 828\n",
      "Rows after removing duplicates 828\n"
     ]
    },
    {
     "data": {
      "text/plain": [
       "[Row(name='Biblioteca Pública Municipal de Valverde del Majano', address='C/ Real, 10', county='segovia', city='Valverde del Majano', postal_code='40140', cultural_kind='Directorio de Bibliotecas de Castilla y León'),\n",
       " Row(name=\"Biblioteca Pública Municipal del Centro Cívico 'Río Vena' de Burgos\", address='C/ Juan de Padilla, s/n - Centro Cívico, 1ª planta', county='burgos', city='Burgos', postal_code='09006', cultural_kind='Directorio de Bibliotecas de Castilla y León'),\n",
       " Row(name='Biblioteca Pública Municipal de Villanueva del Campo', address='C/ Federico Arrazola, s/n', county='zamora', city='Villanueva del Campo', postal_code='49100', cultural_kind='Directorio de Bibliotecas de Castilla y León')]"
      ]
     },
     "execution_count": 44,
     "metadata": {},
     "output_type": "execute_result"
    }
   ],
   "source": [
    "# CHECK and remove wrong Counties as we are going to partition by county\n",
    "print('Rows before removing duplicates',sparkdf_cultural.count())\n",
    "sparkdf_cultural=clean_wrong_counties(sparkdf_cultural)\n",
    "print('Rows after removing duplicates',sparkdf_cultural.count())\n",
    "sparkdf_cultural.head(3)"
   ]
  },
  {
   "cell_type": "markdown",
   "id": "brief-positive",
   "metadata": {},
   "source": [
    "### 5.2.4.- Cultural table --> Parquet TABLE."
   ]
  },
  {
   "cell_type": "code",
   "execution_count": 45,
   "id": "genuine-hospital",
   "metadata": {},
   "outputs": [],
   "source": [
    "## CLEANED UP CULTURAL TO PARQUET (LOCAL)\n",
    "toparquet_by_county_and_postcode(spark_session,local_parquet_path  + 'cultural/',sparkdf_cultural)"
   ]
  },
  {
   "cell_type": "markdown",
   "id": "western-first",
   "metadata": {},
   "source": [
    "### 5.2.5.- Example queries to CULTURAL"
   ]
  },
  {
   "cell_type": "code",
   "execution_count": 48,
   "id": "other-shareware",
   "metadata": {},
   "outputs": [
    {
     "data": {
      "text/plain": [
       "[Row(county='valladolid', city='Valladolid', museums=25, libraries=36, total=61),\n",
       " Row(county='burgos', city='Burgos', museums=11, libraries=26, total=37),\n",
       " Row(county='león', city='León', museums=13, libraries=14, total=27),\n",
       " Row(county='salamanca', city='Salamanca', museums=17, libraries=10, total=27),\n",
       " Row(county='ávila', city='Ávila', museums=12, libraries=10, total=22),\n",
       " Row(county='zamora', city='Zamora', museums=8, libraries=12, total=20),\n",
       " Row(county='segovia', city='Segovia', museums=13, libraries=6, total=19),\n",
       " Row(county='palencia', city='Palencia', museums=7, libraries=5, total=12),\n",
       " Row(county='soria', city='Soria', museums=5, libraries=7, total=12),\n",
       " Row(county='valladolid', city='Medina del Campo', museums=6, libraries=2, total=8),\n",
       " Row(county='león', city='Ponferrada', museums=6, libraries=2, total=8),\n",
       " Row(county='valladolid', city='Medina de Rioseco', museums=7, libraries=1, total=8),\n",
       " Row(county='zamora', city='Toro', museums=6, libraries=1, total=7),\n",
       " Row(county='valladolid', city='Tordesillas', museums=6, libraries=1, total=7),\n",
       " Row(county='valladolid', city='Peñafiel', museums=5, libraries=1, total=6),\n",
       " Row(county='burgos', city='Aranda de Duero', museums=5, libraries=1, total=6),\n",
       " Row(county='salamanca', city='Béjar', museums=5, libraries=1, total=6),\n",
       " Row(county='segovia', city='Real Sitio de San Ildefonso', museums=2, libraries=3, total=5),\n",
       " Row(county='segovia', city='Sepúlveda', museums=4, libraries=1, total=5),\n",
       " Row(county='palencia', city='Aguilar de Campoo', museums=3, libraries=2, total=5),\n",
       " Row(county='palencia', city='Carrión de los Condes', museums=3, libraries=2, total=5),\n",
       " Row(county='león', city='Bañeza (La)', museums=4, libraries=1, total=5),\n",
       " Row(county='león', city='Astorga', museums=4, libraries=1, total=5),\n",
       " Row(county='salamanca', city='Alba de Tormes', museums=4, libraries=1, total=5),\n",
       " Row(county='valladolid', city='Olmedo', museums=3, libraries=1, total=4),\n",
       " Row(county='salamanca', city='Lumbrales', museums=3, libraries=1, total=4),\n",
       " Row(county='soria', city='San Esteban de Gormaz', museums=3, libraries=1, total=4),\n",
       " Row(county='ávila', city='Arévalo', museums=3, libraries=1, total=4),\n",
       " Row(county='valladolid', city='Urueña', museums=4, libraries=0, total=4),\n",
       " Row(county='burgos', city='Castrojeriz', museums=4, libraries=0, total=4)]"
      ]
     },
     "execution_count": 48,
     "metadata": {},
     "output_type": "execute_result"
    }
   ],
   "source": [
    "# Order cities by number of cultural items (libraries + museums)\n",
    "cultural_top = sparkdf_cultural \\\n",
    "    .select('county','city','address',\n",
    "           when(sparkdf_cultural['cultural_kind'] == 'Directorio de Museos de Castilla y León', 1).alias(\"is_museum\"),\n",
    "           when(sparkdf_cultural['cultural_kind'] == 'Directorio de Bibliotecas de Castilla y León', 1).alias(\"is_library\")\n",
    "    ) \\\n",
    "    .groupBy('county','city') \\\n",
    "    .agg(\n",
    "        count(\"is_museum\").alias(\"museums\"), \n",
    "        count(\"is_library\").alias(\"libraries\"),\n",
    "        count(\"address\").alias(\"total\")\n",
    "        ) \\\n",
    "    .orderBy(\"Total\", ascending=False)\n",
    "\n",
    "    \n",
    "\n",
    "cultural_top.head(30)"
   ]
  },
  {
   "cell_type": "code",
   "execution_count": 49,
   "id": "funny-coating",
   "metadata": {},
   "outputs": [
    {
     "data": {
      "text/plain": [
       "[Row(name='Museo de Alfarería y Cerámica', address='C/ Don Julián y Don Romero, s/n.'),\n",
       " Row(name='Museo del Tren', address='Estación Chelva, s/n.'),\n",
       " Row(name='Museo Casa de las Bolas. Colección Permanente Félix Cañada', address='Casa de las Bolas. Plaza de San Juan, 9.'),\n",
       " Row(name='Museo Sacro de Aranda de Duero', address='Iglesia de San Juan, C/ San Juan, s/n.'),\n",
       " Row(name='Centro de Interpretación de la Arquitectura Asociada al Vino', address='Plaza Mayor, s/n.')]"
      ]
     },
     "execution_count": 49,
     "metadata": {},
     "output_type": "execute_result"
    }
   ],
   "source": [
    "# List museums in Aranda de Duero\n",
    "museums_in_Aranda = sparkdf_cultural \\\n",
    "    .select('name','address') \\\n",
    "    .where(\"city='Aranda de Duero'\").where(\"cultural_kind like '%Museo%'\")\n",
    "\n",
    "    \n",
    "\n",
    "museums_in_Aranda.head(5)"
   ]
  },
  {
   "cell_type": "code",
   "execution_count": 50,
   "id": "opposite-prototype",
   "metadata": {},
   "outputs": [
    {
     "data": {
      "text/plain": [
       "[Row(county='burgos', city='Aranda de Duero', name='Centro de Interpretación de la Arquitectura Asociada al Vino', address='Plaza Mayor, s/n.'),\n",
       " Row(county='león', city='Cacabelos', name='Museo Vinos del Bierzo', address='Avda. Constitución , 106.'),\n",
       " Row(county='palencia', city='Frómista', name='Museo del Queso', address='Plaza de San Martín, 8'),\n",
       " Row(county='valladolid', city='Peñafiel', name='Museo Provincial del Vino', address='Castillo.'),\n",
       " Row(county='valladolid', city='Villalón de Campos', name='Museo del Queso de Villalón de Campos', address='Avenida del Parque, 7.'),\n",
       " Row(county='zamora', city='Morales de Toro', name='Museo del Vino Pagos del Rey', address='Avda/ de los Comuneros, 90'),\n",
       " Row(county='zamora', city='Toro', name='Museo del Queso Chillón', address='Carretera Tordesillas 11')]"
      ]
     },
     "execution_count": 50,
     "metadata": {},
     "output_type": "execute_result"
    }
   ],
   "source": [
    "# List museums having to do with wine (vino in Spanish) or Cheese (queso in Spanish)\n",
    "wine_museums = sparkdf_cultural \\\n",
    "    .select('county','city', 'name', 'address') \\\n",
    "    .where(\"cultural_kind like '%Museo%'\").where(\n",
    "    \"name like '%Vino%' or name like '%vino%' or name like '%ueso%'\"\n",
    "    ).orderBy('county','city')\n",
    "\n",
    "    \n",
    "\n",
    "wine_museums.head(15)"
   ]
  },
  {
   "cell_type": "markdown",
   "id": "stretch-short",
   "metadata": {},
   "source": [
    "# 6.- POPULATION TABLE\n",
    "\n",
    "Cities population per gender age.csv contains population per gender age and city in Castilla y León\n",
    "We'll group it buckets and assign county to any city (There is no county field)\n"
   ]
  },
  {
   "cell_type": "markdown",
   "id": "comparative-wells",
   "metadata": {},
   "source": [
    "## 6.1.- Read population dataset and convert it into something that could be usable and joinable with cultural, garitos, social... \n",
    "\n",
    "These 2 files share a similar schema\n"
   ]
  },
  {
   "cell_type": "code",
   "execution_count": 51,
   "id": "alive-arbor",
   "metadata": {
    "scrolled": true
   },
   "outputs": [
    {
     "name": "stdout",
     "output_type": "stream",
     "text": [
      "Population dataframe rows:  2483802\n",
      "Population dataframe rows:  227048\n",
      "root\n",
      " |-- county: string (nullable = false)\n",
      " |-- city: string (nullable = true)\n",
      " |-- pop_under15: long (nullable = true)\n",
      " |-- pop_16to30: long (nullable = true)\n",
      " |-- pop_31to45: long (nullable = true)\n",
      " |-- pop_46to65: long (nullable = true)\n",
      " |-- pop_66to80: long (nullable = true)\n",
      " |-- pop_over80: long (nullable = true)\n",
      " |-- total_population: long (nullable = true)\n",
      "\n"
     ]
    }
   ],
   "source": [
    "spark_population=create_population(spark_session, local_path, data_poblacion)\n",
    "spark_population.printSchema()"
   ]
  },
  {
   "cell_type": "markdown",
   "id": "statutory-refrigerator",
   "metadata": {},
   "source": [
    "## 6.2.- Population table Quality Checks and Wrangle/Cleanup\n",
    "\n",
    "Most of the wrangle / cleanup has been made in the create_population function\n",
    "\n",
    "### 6.2.1.- Population table. Check for null values in key columns"
   ]
  },
  {
   "cell_type": "code",
   "execution_count": 52,
   "id": "detailed-court",
   "metadata": {},
   "outputs": [
    {
     "name": "stdout",
     "output_type": "stream",
     "text": [
      "Checking DataFrame. No null values found in column county\n",
      "Checking DataFrame. No null values found in column city\n",
      "Checking DataFrame. No null values found in column total_population\n",
      "Checking DataFrame. No null values found in column pop_under15\n",
      "Checking DataFrame. No null values found in column pop_16to30\n",
      "Checking DataFrame. No null values found in column pop_31to45\n",
      "Checking DataFrame. No null values found in column pop_46to65\n",
      "Checking DataFrame. No null values found in column pop_66to80\n",
      "Checking DataFrame. No null values found in column pop_over80\n"
     ]
    },
    {
     "data": {
      "text/plain": [
       "True"
      ]
     },
     "execution_count": 52,
     "metadata": {},
     "output_type": "execute_result"
    }
   ],
   "source": [
    "##CHECK FOR NULL VALUES IN KEY COLUMNS\n",
    "check_sparkdf_not_nulls(spark_population,['county','city','total_population','pop_under15','pop_16to30','pop_31to45','pop_46to65','pop_66to80','pop_over80'])"
   ]
  },
  {
   "cell_type": "markdown",
   "id": "official-paper",
   "metadata": {},
   "source": [
    "### 6.2.2.-Population table. Check for duplicate values (in city) and WRANGLE result."
   ]
  },
  {
   "cell_type": "code",
   "execution_count": 53,
   "id": "sustained-soldier",
   "metadata": {},
   "outputs": [
    {
     "name": "stdout",
     "output_type": "stream",
     "text": [
      "[]\n"
     ]
    }
   ],
   "source": [
    "# In this case, the only column that needs to be duplicates free is city.\n",
    "\n",
    "dupes=check_sparkdf_find_dupes(spark_population,['city'])\n",
    "print(dupes.head(15))"
   ]
  },
  {
   "cell_type": "markdown",
   "id": "seeing-context",
   "metadata": {},
   "source": [
    "### 6.2.3.- Population table --> Parquet TABLE"
   ]
  },
  {
   "cell_type": "code",
   "execution_count": 54,
   "id": "ambient-korean",
   "metadata": {},
   "outputs": [],
   "source": [
    "## CLEANED UP CULTURAL TO PARQUET (LOCAL)\n",
    "toparquet_by_county(spark_session,local_parquet_path  + 'population/',spark_population)"
   ]
  },
  {
   "cell_type": "markdown",
   "id": "expected-california",
   "metadata": {},
   "source": [
    "### 6.2.4.- Example queries to Population"
   ]
  },
  {
   "cell_type": "code",
   "execution_count": 55,
   "id": "responsible-aging",
   "metadata": {},
   "outputs": [
    {
     "data": {
      "text/plain": [
       "[Row(city='Valladolid', total_population=311685),\n",
       " Row(city='Burgos', total_population=178860),\n",
       " Row(city='Salamanca', total_population=151661),\n",
       " Row(city='León', total_population=131415),\n",
       " Row(city='Palencia', total_population=81090),\n",
       " Row(city='Ponferrada', total_population=68388),\n",
       " Row(city='Zamora', total_population=65417),\n",
       " Row(city='Ávila', total_population=59486),\n",
       " Row(city='Segovia', total_population=54948),\n",
       " Row(city='Soria', total_population=40290),\n",
       " Row(city='Miranda de Ebro', total_population=38342),\n",
       " Row(city='Aranda de Duero', total_population=33239)]"
      ]
     },
     "execution_count": 55,
     "metadata": {},
     "output_type": "execute_result"
    }
   ],
   "source": [
    "## PLaying with data\n",
    "spark_population.select('city','total_population').orderBy('total_population',ascending=False).head(12)"
   ]
  },
  {
   "cell_type": "code",
   "execution_count": 69,
   "id": "hourly-citizen",
   "metadata": {},
   "outputs": [
    {
     "name": "stdout",
     "output_type": "stream",
     "text": [
      "+--------+--------------------+----------------+-----+-----------------+\n",
      "|  county|                city|total_population|total|            ratio|\n",
      "+--------+--------------------+----------------+-----+-----------------+\n",
      "|   soria|         Calatañazor|              65|    7|10769.23076923077|\n",
      "|palencia|           Moratinos|              65|    6| 9230.76923076923|\n",
      "|palencia|             Triollo|              67|    6|8955.223880597016|\n",
      "|   ávila|   Narros del Puerto|              36|    3|8333.333333333334|\n",
      "|palencia|Villarmentero de ...|              13|    1|7692.307692307692|\n",
      "|  burgos|                Haza|              26|    2|7692.307692307692|\n",
      "|   ávila|San Martín del Pi...|             230|   15|6521.739130434783|\n",
      "|   ávila|          Peguerinos|             308|   20|6493.506493506494|\n",
      "|   soria|               Ucero|              78|    5| 6410.25641025641|\n",
      "|  burgos|            Rezmondo|              16|    1|           6250.0|\n",
      "+--------+--------------------+----------------+-----+-----------------+\n",
      "only showing top 10 rows\n",
      "\n",
      "+----------+--------------------+----------------+-----+------------------+\n",
      "|    county|                city|total_population|total|             ratio|\n",
      "+----------+--------------------+----------------+-----+------------------+\n",
      "|     ávila|           Candeleda|            5224|   99|1895.0995405819297|\n",
      "|    burgos|     Medina de Pomar|            6198|   90| 1452.081316553727|\n",
      "|     ávila| Arenas de San Pedro|            6870|   95|1382.8238719068413|\n",
      "|      león|                León|          131415| 1754| 1334.703039987825|\n",
      "|valladolid|            Peñafiel|            5467|   70|1280.4097311139565|\n",
      "|  palencia|              Guardo|            7056|   87|1232.9931972789116|\n",
      "| salamanca|      Ciudad Rodrigo|           13656|  165|1208.2601054481547|\n",
      "|      león|Valencia de Don Juan|            5109|   60|1174.3981209630065|\n",
      "|  palencia|   Aguilar de Campoo|            7165|   82|1144.4521981856246|\n",
      "|     ávila|             Arévalo|            8099|   91|1123.5955056179776|\n",
      "+----------+--------------------+----------------+-----+------------------+\n",
      "only showing top 10 rows\n",
      "\n"
     ]
    }
   ],
   "source": [
    "## Garitos Ratio / 100.000 inhabitants Ranking\n",
    "## 2nd list for cities with 5000+ inhabitants\n",
    "\n",
    "garitos_totals = sparkdf_garitos \\\n",
    "    .select(\"city\",'address',\n",
    "           when(sparkdf_garitos['garito_kind'] == 'cafeterias', 1).alias(\"is_cafe\"),\n",
    "           when(sparkdf_garitos['garito_kind'] == 'bares', 1).alias(\"is_bar\"),\n",
    "           when(sparkdf_garitos['garito_kind'] == 'restaurantes', 1).alias(\"is_restaurante\")\n",
    "           ) \\\n",
    "    .groupBy(\"city\") \\\n",
    "    .agg(count(\"is_cafe\").alias(\"cafes\"), \n",
    "         count(\"is_bar\").alias(\"bars\"),\n",
    "         count(\"is_restaurante\").alias(\"restaurants\"),\n",
    "         count(\"address\").alias(\"total\"),\n",
    "        ).where(\"total >= 1\")\n",
    "\n",
    "spark_ratios=spark_population.join(\n",
    "    garitos_totals,garitos_totals.city == spark_population.city, 'inner').select( \\\n",
    "        spark_population.county,\n",
    "        spark_population.city,\n",
    "        spark_population.total_population,\n",
    "        garitos_totals.total,\n",
    "        ((garitos_totals.total)*100000/(spark_population.total_population)).alias('ratio')\n",
    "    ).orderBy('ratio', ascending=False)\n",
    "\n",
    "spark_ratios.show(10)\n",
    "\n",
    "spark_ratios_more_5000=spark_population.select('*').where(\"total_population >= 5000\").join(\n",
    "    garitos_totals,garitos_totals.city == spark_population.city, 'inner').select( \\\n",
    "        spark_population.county,\n",
    "        spark_population.city,\n",
    "        spark_population.total_population,\n",
    "        garitos_totals.total,\n",
    "        ((garitos_totals.total)*100000/(spark_population.total_population)).alias('ratio')\n",
    "    ).orderBy('ratio', ascending=False)\n",
    "\n",
    "spark_ratios_more_5000.show(10)"
   ]
  },
  {
   "cell_type": "code",
   "execution_count": 70,
   "id": "elect-spectacular",
   "metadata": {},
   "outputs": [
    {
     "name": "stdout",
     "output_type": "stream",
     "text": [
      "+----------+--------------------+----------------+-----+------------------+\n",
      "|    county|                city|total_population|total|             ratio|\n",
      "+----------+--------------------+----------------+-----+------------------+\n",
      "|     ávila|           Candeleda|            5224|   99|1895.0995405819297|\n",
      "|    burgos|     Medina de Pomar|            6198|   90| 1452.081316553727|\n",
      "|     ávila| Arenas de San Pedro|            6870|   95|1382.8238719068413|\n",
      "|      león|                León|          131415| 1754| 1334.703039987825|\n",
      "|valladolid|            Peñafiel|            5467|   70|1280.4097311139565|\n",
      "|  palencia|              Guardo|            7056|   87|1232.9931972789116|\n",
      "| salamanca|      Ciudad Rodrigo|           13656|  165|1208.2601054481547|\n",
      "|      león|Valencia de Don Juan|            5109|   60|1174.3981209630065|\n",
      "|  palencia|   Aguilar de Campoo|            7165|   82|1144.4521981856246|\n",
      "|     ávila|             Arévalo|            8099|   91|1123.5955056179776|\n",
      "|   segovia|Real Sitio de San...|            5619|   62|1103.3991813489945|\n",
      "|      león|          Villablino|           10240|  112|           1093.75|\n",
      "|valladolid|         Tordesillas|            9060|   98|1081.6777041942605|\n",
      "|      león|             Astorga|           11804|  122|1033.5479498475092|\n",
      "|      león|           Cacabelos|            5461|   54| 988.8298846365135|\n",
      "| salamanca|            Guijuelo|            5996|   58| 967.3115410273516|\n",
      "|     soria|Burgo de Osma-Ciu...|            5188|   50| 963.7625289128758|\n",
      "|      león|            Bembibre|            9851|   90| 913.6128311846513|\n",
      "|   segovia|             Cuéllar|            9711|   88| 906.1888579960869|\n",
      "|valladolid|          Valladolid|          311685| 2668| 855.9924282528835|\n",
      "| salamanca|Villares de la Reina|            6004|   50|  832.778147901399|\n",
      "|    zamora|           Benavente|           19185|  155| 807.9228563982277|\n",
      "|    zamora|                Toro|            9586|   75| 782.3909868558314|\n",
      "|   segovia|             Segovia|           54948|  423| 769.8187377156585|\n",
      "|    burgos|           Briviesca|            7588|   58| 764.3647865050079|\n",
      "|      león|          Ponferrada|           68388|  514| 751.5938468737205|\n",
      "|    burgos|     Aranda de Duero|           33239|  249|  749.120009627245|\n",
      "|     ávila|               Ávila|           59486|  443| 744.7130417241032|\n",
      "| salamanca|           Salamanca|          151661| 1129| 744.4234180178161|\n",
      "|  palencia|      Venta de Baños|            6487|   48| 739.9414213041467|\n",
      "+----------+--------------------+----------------+-----+------------------+\n",
      "only showing top 30 rows\n",
      "\n"
     ]
    }
   ],
   "source": [
    "spark_ratios_more_5000.show(30)"
   ]
  },
  {
   "cell_type": "code",
   "execution_count": 82,
   "id": "negative-blackjack",
   "metadata": {},
   "outputs": [
    {
     "name": "stdout",
     "output_type": "stream",
     "text": [
      "+----------+--------------------+--------------------+--------------+--------------------+----+\n",
      "|library_id|                name|               valor|LocalidadPadre|              string|text|\n",
      "+----------+--------------------+--------------------+--------------+--------------------+----+\n",
      "|         0|       Identificador|       1191909671559|          null|                null|null|\n",
      "|         0|     NombreOrganismo|                null|          null|Biblioteca Públic...|null|\n",
      "|         0|      Descripcion_es|                null|          null|                null|null|\n",
      "|         0|     DatosPersonales|                null|          null|Victoria Fernánde...|null|\n",
      "|         0|           Direccion|                  []|          null|                null|null|\n",
      "|         0|               Calle|                null|          null|C/ María Sanz Ram...|null|\n",
      "|         0|        CodigoPostal|                null|          null|               40500|null|\n",
      "|         0|            Telefono|[{\"string\":\"92155...|          null|                null|null|\n",
      "|         0|          FaxOficial|                  []|          null|                null|null|\n",
      "|         0|                 Fax|                  []|          null|                null|null|\n",
      "|         0|               Email|[{\"string\":\"riaza...|          null|                null|null|\n",
      "|         0|           PaginaWeb|                  []|          null|                null|null|\n",
      "|         0|        Localidad_ID|                null| 1179298543947|                null|null|\n",
      "|         0|Localidad_NombreL...|                null|         Riaza|                null|null|\n",
      "|         0|      SoloClasificar|                null|          null|                null|null|\n",
      "|         0|            Posicion|                null|          null|41.27903202153456...|null|\n",
      "|         0|Identificador Dir...|       1284269350926|          null|                null|null|\n",
      "|         0| Directorio Superior|             Segovia|          null|                null|null|\n",
      "|         0| ultimaActualizacion|            20150910|          null|                null|null|\n",
      "|         0| Enlace al contenido|https://cultura.j...|          null|                null|null|\n",
      "|         1|       Identificador|       1203344709433|          null|                null|null|\n",
      "|         1|     NombreOrganismo|                null|          null|Casa de Cultura d...|null|\n",
      "|         1|      Descripcion_es|                null|          null|                null|null|\n",
      "|         1|     DatosPersonales|                null|          null|Mayka Renedo Cast...|null|\n",
      "|         1|           Direccion|                  []|          null|                null|null|\n",
      "|         1|               Calle|                null|          null|Calle Zarza, nº 2...|null|\n",
      "|         1|        CodigoPostal|                null|          null|               47195|null|\n",
      "|         1|            Telefono|[{\"string\":\"98340...|          null|                null|null|\n",
      "|         1|          FaxOficial|                  []|          null|                null|null|\n",
      "|         1|                 Fax|[{\"string\":\"98340...|          null|                null|null|\n",
      "+----------+--------------------+--------------------+--------------+--------------------+----+\n",
      "only showing top 30 rows\n",
      "\n"
     ]
    }
   ],
   "source": [
    "h1 = spark_session.read.options(multiLine=True).json(local_path+data_bibliotecas)\n",
    "exp_df = h1.select('document.list.element.attribute')\n",
    "exp_df2 = exp_df.select(monotonically_increasing_id().alias('library_id'), explode_outer('attribute').alias('next_evolution'))\n",
    "exp_df3 = exp_df2.select(col('library_id'),explode('next_evolution').alias('next_evolution'))\n",
    "exp_df4=exp_df3.select(\n",
    "\t\t\tcol('library_id'),\n",
    "\t\t\tcol('next_evolution.name').alias('name'), \n",
    "\t\t\tcol('next_evolution.valor'),\n",
    "\t\t\tcol('next_evolution.LocalidadPadre'),\n",
    "\t\t\tcol('next_evolution.string'),\n",
    "\t\t\tcol('next_evolution.text'))\n",
    "exp_df4.show(30)"
   ]
  },
  {
   "cell_type": "code",
   "execution_count": null,
   "id": "floating-breach",
   "metadata": {},
   "outputs": [],
   "source": []
  }
 ],
 "metadata": {
  "kernelspec": {
   "display_name": "Python 3",
   "language": "python",
   "name": "python3"
  },
  "language_info": {
   "codemirror_mode": {
    "name": "ipython",
    "version": 3
   },
   "file_extension": ".py",
   "mimetype": "text/x-python",
   "name": "python",
   "nbconvert_exporter": "python",
   "pygments_lexer": "ipython3",
   "version": "3.8.5"
  }
 },
 "nbformat": 4,
 "nbformat_minor": 5
}
