{
 "cells": [
  {
   "cell_type": "markdown",
   "id": "assured-preview",
   "metadata": {},
   "source": [
    "# Project Title\n",
    "### Data Engineering Capstone Project\n",
    "\n",
    "#### Project Summary\n",
    "--describe your project at a high level--\n",
    "\n",
    "The project follows the follow steps:\n",
    "* Step 1: Scope the Project and Gather Data\n",
    "* Step 2: Explore and Assess the Data\n",
    "* Step 3: Define the Data Model\n",
    "* Step 4: Run ETL to Model the Data\n",
    "* Step 5: Complete Project Write Up\n"
   ]
  },
  {
   "cell_type": "code",
   "execution_count": 7,
   "id": "joint-gathering",
   "metadata": {},
   "outputs": [
    {
     "name": "stdout",
     "output_type": "stream",
     "text": [
      "Requirement already satisfied: boto in /usr/local/lib/python3.8/site-packages (2.49.0)\n",
      "Collecting boto3\n",
      "  Using cached boto3-1.17.61-py2.py3-none-any.whl (131 kB)\n",
      "Collecting s3transfer<0.5.0,>=0.4.0\n",
      "  Using cached s3transfer-0.4.2-py2.py3-none-any.whl (79 kB)\n",
      "Requirement already satisfied: jmespath<1.0.0,>=0.7.1 in /usr/local/lib/python3.8/site-packages (from boto3) (0.10.0)\n",
      "Collecting botocore<1.21.0,>=1.20.61\n",
      "  Using cached botocore-1.20.61-py2.py3-none-any.whl (7.5 MB)\n",
      "Requirement already satisfied: urllib3<1.27,>=1.25.4 in /usr/local/lib/python3.8/site-packages (from botocore<1.21.0,>=1.20.61->boto3) (1.25.10)\n",
      "Requirement already satisfied: python-dateutil<3.0.0,>=2.1 in /usr/local/lib/python3.8/site-packages (from botocore<1.21.0,>=1.20.61->boto3) (2.8.1)\n",
      "Requirement already satisfied: six>=1.5 in /usr/local/lib/python3.8/site-packages (from python-dateutil<3.0.0,>=2.1->botocore<1.21.0,>=1.20.61->boto3) (1.15.0)\n",
      "\u001b[31mERROR: awscli 1.18.127 has requirement botocore==1.17.50, but you'll have botocore 1.20.61 which is incompatible.\u001b[0m\n",
      "\u001b[31mERROR: awscli 1.18.127 has requirement s3transfer<0.4.0,>=0.3.0, but you'll have s3transfer 0.4.2 which is incompatible.\u001b[0m\n",
      "Installing collected packages: botocore, s3transfer, boto3\n",
      "  Attempting uninstall: botocore\n",
      "    Found existing installation: botocore 1.17.50\n",
      "    Uninstalling botocore-1.17.50:\n",
      "      Successfully uninstalled botocore-1.17.50\n",
      "  Attempting uninstall: s3transfer\n",
      "    Found existing installation: s3transfer 0.3.3\n",
      "    Uninstalling s3transfer-0.3.3:\n",
      "      Successfully uninstalled s3transfer-0.3.3\n",
      "Successfully installed boto3-1.17.61 botocore-1.20.61 s3transfer-0.4.2\n",
      "Processing /Users/raulantoncuadrado/Library/Caches/pip/wheels/b3/0e/81/264aeed961e43b9f6ba9ec81c8c540d2d7dccc52c6b51cbf22/pyspark-3.1.1-py2.py3-none-any.whl\n",
      "Collecting py4j==0.10.9\n",
      "  Using cached py4j-0.10.9-py2.py3-none-any.whl (198 kB)\n",
      "Installing collected packages: py4j, pyspark\n",
      "Successfully installed py4j-0.10.9 pyspark-3.1.1\n"
     ]
    }
   ],
   "source": [
    "## NOTES\n",
    "# Install a pip package in the current Jupyter kernel\n",
    "\n",
    "#import sys\n",
    "#!{sys.executable} -m pip install s3fs\n",
    "#!{sys.executable} -m pip install boto\n",
    "#!{sys.executable} -m pip install boto3\n",
    "#!{sys.executable} -m pip install pyspark"
   ]
  },
  {
   "cell_type": "code",
   "execution_count": 8,
   "id": "promising-chorus",
   "metadata": {},
   "outputs": [],
   "source": [
    "# IMPORTS AND INSTALLS\n",
    "\n",
    "import pandas as pd\n",
    "import configparser\n",
    "from datetime import datetime\n",
    "import os\n",
    "\n",
    "import boto\n",
    "import botocore\n",
    "import boto3\n",
    "from boto.s3.key import Key\n",
    "#  https://stackoverflow.com/questions/30249069/listing-contents-of-a-bucket-with-boto3\n",
    "\n",
    "from pyspark.sql import SparkSession\n",
    "from pyspark.sql.functions import udf, col"
   ]
  },
  {
   "cell_type": "code",
   "execution_count": 9,
   "id": "yellow-point",
   "metadata": {},
   "outputs": [],
   "source": [
    "# SETUP FOR USING S3 BUCKETS WHERE THE DATAFILES ARE\n",
    "\n",
    "config = configparser.ConfigParser()\n",
    "config.read('dl.cfg')\n",
    "\n",
    "os.environ['AWS_ACCESS_KEY_ID']=config['KEYS']['AWS_ACCESS_KEY_ID']\n",
    "os.environ['AWS_SECRET_ACCESS_KEY']=config['KEYS']['AWS_SECRET_ACCESS_KEY']\n",
    "\n",
    "S3_URI = \"s3a://raul-udacity/\"\n",
    "#s3a vs s3 explanation https://stackoverflow.com/questions/33356041/technically-what-is-the-difference-between-s3n-s3a-and-s3\n",
    "\n",
    "data_bares = 'bares.csv'\n",
    "data_restaurantes = 'restaurantes.csv'\n",
    "data_cafeterias = 'cafeterias.csv'\n",
    "\n",
    "data_asociaciones = 'AsociacionesJCyL.csv'\n",
    "data_clubes_deportivos = 'Clubes deportivos.csv'\n",
    "\n",
    "data_bibliotecas = 'Directorio de Bibliotecas de Castilla y León.json'\n",
    "data_museos = 'Directorio de Museos de Castilla y León.json'\n",
    "\n",
    "data_poblacion = 'Cities population per gender age.csv'\n",
    "\n",
    "# Other available data we decided not to use\n",
    "# Poblacion municipio sexo relacion nacimiento residencia.json\n",
    "# Municipios Origen Nacimiento.csv\n",
    "# "
   ]
  },
  {
   "cell_type": "markdown",
   "id": "herbal-pierre",
   "metadata": {},
   "source": [
    "# Step 1: Scope the Project and Gather Data\n",
    "\n",
    "## Scope \n",
    "Explain what you plan to do in the project in more detail. What data do you use? What is your end solution look like? What tools did you use? etc>\n",
    "Scope.md file\n",
    "\n",
    "## Describe and Gather Data \n",
    "Describe the data sets you're using. Where did it come from? What type of information is included? \n",
    "https://github.com/rantoncuadrado/udacity_capstone_project/blob/main/Datasources%20Description.md\n",
    "Datasources Description.md file"
   ]
  },
  {
   "cell_type": "markdown",
   "id": "urban-excess",
   "metadata": {},
   "source": [
    "### COPY FILES FROM s3 TO LOCAL"
   ]
  },
  {
   "cell_type": "code",
   "execution_count": 11,
   "id": "understanding-nightmare",
   "metadata": {},
   "outputs": [
    {
     "name": "stdout",
     "output_type": "stream",
     "text": [
      "['AsociacionesJCyL.csv', 'Cities population per gender age.csv', 'Clubes deportivos.csv', 'Directorio de Bibliotecas de Castilla y León.json', 'Directorio de Museos de Castilla y León.json', 'Municipios Origen Nacimiento.csv', 'Poblacion municipio sexo relacion nacimiento residencia.json', 'bares.csv', 'cafeterias.csv', 'restaurantes.csv']\n"
     ]
    }
   ],
   "source": [
    "# COPY FILES FROM s3 TO LOCAL. LIST FILENAMES (KEYS)\n",
    "# We need to download the files and then read with spark_session.read.csv or read.json from the local directory\n",
    "# because of this error https://github.com/boto/boto3/issues/2566\n",
    "\n",
    "\n",
    "bucket_name = 'raul-udacity'\n",
    "local_path = './input_files/'\n",
    "\n",
    "# connect to the bucket\n",
    "conn = boto.connect_s3(os.environ['AWS_ACCESS_KEY_ID'],os.environ['AWS_SECRET_ACCESS_KEY'])\n",
    "\n",
    "# Explanation client and resource\n",
    "s3_resource = boto3.resource('s3')\n",
    "s3 = boto3.client('s3')\n",
    "resp=s3.list_objects_v2(Bucket=bucket_name )\n",
    "\n",
    "# List file names\n",
    "files = []\n",
    "for obj in resp['Contents']:\n",
    "        files.append(obj['Key'])\n",
    "\n",
    "print(files)\n",
    "\n",
    "# This would clone a file in a s3 bucket\n",
    "# s3_resource.Object('raul-udacity','bares2.csv').copy_from(CopySource='raul-udacity/bares.csv')\n",
    "# And this would read it df=spark.read.json(\"s3a://udacity-dend/log_json_path.json\")\n",
    "\n",
    "for file in files:\n",
    "    try:\n",
    "        s3_resource.Bucket(bucket_name).download_file(file, local_path+file)\n",
    "    except botocore.exceptions.ClientError as e:\n",
    "        if e.response['Error']['Code'] == \"404\":\n",
    "            print(\"The object does not exist.\")\n",
    "        else:\n",
    "            raise"
   ]
  },
  {
   "cell_type": "markdown",
   "id": "continental-preservation",
   "metadata": {},
   "source": [
    "# Step 2: Explore and Assess the Data\n",
    "## Explore the Data \n",
    "Identify data quality issues, like missing values, duplicate data, etc.\n",
    "\n",
    "## Cleaning Steps\n",
    "Once we have the files in local filesystem, I'll use dataframes to clean the data and later SPARK to manipulate them."
   ]
  },
  {
   "cell_type": "code",
   "execution_count": null,
   "id": "illegal-witness",
   "metadata": {},
   "outputs": [],
   "source": []
  },
  {
   "cell_type": "code",
   "execution_count": 12,
   "id": "drawn-flood",
   "metadata": {},
   "outputs": [],
   "source": [
    "# Create an SPARK SESSION\n",
    "\n",
    "spark_session = SparkSession \\\n",
    "        .builder \\\n",
    "        .config(\"spark.jars.packages\",\"org.apache.hadoop:hadoop-aws:2.7.0\") \\\n",
    "        .config(\"spark.hadoop.fs.s3a.access.key\",os.environ['AWS_ACCESS_KEY_ID']) \\\n",
    "        .config(\"spark.hadoop.fs.s3a.secret.key\",os.environ['AWS_SECRET_ACCESS_KEY']) \\\n",
    "        .config(\"spark.hadoop.fs.s3a.impl\", \"org.apache.hadoop.fs.s3a.S3AFileSystem\") \\\n",
    "        .config(\"spark.jars.packages\",\"saurfang:spark-sas7bdat:2.0.0-s_2.11\") \\\n",
    "        .getOrCreate()\n"
   ]
  },
  {
   "cell_type": "markdown",
   "id": "herbal-assessment",
   "metadata": {},
   "source": [
    "### CLEANING BAR, RESTAURANT, CAFE\n",
    "These 3 files share same schema"
   ]
  },
  {
   "cell_type": "code",
   "execution_count": 34,
   "id": "abandoned-reducing",
   "metadata": {},
   "outputs": [
    {
     "name": "stdout",
     "output_type": "stream",
     "text": [
      "DataFrame[summary: string, N.Registro: string, Especialidades: string, Nombre: string, Dirección: string, C.Postal: string, Provincia: string, Municipio: string, Localidad: string, Nucleo: string, Teléfono 1: string, Teléfono 2: string, Teléfono 3: string, Email: string, web: string, Q Calidad: string, Plazas: string, GPS.Longitud: string, GPS.Latitud: string, accesible a personas con discapacidad: string, _c19: string]\n",
      "DataFrame[summary: string, N.Registro: string, Tipo: string, Categoría: string, Especialidades: string, Nombre: string, Dirección: string, C.Postal: string, Provincia: string, Municipio: string, Localidad: string, Nucleo: string, Teléfono 1: string, Teléfono 2: string, Teléfono 3: string, Email: string, web: string, Q Calidad: string, Plazas: string, GPS.Longitud: string, GPS.Latitud: string, accesible a personas con discapacidad: string, _c21: string]\n",
      "DataFrame[summary: string, N.Registro: string, Tipo: string, Categoría: string, Nombre: string, Dirección: string, C.Postal: string, Provincia: string, Municipio: string, Localidad: string, Nucleo: string, Teléfono 1: string, Teléfono 2: string, Teléfono 3: string, Email: string, web: string, Q Calidad: string, Plazas: string, GPS.Longitud: string, GPS.Latitud: string, accesible a personas con discapacidad: string, _c20: string]\n"
     ]
    }
   ],
   "source": [
    "Sparkdf_bar         = spark_session.read.options(inferSchema='true',\\\n",
    "                                delimiter=';',\\\n",
    "                                header='true',\\\n",
    "                                encoding='ISO-8859-1')\\\n",
    "                                .csv('./input_files/bares.csv')\n",
    "\n",
    "Sparkdf_restaurante = spark_session.read.options(inferSchema='true',\\\n",
    "                                delimiter=';',\\\n",
    "                                header='true',\\\n",
    "                                encoding='ISO-8859-1')\\\n",
    "                                .csv('./input_files/restaurantes.csv')\n",
    "\n",
    "Sparkdf_cafeteria   = spark_session.read.options(inferSchema='true',\\\n",
    "                                delimiter=';',\\\n",
    "                                header='true',\\\n",
    "                                encoding='ISO-8859-1')\\\n",
    "                                .csv('./input_files/cafeterias.csv')\n",
    "\n",
    "print(Sparkdf_bar.describe())\n",
    "print(Sparkdf_restaurante.describe())\n",
    "print(Sparkdf_cafeteria.describe())   "
   ]
  },
  {
   "cell_type": "code",
   "execution_count": 48,
   "id": "institutional-jimmy",
   "metadata": {},
   "outputs": [],
   "source": [
    "## We just need some columns\n",
    "Sparkdf_bar=Sparkdf_bar.select(\n",
    "            col('Nombre').alias('name'),\n",
    "            col('Dirección').alias('address'),\n",
    "            col('Provincia').alias('county'),\n",
    "            col('Municipio').alias('city'),\n",
    "            col('`C.Postal`').alias('postal_code')\n",
    "        ).distinct()\n",
    "\n",
    "Sparkdf_restaurante=Sparkdf_restaurante.select(\n",
    "            col('Nombre').alias('name'),\n",
    "            col('Dirección').alias('address'),\n",
    "            col('Provincia').alias('county'),\n",
    "            col('Municipio').alias('city'),\n",
    "            col('`C.Postal`').alias('postal_code')\n",
    "        ).distinct()\n",
    "\n",
    "Sparkdf_cafeteria=Sparkdf_cafeteria.select(\n",
    "            col('Nombre').alias('name'),\n",
    "            col('Dirección').alias('address'),\n",
    "            col('Provincia').alias('county'),\n",
    "            col('Municipio').alias('city'),\n",
    "            col('`C.Postal`').alias('postal_code')\n",
    "        ).distinct()\n",
    "\n",
    " "
   ]
  },
  {
   "cell_type": "code",
   "execution_count": 50,
   "id": "helpful-marble",
   "metadata": {},
   "outputs": [
    {
     "data": {
      "text/plain": [
       "DataFrame[summary: string, name: string, address: string, county: string, city: string, postal_code: string]"
      ]
     },
     "execution_count": 50,
     "metadata": {},
     "output_type": "execute_result"
    }
   ],
   "source": [
    "Sparkdf_garitos = (\n",
    "        Sparkdf_bar.union(Sparkdf_restaurante).union(Sparkdf_cafeteria)\n",
    "    )\n",
    "\n",
    "Sparkdf_garitos.describe()"
   ]
  },
  {
   "cell_type": "code",
   "execution_count": 51,
   "id": "listed-bristol",
   "metadata": {},
   "outputs": [
    {
     "data": {
      "text/html": [
       "<div>\n",
       "<style scoped>\n",
       "    .dataframe tbody tr th:only-of-type {\n",
       "        vertical-align: middle;\n",
       "    }\n",
       "\n",
       "    .dataframe tbody tr th {\n",
       "        vertical-align: top;\n",
       "    }\n",
       "\n",
       "    .dataframe thead th {\n",
       "        text-align: right;\n",
       "    }\n",
       "</style>\n",
       "<table border=\"1\" class=\"dataframe\">\n",
       "  <thead>\n",
       "    <tr style=\"text-align: right;\">\n",
       "      <th></th>\n",
       "      <th>name</th>\n",
       "      <th>address</th>\n",
       "      <th>county</th>\n",
       "      <th>city</th>\n",
       "      <th>postal_code</th>\n",
       "    </tr>\n",
       "  </thead>\n",
       "  <tbody>\n",
       "    <tr>\n",
       "      <th>count</th>\n",
       "      <td>22487</td>\n",
       "      <td>22426</td>\n",
       "      <td>22487</td>\n",
       "      <td>22487</td>\n",
       "      <td>22472</td>\n",
       "    </tr>\n",
       "    <tr>\n",
       "      <th>unique</th>\n",
       "      <td>16100</td>\n",
       "      <td>21087</td>\n",
       "      <td>9</td>\n",
       "      <td>1730</td>\n",
       "      <td>2025</td>\n",
       "    </tr>\n",
       "    <tr>\n",
       "      <th>top</th>\n",
       "      <td>LA PLAZA</td>\n",
       "      <td>PLAZA MAYOR, 2</td>\n",
       "      <td>León</td>\n",
       "      <td>Valladolid</td>\n",
       "      <td>24003</td>\n",
       "    </tr>\n",
       "    <tr>\n",
       "      <th>freq</th>\n",
       "      <td>87</td>\n",
       "      <td>20</td>\n",
       "      <td>4942</td>\n",
       "      <td>2668</td>\n",
       "      <td>369</td>\n",
       "    </tr>\n",
       "  </tbody>\n",
       "</table>\n",
       "</div>"
      ],
      "text/plain": [
       "            name         address county        city postal_code\n",
       "count      22487           22426  22487       22487       22472\n",
       "unique     16100           21087      9        1730        2025\n",
       "top     LA PLAZA  PLAZA MAYOR, 2   León  Valladolid       24003\n",
       "freq          87              20   4942        2668         369"
      ]
     },
     "execution_count": 51,
     "metadata": {},
     "output_type": "execute_result"
    }
   ],
   "source": [
    "df=Sparkdf_garitos.toPandas()\n",
    "df.describe(include='all')"
   ]
  },
  {
   "cell_type": "markdown",
   "id": "designing-corrections",
   "metadata": {},
   "source": [
    "# Step 3: Define the Data Model\n",
    "## 3.1 Conceptual Data Model\n",
    "Map out the conceptual data model and explain why you chose that model\n",
    "\n",
    "## 3.2 Mapping Out Data Pipelines\n",
    "List the steps necessary to pipeline the data into the chosen data model"
   ]
  },
  {
   "cell_type": "markdown",
   "id": "latin-maker",
   "metadata": {},
   "source": [
    "# Step 4: Run Pipelines to Model the Data \n",
    "## 4.1 Create the data model\n",
    "Build the data pipelines to create the data model.\n"
   ]
  },
  {
   "cell_type": "markdown",
   "id": "particular-excuse",
   "metadata": {},
   "source": [
    "## 4.2 Data Quality Checks\n",
    "Explain the data quality checks you'll perform to ensure the pipeline ran as expected. These could include:\n",
    " * Integrity constraints on the relational database (e.g., unique key, data type, etc.)\n",
    " * Unit tests for the scripts to ensure they are doing the right thing\n",
    " * Source/Count checks to ensure completeness\n",
    " \n",
    "Run Quality Checks"
   ]
  },
  {
   "cell_type": "markdown",
   "id": "considerable-climb",
   "metadata": {},
   "source": [
    "## 4.3 Data dictionary \n",
    "Create a data dictionary for your data model. For each field, provide a brief description of what the data is and where it came from. You can include the data dictionary in the notebook or in a separate file."
   ]
  },
  {
   "cell_type": "markdown",
   "id": "considerable-convergence",
   "metadata": {},
   "source": [
    "## Step 5: Complete Project Write Up\n",
    "* Clearly state the rationale for the choice of tools and technologies for the project.\n",
    "* Propose how often the data should be updated and why.\n",
    "* Write a description of how you would approach the problem differently under the following scenarios:\n",
    " * The data was increased by 100x.\n",
    " * The data populates a dashboard that must be updated on a daily basis by 7am every day.\n",
    " * The database needed to be accessed by 100+ people."
   ]
  },
  {
   "cell_type": "code",
   "execution_count": null,
   "id": "statutory-operator",
   "metadata": {},
   "outputs": [],
   "source": []
  }
 ],
 "metadata": {
  "kernelspec": {
   "display_name": "Python 3",
   "language": "python",
   "name": "python3"
  },
  "language_info": {
   "codemirror_mode": {
    "name": "ipython",
    "version": 3
   },
   "file_extension": ".py",
   "mimetype": "text/x-python",
   "name": "python",
   "nbconvert_exporter": "python",
   "pygments_lexer": "ipython3",
   "version": "3.8.5"
  }
 },
 "nbformat": 4,
 "nbformat_minor": 5
}
