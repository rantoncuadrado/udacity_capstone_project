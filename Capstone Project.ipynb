{
 "cells": [
  {
   "cell_type": "markdown",
   "id": "encouraging-celebration",
   "metadata": {},
   "source": [
    "# Project Title\n",
    "### Data Engineering Capstone Project\n",
    "\n",
    "#### Project Summary\n",
    "--describe your project at a high level--\n",
    "\n",
    "The project follows the follow steps:\n",
    "* Step 1: Scope the Project and Gather Data\n",
    "* Step 2: Explore and Assess the Data\n",
    "* Step 3: Define the Data Model\n",
    "* Step 4: Run ETL to Model the Data\n",
    "* Step 5: Complete Project Write Up\n"
   ]
  },
  {
   "cell_type": "code",
   "execution_count": 1,
   "id": "native-choir",
   "metadata": {},
   "outputs": [],
   "source": [
    "## NOTES\n",
    "# Install a pip package in the current Jupyter kernel\n",
    "\n",
    "#import sys\n",
    "#!{sys.executable} -m pip install s3fs\n",
    "#!{sys.executable} -m pip install boto\n",
    "#!{sys.executable} -m pip install boto3\n",
    "#!{sys.executable} -m pip install pyspark"
   ]
  },
  {
   "cell_type": "code",
   "execution_count": 1,
   "id": "clinical-energy",
   "metadata": {},
   "outputs": [],
   "source": [
    "# IMPORTS AND INSTALLS\n",
    "\n",
    "import pandas as pd\n",
    "\n",
    "from datetime import datetime\n",
    "\n",
    "from s3_local_io import *\n",
    "from create_parquet_tables import *\n",
    "from data_quality_checks import *\n",
    "\n",
    "from pyspark.sql import SparkSession\n",
    "from pyspark.sql.functions import udf, col, count, lit, when, max, lower, countDistinct\n"
   ]
  },
  {
   "cell_type": "code",
   "execution_count": 2,
   "id": "enormous-trance",
   "metadata": {},
   "outputs": [],
   "source": [
    "# Global names\n",
    "\n",
    "##This is now in the s3_local_io file\n",
    "##config = configparser.ConfigParser()\n",
    "##config.read('dl.cfg')\n",
    "##os.environ['AWS_ACCESS_KEY_ID']=config['KEYS']['AWS_ACCESS_KEY_ID']\n",
    "##os.environ['AWS_SECRET_ACCESS_KEY']=config['KEYS']['AWS_SECRET_ACCESS_KEY']\n",
    "\n",
    "\n",
    "# URL and PATHS to data\n",
    "bucket_name = 'raul-udacity'\n",
    "bucket_parquet_path ='/parquet/'\n",
    "bucket_path = 's3a://'+bucket_name+'/'\n",
    "local_path = './input_files/'\n",
    "local_parquet_path = './input_files/parquet_files/'\n",
    "#S3_URI = \"s3a://raul-udacity/\"\n",
    "#s3a vs s3 explanation https://stackoverflow.com/questions/33356041/technically-what-is-the-difference-between-s3n-s3a-and-s3\n",
    "\n",
    "\n",
    "# Filenames\n",
    "data_bares = 'bares.csv'\n",
    "data_restaurantes = 'restaurantes.csv'\n",
    "data_cafeterias = 'cafeterias.csv'\n",
    "\n",
    "data_asociaciones = 'AsociacionesJCyL.csv'\n",
    "data_clubes_deportivos = 'Clubes deportivos.csv'\n",
    "\n",
    "data_bibliotecas = 'Directorio de Bibliotecas de Castilla y León.json'\n",
    "data_museos = 'Directorio de Museos de Castilla y León.json'\n",
    "\n",
    "data_poblacion = 'Cities population per gender age.csv'\n",
    "\n",
    "# Other available data/filenames we decided not to use\n",
    "# Poblacion municipio sexo relacion nacimiento residencia.json\n",
    "# Municipios Origen Nacimiento.csv\n",
    "# "
   ]
  },
  {
   "cell_type": "markdown",
   "id": "asian-recommendation",
   "metadata": {},
   "source": [
    "# Step 1: Scope the Project and Gather Data\n",
    "\n",
    "## Scope \n",
    "Explain what you plan to do in the project in more detail. What data do you use? What is your end solution look like? What tools did you use? etc>\n",
    "Scope.md file\n",
    "\n",
    "## Describe and Gather Data \n",
    "Describe the data sets you're using. Where did it come from? What type of information is included? \n",
    "https://github.com/rantoncuadrado/udacity_capstone_project/blob/main/Datasources%20Description.md\n",
    "Datasources Description.md file"
   ]
  },
  {
   "cell_type": "markdown",
   "id": "precious-aquatic",
   "metadata": {},
   "source": [
    "### COPY FILES FROM s3 TO LOCAL"
   ]
  },
  {
   "cell_type": "code",
   "execution_count": null,
   "id": "fourth-month",
   "metadata": {},
   "outputs": [],
   "source": [
    "## WE COPY FILES FROM s3 TO LOCAL\n",
    "## This step is not needed if working with s3 files\n",
    "\n",
    "# Commented as we don't need to copy them anytime we run the process\n",
    "# copy_files_s3_to_local(bucket_name, local_path)"
   ]
  },
  {
   "cell_type": "markdown",
   "id": "liberal-coffee",
   "metadata": {},
   "source": [
    "# Step 2: Explore and Assess the Data\n",
    "## Explore the Data \n",
    "Identify data quality issues, like missing values, duplicate data, etc.\n",
    "\n",
    "## Cleaning Steps\n",
    "Once we have the files in local filesystem, I'll use dataframes to clean the data and later SPARK to manipulate them."
   ]
  },
  {
   "cell_type": "code",
   "execution_count": 3,
   "id": "hundred-america",
   "metadata": {},
   "outputs": [],
   "source": [
    "# Create an SPARK SESSION \n",
    "\n",
    "spark_session = SparkSession \\\n",
    "        .builder \\\n",
    "        .appName(\"Castilla y Leon -> Fact Tables\") \\\n",
    "        .getOrCreate()\n",
    "\n",
    "\n",
    "# This is needed just if we use spark on s3\n",
    "#spark_session.sparkContext._jsc.hadoopConfiguration().set(\"fs.s3a.aws.credentials.provider\",\"org.apache.hadoop.fs.s3a.SimpleAWSCredentialsProvider\")\n",
    "#spark_session.sparkContext._jsc.hadoopConfiguration().set(\"fs.s3a.access.key\",os.environ['AWS_ACCESS_KEY_ID'])\n",
    "#spark_session.sparkContext._jsc.hadoopConfiguration().set(\"fs.s3a.secret.key\",os.environ['AWS_SECRET_ACCESS_KEY'])\n"
   ]
  },
  {
   "cell_type": "markdown",
   "id": "falling-forth",
   "metadata": {},
   "source": [
    "### CLEANING BAR, RESTAURANT, CAFE and CREATING GARITOS TABLE\n",
    "These 3 files share same schema"
   ]
  },
  {
   "cell_type": "code",
   "execution_count": 4,
   "id": "phantom-joshua",
   "metadata": {},
   "outputs": [],
   "source": [
    "sparkdf_garitos=create_garitos(spark_session,local_path,[data_bares,data_restaurantes,data_cafeterias])"
   ]
  },
  {
   "cell_type": "markdown",
   "id": "about-victorian",
   "metadata": {},
   "source": [
    "### CREATION OF CITY / POSTALCODE PARQUET TABLE\n"
   ]
  },
  {
   "cell_type": "code",
   "execution_count": 6,
   "id": "external-ireland",
   "metadata": {},
   "outputs": [],
   "source": [
    "sparkdf_postal_codes=create_postal_code(sparkdf_garitos)"
   ]
  },
  {
   "cell_type": "code",
   "execution_count": 7,
   "id": "collected-likelihood",
   "metadata": {},
   "outputs": [
    {
     "data": {
      "text/html": [
       "<div>\n",
       "<style scoped>\n",
       "    .dataframe tbody tr th:only-of-type {\n",
       "        vertical-align: middle;\n",
       "    }\n",
       "\n",
       "    .dataframe tbody tr th {\n",
       "        vertical-align: top;\n",
       "    }\n",
       "\n",
       "    .dataframe thead th {\n",
       "        text-align: right;\n",
       "    }\n",
       "</style>\n",
       "<table border=\"1\" class=\"dataframe\">\n",
       "  <thead>\n",
       "    <tr style=\"text-align: right;\">\n",
       "      <th></th>\n",
       "      <th>county</th>\n",
       "      <th>city</th>\n",
       "      <th>postal_code</th>\n",
       "    </tr>\n",
       "  </thead>\n",
       "  <tbody>\n",
       "    <tr>\n",
       "      <th>count</th>\n",
       "      <td>2881</td>\n",
       "      <td>2881</td>\n",
       "      <td>2881</td>\n",
       "    </tr>\n",
       "    <tr>\n",
       "      <th>unique</th>\n",
       "      <td>9</td>\n",
       "      <td>1730</td>\n",
       "      <td>2025</td>\n",
       "    </tr>\n",
       "    <tr>\n",
       "      <th>top</th>\n",
       "      <td>León</td>\n",
       "      <td>Zamora</td>\n",
       "      <td>24000</td>\n",
       "    </tr>\n",
       "    <tr>\n",
       "      <th>freq</th>\n",
       "      <td>519</td>\n",
       "      <td>33</td>\n",
       "      <td>23</td>\n",
       "    </tr>\n",
       "  </tbody>\n",
       "</table>\n",
       "</div>"
      ],
      "text/plain": [
       "       county    city postal_code\n",
       "count    2881    2881        2881\n",
       "unique      9    1730        2025\n",
       "top      León  Zamora       24000\n",
       "freq      519      33          23"
      ]
     },
     "execution_count": 7,
     "metadata": {},
     "output_type": "execute_result"
    }
   ],
   "source": [
    "df=sparkdf_postal_codes.toPandas()\n",
    "df.describe(include='all')"
   ]
  },
  {
   "cell_type": "code",
   "execution_count": 7,
   "id": "wooden-penguin",
   "metadata": {},
   "outputs": [],
   "source": [
    "toparquet_postal_codes(spark_session,local_parquet_path,sparkdf_postal_codes)"
   ]
  },
  {
   "cell_type": "markdown",
   "id": "portable-assault",
   "metadata": {},
   "source": [
    "### GARITOS CLEANUP"
   ]
  },
  {
   "cell_type": "code",
   "execution_count": 18,
   "id": "medical-crossing",
   "metadata": {},
   "outputs": [
    {
     "name": "stdout",
     "output_type": "stream",
     "text": [
      "Checking DataFrame. No null values found in column name\n",
      "Checking DataFrame. No null values found in column county\n",
      "Checking DataFrame. No null values found in column city\n",
      "Checking DataFrame. No null values found in column garito_kind\n"
     ]
    },
    {
     "data": {
      "text/plain": [
       "True"
      ]
     },
     "execution_count": 18,
     "metadata": {},
     "output_type": "execute_result"
    }
   ],
   "source": [
    "##CHECK FOR NULL VALUES IN KEY COLUMNS\n",
    "check_sparkdf_not_nulls(sparkdf_garitos,['name','county','city','garito_kind'])"
   ]
  },
  {
   "cell_type": "code",
   "execution_count": 11,
   "id": "successful-platform",
   "metadata": {},
   "outputs": [
    {
     "data": {
      "text/plain": [
       "[Row(name='BURGER KING', county='Valladolid', city='Valladolid', garito_kind='restaurantes', Total=8),\n",
       " Row(name='TELEPIZZA', county='Valladolid', city='Valladolid', garito_kind='bares', Total=6),\n",
       " Row(name='LA BODEGUILLA', county='León', city='León', garito_kind='bares', Total=5),\n",
       " Row(name='GARCIA', county='León', city='León', garito_kind='bares', Total=5),\n",
       " Row(name='EL PASO', county='Valladolid', city='Valladolid', garito_kind='bares', Total=4),\n",
       " Row(name='TELEPIZZA', county='Burgos', city='Burgos', garito_kind='bares', Total=4),\n",
       " Row(name='BERTIZ', county='Burgos', city='Burgos', garito_kind='cafeterias', Total=4),\n",
       " Row(name='BURGER KING', county='León', city='León', garito_kind='restaurantes', Total=4),\n",
       " Row(name='PAN EL VISO', county='Zamora', city='Zamora', garito_kind='cafeterias', Total=4),\n",
       " Row(name='BURGER KING', county='Burgos', city='Burgos', garito_kind='restaurantes', Total=4)]"
      ]
     },
     "execution_count": 11,
     "metadata": {},
     "output_type": "execute_result"
    }
   ],
   "source": [
    "##WE SHOULD NOT CHECK FOR DUPES AS DUPES ARE PERFECTLY OK\n",
    "## THey mean several bar/restaurant/cafes with the same name in a given city\n",
    "## This happens with Burguer King and similars. \n",
    "## An example here:\n",
    "\n",
    "a=sparkdf_garitos.select(\"*\").groupBy('name','county','city','garito_kind') \\\n",
    "    .agg(count(\"name\").alias(\"Total\")) \\\n",
    "    .orderBy(\"Total\", ascending=False)\n",
    "\n",
    "a.head(10)"
   ]
  },
  {
   "cell_type": "code",
   "execution_count": 36,
   "id": "solved-shell",
   "metadata": {},
   "outputs": [
    {
     "name": "stdout",
     "output_type": "stream",
     "text": [
      "Checking DataFrame. I found null values in column postal_code\n"
     ]
    },
    {
     "data": {
      "text/plain": [
       "False"
      ]
     },
     "execution_count": 36,
     "metadata": {},
     "output_type": "execute_result"
    }
   ],
   "source": [
    "## GUESS NULL POSTAL CODE WHEN POSSIBLE AND COMPLETE THESE ROWS\n",
    "\n",
    "# We could have null postal codes. IN these cases we'll try to find the one corresponding with\n",
    "# the county and city in the postal code table (when there is just one for that city) and\n",
    "# we'll complete the row with the postal code\n",
    "\n",
    "check_sparkdf_not_nulls(sparkdf_garitos,['postal_code'])"
   ]
  },
  {
   "cell_type": "code",
   "execution_count": 37,
   "id": "electoral-trunk",
   "metadata": {},
   "outputs": [
    {
     "data": {
      "text/plain": [
       "[Row(name='PUB EBANO', address='C/ JUAN FERRERO Nº 80', county='León', city='Valderrueda', postal_code=None, garito_kind='bares'),\n",
       " Row(name='SILVAN', address=None, county='León', city='Torre del Bierzo', postal_code=None, garito_kind='bares')]"
      ]
     },
     "execution_count": 37,
     "metadata": {},
     "output_type": "execute_result"
    }
   ],
   "source": [
    "# We found rows with null postal_code so we put all these rows in a spark dataframe\n",
    "\n",
    "sparkdf_garitos_pc_null=sparkdf_garitos.select(\n",
    "            '*'\n",
    "            ).where(col('postal_code').isNull())\n",
    "\n",
    "sparkdf_garitos=sparkdf_garitos.select(\n",
    "            '*'\n",
    "            ).where(col('postal_code').isNotNull())\n",
    "\n",
    "sparkdf_garitos_pc_null.head(2)"
   ]
  },
  {
   "cell_type": "code",
   "execution_count": 38,
   "id": "built-error",
   "metadata": {},
   "outputs": [
    {
     "name": "stdout",
     "output_type": "stream",
     "text": [
      "+----------------+------------+-----------+\n",
      "|            city|postal_codes|postal_code|\n",
      "+----------------+------------+-----------+\n",
      "|          Abades|           1|      40141|\n",
      "|Abarca de Campos|           1|      34338|\n",
      "|          Abejar|           1|      42146|\n",
      "|         Abusejo|           1|      37640|\n",
      "|  Adrada de Haza|           1|      09462|\n",
      "+----------------+------------+-----------+\n",
      "only showing top 5 rows\n",
      "\n"
     ]
    }
   ],
   "source": [
    "# We extract the list of cities with unique postal code (The only ones we can use to guess postal codes)\n",
    "\n",
    "cities_with_unique_postal_codes=sparkdf_postal_codes.select(\n",
    "            'city',\n",
    "            'postal_code'\n",
    "            ).groupBy(\"city\") \\\n",
    "            .agg(count('postal_code').alias('postal_codes'),\n",
    "                 max('postal_code').alias('postal_code')) \\\n",
    "            .orderBy('city', ascending=True) \\\n",
    "            .where(\"postal_codes=1\")\n",
    "\n",
    "\n",
    "cities_with_unique_postal_codes.show(5)   \n"
   ]
  },
  {
   "cell_type": "code",
   "execution_count": 39,
   "id": "subsequent-constitutional",
   "metadata": {},
   "outputs": [
    {
     "name": "stdout",
     "output_type": "stream",
     "text": [
      "+--------------------+--------------------+---------+--------------------+-----------+-----------+\n",
      "|                name|             address|   county|                city|postal_code|garito_kind|\n",
      "+--------------------+--------------------+---------+--------------------+-----------+-----------+\n",
      "|           PUB EBANO|C/ JUAN FERRERO N...|     León|         Valderrueda|       null|      bares|\n",
      "|              SILVAN|                null|     León|    Torre del Bierzo|       null|      bares|\n",
      "|              FARINA|C/ ANTONIO ALMARZ...|    Ávila|               Ávila|       null|      bares|\n",
      "|              AGUEDA|CAMINO DEL PEREGR...|     León|                León|       null|      bares|\n",
      "|               VIFER| MAESTRO URIARTE, 25|     León|                León|       null|      bares|\n",
      "|           LA CHISPA|C/ OBISPO MONTOYA...| Palencia|             Grijota|      34192|      bares|\n",
      "|              RAMSES|CARRETERA ESTACIO...|    Ávila|         Sanchidrián|       null|      bares|\n",
      "|         LA PETENERA|     CL/ CALZADAS, 1|   Burgos|              Burgos|       null|      bares|\n",
      "|               OASIS|      LA VICTORIA, 4|     León|Valencia de Don Juan|       null|      bares|\n",
      "|    MESON LA BARRACA|AVDA. RODRÍGUEZ P...|     León|                León|       null|      bares|\n",
      "|            LA PLAZA|     PZA. MAYOR, S/N|     León|   Vegas del Condado|       null|      bares|\n",
      "|MERCADO REGIONAL ...|CTRA. BURGOS-PORT...|Salamanca|           Salamanca|       null|      bares|\n",
      "|             AVENIDA|GONZÁLEZ DE LAMA, 10|     León|                León|       null|      bares|\n",
      "|              CASINO|PLAZA DE LA LEÑA,...|     León|          Villamañán|       null|      bares|\n",
      "|           LA VUELTA|TRAVESIA DE SANTA...|    Ávila|Hoyo de Pinares (El)|       null|      bares|\n",
      "+--------------------+--------------------+---------+--------------------+-----------+-----------+\n",
      "\n",
      "None\n"
     ]
    }
   ],
   "source": [
    "# Completing postalcodeless garitos with postal code when there is only one / city\n",
    "\n",
    "sparkdf_garitos_pc_fixed = sparkdf_garitos_pc_null.join(\n",
    "    cities_with_unique_postal_codes,\n",
    "    sparkdf_garitos_pc_null.city == cities_with_unique_postal_codes.city,\n",
    "    'left').select(\n",
    "        'name',\n",
    "        'address',\n",
    "        'county',\n",
    "        sparkdf_garitos_pc_null.city,\n",
    "        cities_with_unique_postal_codes.postal_code,\n",
    "        'garito_kind'\n",
    "    )\n",
    "\n",
    "print(sparkdf_garitos_pc_fixed.show(15))\n",
    "# (It seems we were just able to fix 1)\n"
   ]
  },
  {
   "cell_type": "code",
   "execution_count": 40,
   "id": "refined-crawford",
   "metadata": {},
   "outputs": [],
   "source": [
    "sparkdf_garitos = (\n",
    "        sparkdf_garitos.union(sparkdf_garitos_pc_fixed)\n",
    "    )"
   ]
  },
  {
   "cell_type": "markdown",
   "id": "protective-desperate",
   "metadata": {},
   "source": [
    "### EXAMPLE QUERIES TO GARITOS"
   ]
  },
  {
   "cell_type": "code",
   "execution_count": 7,
   "id": "anonymous-cleveland",
   "metadata": {},
   "outputs": [
    {
     "data": {
      "text/html": [
       "<div>\n",
       "<style scoped>\n",
       "    .dataframe tbody tr th:only-of-type {\n",
       "        vertical-align: middle;\n",
       "    }\n",
       "\n",
       "    .dataframe tbody tr th {\n",
       "        vertical-align: top;\n",
       "    }\n",
       "\n",
       "    .dataframe thead th {\n",
       "        text-align: right;\n",
       "    }\n",
       "</style>\n",
       "<table border=\"1\" class=\"dataframe\">\n",
       "  <thead>\n",
       "    <tr style=\"text-align: right;\">\n",
       "      <th></th>\n",
       "      <th>name</th>\n",
       "      <th>address</th>\n",
       "      <th>county</th>\n",
       "      <th>city</th>\n",
       "      <th>postal_code</th>\n",
       "      <th>garito_kind</th>\n",
       "    </tr>\n",
       "  </thead>\n",
       "  <tbody>\n",
       "    <tr>\n",
       "      <th>count</th>\n",
       "      <td>22487</td>\n",
       "      <td>22426</td>\n",
       "      <td>22487</td>\n",
       "      <td>22487</td>\n",
       "      <td>22472</td>\n",
       "      <td>22487</td>\n",
       "    </tr>\n",
       "    <tr>\n",
       "      <th>unique</th>\n",
       "      <td>16100</td>\n",
       "      <td>21087</td>\n",
       "      <td>9</td>\n",
       "      <td>1730</td>\n",
       "      <td>2025</td>\n",
       "      <td>3</td>\n",
       "    </tr>\n",
       "    <tr>\n",
       "      <th>top</th>\n",
       "      <td>LA PLAZA</td>\n",
       "      <td>PLAZA MAYOR, 2</td>\n",
       "      <td>León</td>\n",
       "      <td>Valladolid</td>\n",
       "      <td>24003</td>\n",
       "      <td>bares</td>\n",
       "    </tr>\n",
       "    <tr>\n",
       "      <th>freq</th>\n",
       "      <td>87</td>\n",
       "      <td>20</td>\n",
       "      <td>4942</td>\n",
       "      <td>2668</td>\n",
       "      <td>369</td>\n",
       "      <td>15080</td>\n",
       "    </tr>\n",
       "  </tbody>\n",
       "</table>\n",
       "</div>"
      ],
      "text/plain": [
       "            name         address county        city postal_code garito_kind\n",
       "count      22487           22426  22487       22487       22472       22487\n",
       "unique     16100           21087      9        1730        2025           3\n",
       "top     LA PLAZA  PLAZA MAYOR, 2   León  Valladolid       24003       bares\n",
       "freq          87              20   4942        2668         369       15080"
      ]
     },
     "execution_count": 7,
     "metadata": {},
     "output_type": "execute_result"
    }
   ],
   "source": [
    "# I want to practice with both dataframes and sparkdfs\n",
    "# df shows here that there are addressless and postal_codeless\n",
    "# garitos (garito= bar | restaurant | cafe) but no countyless or cityless\n",
    "df=sparkdf_garitos.toPandas()\n",
    "df.describe(include='all')"
   ]
  },
  {
   "cell_type": "code",
   "execution_count": 43,
   "id": "prompt-convert",
   "metadata": {},
   "outputs": [
    {
     "data": {
      "text/plain": [
       "[Row(name='LA PLAZA', Total=87),\n",
       " Row(name='AVENIDA', Total=55),\n",
       " Row(name='PLAZA', Total=47),\n",
       " Row(name='CENTRAL', Total=43),\n",
       " Row(name='TELEPIZZA', Total=41),\n",
       " Row(name='EL PASO', Total=36),\n",
       " Row(name='PISCINAS MUNICIPALES', Total=35),\n",
       " Row(name='LA TABERNA', Total=32),\n",
       " Row(name='EL RINCON', Total=32),\n",
       " Row(name='LA TERRAZA', Total=31),\n",
       " Row(name='BURGER KING', Total=31),\n",
       " Row(name='CASTILLA', Total=31),\n",
       " Row(name='EL CRUCE', Total=30),\n",
       " Row(name='LOS ARCOS', Total=30),\n",
       " Row(name='LA PARADA', Total=29),\n",
       " Row(name='EL PUENTE', Total=28),\n",
       " Row(name='LA BODEGUILLA', Total=27),\n",
       " Row(name='LA FUENTE', Total=27),\n",
       " Row(name='LOS ANGELES', Total=23),\n",
       " Row(name='EL MOLINO', Total=23),\n",
       " Row(name='EL PARQUE', Total=22),\n",
       " Row(name='MANOLO', Total=22),\n",
       " Row(name='LAS PISCINAS', Total=21),\n",
       " Row(name='LA CASONA', Total=21),\n",
       " Row(name='PISCINA MUNICIPAL', Total=21),\n",
       " Row(name='LA BODEGA', Total=21),\n",
       " Row(name='EL CASTILLO', Total=21),\n",
       " Row(name='EL REFUGIO', Total=20),\n",
       " Row(name='LA POSADA', Total=20),\n",
       " Row(name='PACO', Total=19)]"
      ]
     },
     "execution_count": 43,
     "metadata": {},
     "output_type": "execute_result"
    }
   ],
   "source": [
    "# Playing with Spark Data Frames. Most repeated names.\n",
    "garitos_name_top = sparkdf_garitos \\\n",
    "    .select(\"name\",'address') \\\n",
    "    .groupBy(\"name\") \\\n",
    "    .agg(count(\"address\").alias(\"Total\")) \\\n",
    "    .orderBy(\"Total\", ascending=False)\n",
    "garitos_name_top.head(30)\n"
   ]
  },
  {
   "cell_type": "code",
   "execution_count": 5,
   "id": "afraid-azerbaijan",
   "metadata": {},
   "outputs": [
    {
     "name": "stdout",
     "output_type": "stream",
     "text": [
      "[Row(name='BURGER KING', Total=27), Row(name='TELEPIZZA', Total=18), Row(name='LA POSADA', Total=12), Row(name='EL MOLINO', Total=10), Row(name='LA TABERNA', Total=10), Row(name='AVENIDA', Total=10), Row(name='LA CASONA', Total=10), Row(name=\"FOSTER'S HOLLYWOOD\", Total=9), Row(name='EL CRUCE', Total=8), Row(name='LOS ARCOS', Total=7), Row(name='BURGUER KING', Total=7), Row(name='CASTILLA', Total=7), Row(name='PLAZA', Total=7), Row(name=\"DOMINO'S PIZZA\", Total=7), Row(name=\"MC DONALD'S\", Total=7), Row(name='EL CASTILLO', Total=7), Row(name='LA PARADA', Total=7), Row(name='LA TERRAZA', Total=7), Row(name='CASA PACO', Total=6), Row(name='EL JARDIN', Total=6), Row(name='EL PASO', Total=6), Row(name='LA GRAN MURALLA', Total=6), Row(name='LA ENCINA', Total=6), Row(name='CENTRAL', Total=6), Row(name='LAS NIEVES', Total=6), Row(name='EL CAPRICHO', Total=6), Row(name='LA MURALLA', Total=6), Row(name='EL MESON', Total=6), Row(name='EL MIRADOR', Total=6), Row(name='HOGAR TERCERA EDAD', Total=5)]\n"
     ]
    }
   ],
   "source": [
    "# Playing with Spark Data Frames. \n",
    "# Most repeated restaurant names\n",
    "\n",
    "restaurante_name_top = sparkdf_garitos \\\n",
    "    .select(\"name\",'address','garito_kind') \\\n",
    "    .where(\"garito_kind='restaurantes'\") \\\n",
    "    .groupBy(\"name\",) \\\n",
    "    .agg(count(\"address\").alias(\"Total\")) \\\n",
    "    .orderBy(\"Total\", ascending=False)\n",
    "\n",
    "print(restaurante_name_top.head(30))\n",
    "\n"
   ]
  },
  {
   "cell_type": "code",
   "execution_count": 51,
   "id": "minute-sheep",
   "metadata": {},
   "outputs": [
    {
     "name": "stdout",
     "output_type": "stream",
     "text": [
      "[Row(county='León', Total=317), Row(county='Salamanca', Total=315), Row(county='Valladolid', Total=230), Row(county='Burgos', Total=179), Row(county='Ávila', Total=141), Row(county='Zamora', Total=91), Row(county='Segovia', Total=59), Row(county='Soria', Total=59), Row(county='Palencia', Total=54)]\n"
     ]
    }
   ],
   "source": [
    "# Playing with Spark Data Frames. \n",
    "# Counties order by number of cafeterias \n",
    "\n",
    "cafe_name_top = sparkdf_garitos \\\n",
    "    .select(\"county\",'address') \\\n",
    "    .where(\"garito_kind='cafeterias'\") \\\n",
    "    .groupBy(\"county\",) \\\n",
    "    .agg(count(\"address\").alias(\"Total\")) \\\n",
    "    .orderBy(\"Total\", ascending=False)\n",
    "\n",
    "print(cafe_name_top.head(30))"
   ]
  },
  {
   "cell_type": "code",
   "execution_count": 54,
   "id": "smaller-trinity",
   "metadata": {},
   "outputs": [
    {
     "data": {
      "text/plain": [
       "[Row(city='Burgos', cafes=102, bars=765, restaurants=244, total=1110),\n",
       " Row(city='Aranda de Duero', cafes=19, bars=168, restaurants=62, total=249),\n",
       " Row(city='Miranda de Ebro', cafes=14, bars=177, restaurants=42, total=233),\n",
       " Row(city='Medina de Pomar', cafes=3, bars=67, restaurants=20, total=90),\n",
       " Row(city='Villarcayo de Merindad de Castilla la Vieja', cafes=7, bars=42, restaurants=16, total=65),\n",
       " Row(city='Briviesca', cafes=3, bars=42, restaurants=13, total=58),\n",
       " Row(city='Lerma', cafes=2, bars=19, restaurants=22, total=43),\n",
       " Row(city='Valle de Mena', cafes=2, bars=29, restaurants=13, total=41),\n",
       " Row(city='Espinosa de los Monteros', cafes=0, bars=25, restaurants=11, total=36),\n",
       " Row(city='Salas de los Infantes', cafes=0, bars=20, restaurants=9, total=29),\n",
       " Row(city='Roa', cafes=1, bars=18, restaurants=6, total=25),\n",
       " Row(city='Belorado', cafes=3, bars=12, restaurants=10, total=25),\n",
       " Row(city='Quintanar de la Sierra', cafes=0, bars=18, restaurants=7, total=24),\n",
       " Row(city='Melgar de Fernamental', cafes=0, bars=17, restaurants=6, total=23),\n",
       " Row(city='Valle de Sedano', cafes=0, bars=8, restaurants=14, total=21),\n",
       " Row(city='Huerta de Rey', cafes=0, bars=14, restaurants=5, total=19),\n",
       " Row(city='Villadiego', cafes=0, bars=15, restaurants=5, total=18),\n",
       " Row(city='Valle de Tobalina', cafes=0, bars=10, restaurants=8, total=18),\n",
       " Row(city='Covarrubias', cafes=0, bars=9, restaurants=9, total=18),\n",
       " Row(city='Trespaderne', cafes=3, bars=12, restaurants=2, total=17),\n",
       " Row(city='Oña', cafes=0, bars=10, restaurants=6, total=16),\n",
       " Row(city='Merindad de Montija', cafes=0, bars=10, restaurants=7, total=14),\n",
       " Row(city='Valle de Valdebezana', cafes=0, bars=9, restaurants=8, total=14),\n",
       " Row(city='Castrojeriz', cafes=1, bars=7, restaurants=7, total=14),\n",
       " Row(city='Pancorbo', cafes=1, bars=7, restaurants=4, total=12),\n",
       " Row(city='Ibeas de Juarros', cafes=0, bars=7, restaurants=5, total=12),\n",
       " Row(city='Santo Domingo de Silos', cafes=0, bars=4, restaurants=7, total=11),\n",
       " Row(city='Villalmanzo', cafes=1, bars=5, restaurants=5, total=11),\n",
       " Row(city='Valle de Losa', cafes=0, bars=8, restaurants=3, total=11),\n",
       " Row(city='Condado de Treviño', cafes=1, bars=5, restaurants=4, total=10)]"
      ]
     },
     "execution_count": 54,
     "metadata": {},
     "output_type": "execute_result"
    }
   ],
   "source": [
    "# Playing with Spark Data Frames. \n",
    "# Order cities in a county (Burgos) by numero of garitos, but showing each type\n",
    "burgos_top = sparkdf_garitos \\\n",
    "    .select(\"city\",'address',\n",
    "           when(sparkdf_garitos['garito_kind'] == 'cafeterias', 1).alias(\"is_cafe\"),\n",
    "           when(sparkdf_garitos['garito_kind'] == 'bares', 1).alias(\"is_bar\"),\n",
    "           when(sparkdf_garitos['garito_kind'] == 'restaurantes', 1).alias(\"is_restaurante\")\n",
    "           ) \\\n",
    "    .where(\"county='Burgos'\") \\\n",
    "    .groupBy(\"city\") \\\n",
    "    .agg(count(\"is_cafe\").alias(\"cafes\"), \n",
    "         count(\"is_bar\").alias(\"bars\"),\n",
    "         count(\"is_restaurante\").alias(\"restaurants\"),\n",
    "         count(\"address\").alias(\"total\"),\n",
    "        ) \\\n",
    "    .orderBy(\"Total\", ascending=False)\n",
    "\n",
    "\n",
    "burgos_top.head(30)"
   ]
  },
  {
   "cell_type": "markdown",
   "id": "major-drama",
   "metadata": {},
   "source": [
    "### CREATION OF GARITOS PARQUET TABLE\n"
   ]
  },
  {
   "cell_type": "code",
   "execution_count": 19,
   "id": "relative-nylon",
   "metadata": {},
   "outputs": [],
   "source": [
    "## CLEANED UP GARITOS TO PARQUET \n",
    "toparquet_by_county_and_postcode(spark_session,local_parquet_path  + 'garitos/',sparkdf_garitos)\n"
   ]
  },
  {
   "cell_type": "markdown",
   "id": "disciplinary-scanning",
   "metadata": {},
   "source": [
    "# Associations and Sport Clubs"
   ]
  },
  {
   "cell_type": "markdown",
   "id": "therapeutic-terminology",
   "metadata": {},
   "source": [
    "### CLEANING ASOCIACIONES Y CLUBES DEPORTIVOS\n",
    "These 3 files share same schema"
   ]
  },
  {
   "cell_type": "code",
   "execution_count": 4,
   "id": "going-karen",
   "metadata": {},
   "outputs": [
    {
     "name": "stdout",
     "output_type": "stream",
     "text": [
      "social Spark Data Frame was created; \n",
      "  [Row(name='ASOCIACION DE JUBILADOS Y PENSIONISTAS VIRGEN DE LA PIEDAD', address='c/ Las Parras, 89', county='avila', city='EL BARRACO', postal_code='05110', sports='N/A', social_kind='association'), Row(name='PEÑA SAN MARCOS ', address='DE LAS FUENTES 10 ', county='avila', city='EL BARRACO', postal_code='05000', sports='N/A', social_kind='association')]\n"
     ]
    },
    {
     "data": {
      "text/plain": [
       "[Row(name='ASOCIACION DE JUBILADOS Y PENSIONISTAS VIRGEN DE LA PIEDAD', address='c/ Las Parras, 89', county='avila', city='EL BARRACO', postal_code='05110', sports='N/A', social_kind='association'),\n",
       " Row(name='PEÑA SAN MARCOS ', address='DE LAS FUENTES 10 ', county='avila', city='EL BARRACO', postal_code='05000', sports='N/A', social_kind='association'),\n",
       " Row(name='ASOCIACION DE JUBILADOS Y PENSIONISTAS DE SAN JUAN DEL OLMO SAN JUAN BAUTISTA', address='C/General Franco s/nº', county='avila', city='SAN JUAN DEL OLMO', postal_code='05145', sports='N/A', social_kind='association'),\n",
       " Row(name='ASOCIACION DEPORTIVO CULTURAL DE CAZADORES LA PICOTA', address='C/Piñonera nº 18', county='avila', city='CEBREROS', postal_code='05260', sports='N/A', social_kind='association'),\n",
       " Row(name='ASOCIACION CULTURAL -FORO 93-', address='AVDA. DE JOSE ANTONIO, 32 - 6', county='avila', city='EL HOYO DE PINARES', postal_code='05250', sports='N/A', social_kind='association')]"
      ]
     },
     "execution_count": 4,
     "metadata": {},
     "output_type": "execute_result"
    }
   ],
   "source": [
    "## One from s3 (To test) ant the other from local folder\n",
    "\n",
    "sparkdf_social=create_social(spark_session,local_path,data_asociaciones, data_clubes_deportivos) \n",
    "\n",
    "sparkdf_social.head(5)\n"
   ]
  },
  {
   "cell_type": "markdown",
   "id": "united-steam",
   "metadata": {},
   "source": [
    "### SOCIAL CLEANUP"
   ]
  },
  {
   "cell_type": "code",
   "execution_count": 5,
   "id": "critical-syndicate",
   "metadata": {},
   "outputs": [
    {
     "name": "stdout",
     "output_type": "stream",
     "text": [
      "Checking DataFrame. No null values found in column name\n",
      "Checking DataFrame. No null values found in column county\n",
      "Checking DataFrame. No null values found in column city\n",
      "Checking DataFrame. No null values found in column social_kind\n"
     ]
    },
    {
     "data": {
      "text/plain": [
       "True"
      ]
     },
     "execution_count": 5,
     "metadata": {},
     "output_type": "execute_result"
    }
   ],
   "source": [
    "##CHECK FOR NULL VALUES IN KEY COLUMNS\n",
    "check_sparkdf_not_nulls(sparkdf_social,['name','county','city','social_kind'])"
   ]
  },
  {
   "cell_type": "code",
   "execution_count": 6,
   "id": "connected-kinase",
   "metadata": {},
   "outputs": [
    {
     "name": "stdout",
     "output_type": "stream",
     "text": [
      "[Row(name='ASOCIACION JUVENIL CULTURAL 15 DE AGOSTO ', county='segovia', city='MOZONCILLO', social_kind='association', count=2), Row(name='ASOCIACIÓN CÍRCULO PSICOANALÍTICO DE LEÓN', county='león', city='LEÓN', social_kind='association', count=2), Row(name='ASOCIACION JUVENIL EL RIO ', county='segovia', city='CARRASCAL DEL RÍO', social_kind='association', count=2), Row(name='ANULADO', county='zamora', city='ZAMORA', social_kind='sports_club', count=2), Row(name='ASOCIACIÓN CULTURAL LUCERNA', county='león', city='CARUCEDO', social_kind='association', count=2)]\n"
     ]
    }
   ],
   "source": [
    "##CHECK FOR REPEATED VALUES IN KEY COLUMNS\n",
    "# We can accept same name, even same name in same city (if it is a different kind\n",
    "# of association), but not same name / same city / same kind\n",
    "dupes=check_sparkdf_find_dupes(sparkdf_social,['name','county','city','social_kind'])\n",
    "\n",
    "print(dupes.head(15))"
   ]
  },
  {
   "cell_type": "code",
   "execution_count": 7,
   "id": "wanted-dispute",
   "metadata": {},
   "outputs": [
    {
     "name": "stdout",
     "output_type": "stream",
     "text": [
      "+-------+--------------------+----------+--------------------+-----------+--------------------+-----------+\n",
      "|   name|             address|    county|                city|postal_code|              sports|social_kind|\n",
      "+-------+--------------------+----------+--------------------+-----------+--------------------+-----------+\n",
      "|ANULADO|                 XXX|valladolid|          VALLADOLID|      47000|FU001#FÚTBOL - FÚ...|sports_club|\n",
      "|ANULADO|C/ CORUÑA DEL CON...|    burgos|     ARANDA DE DUERO|       9400|FU001#FÚTBOL - FÚ...|sports_club|\n",
      "|ANULADO|                JJJJ|  palencia|CAMPORREDONDO DE ...|      34888|CI003#CICLISMO - ...|sports_club|\n",
      "|ANULADO|      Avda principal|     ávila|NAVAS DEL MARQUES...|       5230|CA001#CAZA - PICH...|sports_club|\n",
      "|ANULADO|           XXXXXXXXX| salamanca|           SALAMANCA|      37008|MT018#MOTOCICLISM...|sports_club|\n",
      "|ANULADO|C/ CARTAJENA DE I...|    zamora| MORALES DE VALVERDE|      49697|CA001#CAZA - PICH...|sports_club|\n",
      "|ANULADO|    XXXXXXXXXXXXXXXX|      león|VELILLA DE LA REI...|      24272|BC001#BALONCESTO ...|sports_club|\n",
      "|ANULADO|     VVVVVVVVVVVVVVV|    zamora|              ZAMORA|      49166|GI001#GIMNASIA - ...|sports_club|\n",
      "|ANULADO|                 XXX|     ávila|            CASILLAS|       5428|FU001#FÚTBOL - FÚ...|sports_club|\n",
      "|ANULADO|                   C|    zamora|              ZAMORA|      49025|BM001#BALONMANO -...|sports_club|\n",
      "|ANULADO|CALLE DE LA ADELF...|      león|TROBAJO DEL CAMIN...|      24010|AT001#ATLETISMO -...|sports_club|\n",
      "+-------+--------------------+----------+--------------------+-----------+--------------------+-----------+\n",
      "\n"
     ]
    }
   ],
   "source": [
    "## We see there are several duplicates, one of them name=\"ANULADO\" (Means voided)\n",
    "## makes us think we should find other ANULADO/VOIDED and remove all of them\n",
    "\n",
    "sparkdf_social_voided = sparkdf_social.select('*').where(\"name='ANULADO'\").show()"
   ]
  },
  {
   "cell_type": "code",
   "execution_count": 8,
   "id": "victorian-integration",
   "metadata": {},
   "outputs": [],
   "source": [
    "# changing name to ANULADO instead of removing the item seems a common practice in the sports_club \n",
    "# datasource. We get rid of all of them\n",
    "\n",
    "sparkdf_social = sparkdf_social.select('*').where(\"name <> 'ANULADO'\")"
   ]
  },
  {
   "cell_type": "code",
   "execution_count": 9,
   "id": "arbitrary-dollar",
   "metadata": {},
   "outputs": [
    {
     "name": "stdout",
     "output_type": "stream",
     "text": [
      "Rows before removing duplicates 43738\n",
      "Rows after removing duplicates 43734\n"
     ]
    }
   ],
   "source": [
    "# Also, we want to remove other duplicates\n",
    "\n",
    "print('Rows before removing duplicates',sparkdf_social.count())\n",
    "sparkdf_social=sparkdf_social.dropDuplicates(['name','county','city','social_kind'])\n",
    "print('Rows after removing duplicates',sparkdf_social.count())\n"
   ]
  },
  {
   "cell_type": "code",
   "execution_count": 10,
   "id": "mexican-branch",
   "metadata": {},
   "outputs": [
    {
     "data": {
      "text/plain": [
       "[Row(County='león'),\n",
       " Row(County='ávila'),\n",
       " Row(County='segovia'),\n",
       " Row(County='palencia'),\n",
       " Row(County='soria'),\n",
       " Row(County='burgos'),\n",
       " Row(County='zamora'),\n",
       " Row(County='valladolid'),\n",
       " Row(County='salamanca')]"
      ]
     },
     "execution_count": 10,
     "metadata": {},
     "output_type": "execute_result"
    }
   ],
   "source": [
    "# CHECK and remove wrong Counties as we are going to partition by county\n",
    "sparkdf_social=clean_wrong_counties(sparkdf_social)\n",
    "\n",
    "sparkdf_social.select(\"County\").distinct().head(80)\n"
   ]
  },
  {
   "cell_type": "markdown",
   "id": "welsh-inventory",
   "metadata": {},
   "source": [
    "### CREATION OF SOCIAL PARQUET TABLE"
   ]
  },
  {
   "cell_type": "code",
   "execution_count": 11,
   "id": "critical-participant",
   "metadata": {},
   "outputs": [],
   "source": [
    "\n",
    "## CLEANED UP SOCIAL TO PARQUET (LOCAL)\n",
    "toparquet_by_county_and_postcode(spark_session,local_parquet_path  + 'social/',sparkdf_social)"
   ]
  },
  {
   "cell_type": "code",
   "execution_count": 32,
   "id": "hungry-friendly",
   "metadata": {},
   "outputs": [],
   "source": [
    "## CLEANED UP SOCIAL TO PARQUET (S3)\n",
    "\n",
    "#bucket_name = 'raul-udacity'\n",
    "#bucket_parquet_path ='/parquet/'\n",
    "#Sparkdf_social.write.partitionBy(\"county\",\"postal_code\").parquet('s3a://'+bucket_name+bucket_parquet_path + \"social/\", mode=\"overwrite\")"
   ]
  },
  {
   "cell_type": "markdown",
   "id": "funky-albuquerque",
   "metadata": {},
   "source": [
    "### EXAMPLE QUERIES TO SOCIAL"
   ]
  },
  {
   "cell_type": "code",
   "execution_count": 17,
   "id": "indirect-aging",
   "metadata": {},
   "outputs": [
    {
     "data": {
      "text/plain": [
       "[Row(sports='N/A', sport_associations=5423),\n",
       " Row(sports='', sport_associations=1102),\n",
       " Row(sports='CA005#CAZA - PERROS DE CAZA Y AGILITY#', sport_associations=385),\n",
       " Row(sports='CA013#CAZA - EDUCACIÓN CANINA#', sport_associations=385),\n",
       " Row(sports='CA006#CAZA - CETRERIA#', sport_associations=384),\n",
       " Row(sports='CA009#CAZA - TIRO A CAZA LANZADA#', sport_associations=384),\n",
       " Row(sports='CA001#CAZA - PICHON A BRAZO#', sport_associations=384),\n",
       " Row(sports='CA012#CAZA - PERDIZ CON RECLAMO#', sport_associations=384),\n",
       " Row(sports='CA014#CAZA - CAZA DE BECADAS#', sport_associations=384),\n",
       " Row(sports='CA008#CAZA - CAZA CON ARCO#', sport_associations=384),\n",
       " Row(sports='CA010#CAZA - CAZA FOTOGRAFICA Y VIDEO#', sport_associations=384),\n",
       " Row(sports='CA011#CAZA - COMPAK SPORTING#', sport_associations=384),\n",
       " Row(sports='CA004#CAZA - CAZA SAN HUBERTO#', sport_associations=384),\n",
       " Row(sports='CA007#CAZA - PAJAROS DE CANTO#', sport_associations=383),\n",
       " Row(sports='CA003#CAZA - RECORRIDOS DE CAZA#', sport_associations=383),\n",
       " Row(sports='CA002#CAZA - CAZA MENOR CON PERROS#', sport_associations=382),\n",
       " Row(sports='FU001#FÚTBOL - FÚTBOL#', sport_associations=160),\n",
       " Row(sports='FU002#FÚTBOL - FÚTBOL SALA#', sport_associations=152),\n",
       " Row(sports='CI003#CICLISMO - BICICLETA MONTAÑA (BTT)#', sport_associations=123),\n",
       " Row(sports='CI001#CICLISMO - CARRETERA#', sport_associations=121),\n",
       " Row(sports='CI010#CICLISMO - CICLOTURISMO#', sport_associations=120),\n",
       " Row(sports='CI005#CICLISMO - ADAPTADO CARRETERA#', sport_associations=119),\n",
       " Row(sports='CI007#CICLISMO - CICLO-CROSS#', sport_associations=119),\n",
       " Row(sports='CI006#CICLISMO - ADAPTADO PISTA#', sport_associations=119),\n",
       " Row(sports='CI009#CICLISMO - CICLISMO EN SALA#', sport_associations=119),\n",
       " Row(sports='CI002#CICLISMO - PISTA#', sport_associations=119),\n",
       " Row(sports='CI004#CICLISMO - BMX#', sport_associations=119),\n",
       " Row(sports='CI008#CICLISMO - TRIAL-BICI#', sport_associations=118),\n",
       " Row(sports='BC001#BALONCESTO - BALONCESTO#', sport_associations=96),\n",
       " Row(sports='AT003#ATLETISMO - RUTA#', sport_associations=92),\n",
       " Row(sports='AT001#ATLETISMO - PISTA#', sport_associations=92),\n",
       " Row(sports='AT004#ATLETISMO - MARCHA ATLÉTICA#', sport_associations=91),\n",
       " Row(sports='AT002#ATLETISMO - CAMPO A TRAVES#', sport_associations=90),\n",
       " Row(sports='MO002#MONTAÑA, ESCALADA Y SENDERISMO - SENDERISMO#', sport_associations=87),\n",
       " Row(sports='MO007#MONTAÑA, ESCALADA Y SENDERISMO - CARRERAS POR MONTAÑA#', sport_associations=84),\n",
       " Row(sports='MO010#MONTAÑA, ESCALADA Y SENDERISMO - EXCURSIONES, TRAVESIAS Y ACAMPADAS#', sport_associations=83),\n",
       " Row(sports='MO004#MONTAÑA, ESCALADA Y SENDERISMO - ESCALADA DEPORTIVA#', sport_associations=82),\n",
       " Row(sports='MO005#MONTAÑA, ESCALADA Y SENDERISMO - ESCALADA EN HIELO#', sport_associations=82),\n",
       " Row(sports='MO001#MONTAÑA, ESCALADA Y SENDERISMO - ALPINISMO#', sport_associations=82),\n",
       " Row(sports='MO008#MONTAÑA, ESCALADA Y SENDERISMO - RAQUETAS DE NIEVE#', sport_associations=81),\n",
       " Row(sports='MO006#MONTAÑA, ESCALADA Y SENDERISMO - RECORRIDOS POR BARRANCOS, CAÑONES Y DESFILADEROS#', sport_associations=81),\n",
       " Row(sports='MO009#MONTAÑA, ESCALADA Y SENDERISMO - ESQUI DE TRAVESÍA O DE MONTAÑA#', sport_associations=81),\n",
       " Row(sports='MO003#MONTAÑA, ESCALADA Y SENDERISMO - ESCALADAS EN ROCA#', sport_associations=80),\n",
       " Row(sports='CA016#CAZA - CAZA CIENTÍFICA#', sport_associations=57),\n",
       " Row(sports='MT003#MOTOCICLISMO - MOTO CROSS#', sport_associations=45),\n",
       " Row(sports='MT006#MOTOCICLISMO - SUPERCROSS (STADIUM MOTOCROSS)#', sport_associations=45),\n",
       " Row(sports='MT012#MOTOCICLISMO - SUPERMOTARD#', sport_associations=44),\n",
       " Row(sports='MT007#MOTOCICLISMO - MOTO-BALL#', sport_associations=44),\n",
       " Row(sports='MT010#MOTOCICLISMO - SPEEDWAY#', sport_associations=44),\n",
       " Row(sports='MT011#MOTOCICLISMO - TURISMO#', sport_associations=44),\n",
       " Row(sports='MT002#MOTOCICLISMO - ENDURO#', sport_associations=44),\n",
       " Row(sports='MT009#MOTOCICLISMO - MOTO NIEVE#', sport_associations=44),\n",
       " Row(sports='MT001#MOTOCICLISMO - VELOCIDAD#', sport_associations=44),\n",
       " Row(sports='MT014#MOTOCICLISMO - FREESTYLE#', sport_associations=44),\n",
       " Row(sports='MT004#MOTOCICLISMO - TRIAL#', sport_associations=44),\n",
       " Row(sports='MT005#MOTOCICLISMO - TRIAL INDOOR#', sport_associations=44),\n",
       " Row(sports='MT013#MOTOCICLISMO - QUADS#', sport_associations=44),\n",
       " Row(sports='MT008#MOTOCICLISMO - RAID (RALLY-TT)#', sport_associations=44),\n",
       " Row(sports='MT015#MOTOCICLISMO - RESISTENCIA (REGULARIDAD)#', sport_associations=43),\n",
       " Row(sports='TE002#TENIS - TENIS PLAYA#', sport_associations=42),\n",
       " Row(sports='PD001#PÁDEL - PÁDEL#', sport_associations=42),\n",
       " Row(sports='TE001#TENIS - TENIS#', sport_associations=42),\n",
       " Row(sports='AU007#AUTOMOVILISMO - AUTOCROSS#', sport_associations=42),\n",
       " Row(sports='AU011#AUTOMOVILISMO - KARTS#', sport_associations=42),\n",
       " Row(sports='AU002#AUTOMOVILISMO - CIRCUITO PERMANENTE#', sport_associations=41),\n",
       " Row(sports='AU010#AUTOMOVILISMO - 4X4 TRIAL#', sport_associations=41),\n",
       " Row(sports='AU008#AUTOMOVILISMO - VINTAGE#', sport_associations=41),\n",
       " Row(sports='AU006#AUTOMOVILISMO - GYMKHANAS#', sport_associations=41),\n",
       " Row(sports='AU005#AUTOMOVILISMO - SLALOM#', sport_associations=41),\n",
       " Row(sports='AU012#AUTOMOVILISMO - REGULARIDAD Y CONCENTRACIONES#', sport_associations=41)]"
      ]
     },
     "execution_count": 17,
     "metadata": {},
     "output_type": "execute_result"
    }
   ],
   "source": [
    "## Sports / county\n",
    "# https://stackoverflow.com/questions/57066797/pyspark-dataframe-split-column-with-multiple-values-into-rows#57080133\n",
    "\n",
    "from pyspark.sql.functions import explode, regexp_replace, split\n",
    "\n",
    "out=sparkdf_social.withColumn(\n",
    "    \"sports\", \n",
    "    explode(split(col(\"sports\"), \"\\|\"))\n",
    ").where(\"county='burgos'\").select(\n",
    "    col('sports')\n",
    "    ).groupBy('sports').agg(count('sports').alias('sport_associations')) \\\n",
    "    .orderBy('sport_associations', ascending=False)\n",
    "\n",
    "\n",
    "\n",
    "out.head(70)"
   ]
  },
  {
   "cell_type": "markdown",
   "id": "elegant-garden",
   "metadata": {},
   "source": [
    "# Step 3: Define the Data Model\n",
    "## 3.1 Conceptual Data Model\n",
    "Map out the conceptual data model and explain why you chose that model\n",
    "\n",
    "## 3.2 Mapping Out Data Pipelines\n",
    "List the steps necessary to pipeline the data into the chosen data model"
   ]
  },
  {
   "cell_type": "markdown",
   "id": "modular-avatar",
   "metadata": {},
   "source": [
    "# Step 4: Run Pipelines to Model the Data \n",
    "## 4.1 Create the data model\n",
    "Build the data pipelines to create the data model.\n"
   ]
  },
  {
   "cell_type": "markdown",
   "id": "expired-palace",
   "metadata": {},
   "source": [
    "## 4.2 Data Quality Checks\n",
    "Explain the data quality checks you'll perform to ensure the pipeline ran as expected. These could include:\n",
    " * Integrity constraints on the relational database (e.g., unique key, data type, etc.)\n",
    " * Unit tests for the scripts to ensure they are doing the right thing\n",
    " * Source/Count checks to ensure completeness\n",
    " \n",
    "Run Quality Checks"
   ]
  },
  {
   "cell_type": "markdown",
   "id": "entertaining-industry",
   "metadata": {},
   "source": [
    "## 4.3 Data dictionary \n",
    "Create a data dictionary for your data model. For each field, provide a brief description of what the data is and where it came from. You can include the data dictionary in the notebook or in a separate file."
   ]
  },
  {
   "cell_type": "markdown",
   "id": "amber-strain",
   "metadata": {},
   "source": [
    "## Step 5: Complete Project Write Up\n",
    "* Clearly state the rationale for the choice of tools and technologies for the project.\n",
    "* Propose how often the data should be updated and why.\n",
    "* Write a description of how you would approach the problem differently under the following scenarios:\n",
    " * The data was increased by 100x.\n",
    " * The data populates a dashboard that must be updated on a daily basis by 7am every day.\n",
    " * The database needed to be accessed by 100+ people."
   ]
  },
  {
   "cell_type": "code",
   "execution_count": null,
   "id": "hairy-elevation",
   "metadata": {},
   "outputs": [],
   "source": []
  }
 ],
 "metadata": {
  "kernelspec": {
   "display_name": "Python 3",
   "language": "python",
   "name": "python3"
  },
  "language_info": {
   "codemirror_mode": {
    "name": "ipython",
    "version": 3
   },
   "file_extension": ".py",
   "mimetype": "text/x-python",
   "name": "python",
   "nbconvert_exporter": "python",
   "pygments_lexer": "ipython3",
   "version": "3.8.5"
  }
 },
 "nbformat": 4,
 "nbformat_minor": 5
}
