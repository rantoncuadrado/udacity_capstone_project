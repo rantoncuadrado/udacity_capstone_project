{
 "cells": [
  {
   "cell_type": "markdown",
   "id": "encouraging-celebration",
   "metadata": {},
   "source": [
    "# Project Title\n",
    "### Data Engineering Capstone Project\n",
    "\n",
    "#### Project Summary\n",
    "--describe your project at a high level--\n",
    "\n",
    "The project follows the follow steps:\n",
    "* Step 1: Scope the Project and Gather Data\n",
    "* Step 2: Explore and Assess the Data\n",
    "* Step 3: Define the Data Model\n",
    "* Step 4: Run ETL to Model the Data\n",
    "* Step 5: Complete Project Write Up\n"
   ]
  },
  {
   "cell_type": "code",
   "execution_count": 1,
   "id": "native-choir",
   "metadata": {},
   "outputs": [],
   "source": [
    "## NOTES\n",
    "# Install a pip package in the current Jupyter kernel\n",
    "\n",
    "#import sys\n",
    "#!{sys.executable} -m pip install s3fs\n",
    "#!{sys.executable} -m pip install boto\n",
    "#!{sys.executable} -m pip install boto3\n",
    "#!{sys.executable} -m pip install pyspark"
   ]
  },
  {
   "cell_type": "code",
   "execution_count": 125,
   "id": "clinical-energy",
   "metadata": {},
   "outputs": [],
   "source": [
    "# IMPORTS AND INSTALLS\n",
    "\n",
    "import pandas as pd\n",
    "import configparser\n",
    "from datetime import datetime\n",
    "import os\n",
    "\n",
    "import boto\n",
    "import botocore\n",
    "import boto3\n",
    "from boto.s3.key import Key\n",
    "#  https://stackoverflow.com/questions/30249069/listing-contents-of-a-bucket-with-boto3\n",
    "\n",
    "from pyspark.sql import SparkSession\n",
    "from pyspark.sql.functions import udf, col, count, lit, when, max"
   ]
  },
  {
   "cell_type": "code",
   "execution_count": 6,
   "id": "enormous-trance",
   "metadata": {},
   "outputs": [],
   "source": [
    "# SETUP FOR USING S3 BUCKETS WHERE THE DATAFILES ARE\n",
    "\n",
    "config = configparser.ConfigParser()\n",
    "config.read('dl.cfg')\n",
    "\n",
    "os.environ['AWS_ACCESS_KEY_ID']=config['KEYS']['AWS_ACCESS_KEY_ID']\n",
    "os.environ['AWS_SECRET_ACCESS_KEY']=config['KEYS']['AWS_SECRET_ACCESS_KEY']\n",
    "\n",
    "S3_URI = \"s3a://raul-udacity/\"\n",
    "#s3a vs s3 explanation https://stackoverflow.com/questions/33356041/technically-what-is-the-difference-between-s3n-s3a-and-s3\n",
    "\n",
    "data_bares = 'bares.csv'\n",
    "data_restaurantes = 'restaurantes.csv'\n",
    "data_cafeterias = 'cafeterias.csv'\n",
    "\n",
    "data_asociaciones = 'AsociacionesJCyL.csv'\n",
    "data_clubes_deportivos = 'Clubes deportivos.csv'\n",
    "\n",
    "data_bibliotecas = 'Directorio de Bibliotecas de Castilla y León.json'\n",
    "data_museos = 'Directorio de Museos de Castilla y León.json'\n",
    "\n",
    "data_poblacion = 'Cities population per gender age.csv'\n",
    "\n",
    "# Other available data we decided not to use\n",
    "# Poblacion municipio sexo relacion nacimiento residencia.json\n",
    "# Municipios Origen Nacimiento.csv\n",
    "# "
   ]
  },
  {
   "cell_type": "markdown",
   "id": "asian-recommendation",
   "metadata": {},
   "source": [
    "# Step 1: Scope the Project and Gather Data\n",
    "\n",
    "## Scope \n",
    "Explain what you plan to do in the project in more detail. What data do you use? What is your end solution look like? What tools did you use? etc>\n",
    "Scope.md file\n",
    "\n",
    "## Describe and Gather Data \n",
    "Describe the data sets you're using. Where did it come from? What type of information is included? \n",
    "https://github.com/rantoncuadrado/udacity_capstone_project/blob/main/Datasources%20Description.md\n",
    "Datasources Description.md file"
   ]
  },
  {
   "cell_type": "markdown",
   "id": "precious-aquatic",
   "metadata": {},
   "source": [
    "### COPY FILES FROM s3 TO LOCAL"
   ]
  },
  {
   "cell_type": "code",
   "execution_count": 19,
   "id": "editorial-speaker",
   "metadata": {},
   "outputs": [],
   "source": [
    "bucket_name = 'raul-udacity'\n",
    "local_path = './input_files/'\n",
    "local_parquet_path = './input_files/parquet_files/'"
   ]
  },
  {
   "cell_type": "code",
   "execution_count": 4,
   "id": "underlying-stability",
   "metadata": {},
   "outputs": [
    {
     "name": "stdout",
     "output_type": "stream",
     "text": [
      "S3Connection:s3.amazonaws.com\n",
      "{'ResponseMetadata': {'RequestId': 'B08TS1BP1E0BYYP8', 'HostId': 'mQ2qIlPFIrFG677Kn/TGkXyhvTK5F0P5oM1BtJtUyQjxgHNQtmBVwVN7q0sf2xr9zgjKF9cPwoQ=', 'HTTPStatusCode': 200, 'HTTPHeaders': {'x-amz-id-2': 'mQ2qIlPFIrFG677Kn/TGkXyhvTK5F0P5oM1BtJtUyQjxgHNQtmBVwVN7q0sf2xr9zgjKF9cPwoQ=', 'x-amz-request-id': 'B08TS1BP1E0BYYP8', 'date': 'Fri, 30 Apr 2021 20:33:58 GMT', 'x-amz-bucket-region': 'us-east-2', 'content-type': 'application/xml', 'transfer-encoding': 'chunked', 'server': 'AmazonS3'}, 'RetryAttempts': 1}, 'IsTruncated': False, 'Contents': [{'Key': 'AsociacionesJCyL.csv', 'LastModified': datetime.datetime(2021, 3, 26, 13, 32, 33, tzinfo=tzutc()), 'ETag': '\"2d8fc620571c7ff359d526abbc05aa46-2\"', 'Size': 19221292, 'StorageClass': 'STANDARD'}, {'Key': 'Cities population per gender age.csv', 'LastModified': datetime.datetime(2021, 3, 26, 16, 26, 20, tzinfo=tzutc()), 'ETag': '\"70afeabca2e7d026cd63f7e128bfb408-7\"', 'Size': 105319154, 'StorageClass': 'STANDARD'}, {'Key': 'Clubes deportivos.csv', 'LastModified': datetime.datetime(2021, 3, 26, 13, 32, 43, tzinfo=tzutc()), 'ETag': '\"13355a561cdfcb28bee14a49bff15730\"', 'Size': 5667081, 'StorageClass': 'STANDARD'}, {'Key': 'Directorio de Bibliotecas de Castilla y León.json', 'LastModified': datetime.datetime(2021, 3, 26, 16, 3, 4, tzinfo=tzutc()), 'ETag': '\"0fcb0d83e3a55db80094bf42bade2a4b\"', 'Size': 497869, 'StorageClass': 'STANDARD'}, {'Key': 'Directorio de Museos de Castilla y León.json', 'LastModified': datetime.datetime(2021, 3, 26, 16, 3, 2, tzinfo=tzutc()), 'ETag': '\"7b44acf72c96e42e3efc59a3cd479544\"', 'Size': 610961, 'StorageClass': 'STANDARD'}, {'Key': 'Municipios Origen Nacimiento.csv', 'LastModified': datetime.datetime(2021, 3, 26, 13, 32, 46, tzinfo=tzutc()), 'ETag': '\"3e99a703f74b27ab527d74d0427076c5\"', 'Size': 15546977, 'StorageClass': 'STANDARD'}, {'Key': 'Poblacion municipio sexo relacion nacimiento residencia.json', 'LastModified': datetime.datetime(2021, 3, 26, 15, 59, 13, tzinfo=tzutc()), 'ETag': '\"752dcba69389fcca44e469a0e33fb4d3-8\"', 'Size': 124062344, 'StorageClass': 'STANDARD'}, {'Key': 'bares.csv', 'LastModified': datetime.datetime(2021, 3, 26, 13, 32, 49, tzinfo=tzutc()), 'ETag': '\"84b1051b6297f8be9833e93ad12c6b05\"', 'Size': 2324394, 'StorageClass': 'STANDARD'}, {'Key': 'cafeterias.csv', 'LastModified': datetime.datetime(2021, 3, 26, 13, 32, 49, tzinfo=tzutc()), 'ETag': '\"0b07ef86e5e82204642527b74502fd8d\"', 'Size': 274861, 'StorageClass': 'STANDARD'}, {'Key': 'restaurantes.csv', 'LastModified': datetime.datetime(2021, 3, 26, 13, 32, 48, tzinfo=tzutc()), 'ETag': '\"51d528a537b5dc7744c1b6d464dbedec\"', 'Size': 1265015, 'StorageClass': 'STANDARD'}], 'Name': 'raul-udacity', 'Prefix': '', 'MaxKeys': 1000, 'EncodingType': 'url', 'KeyCount': 10}\n",
      "['AsociacionesJCyL.csv', 'Cities population per gender age.csv', 'Clubes deportivos.csv', 'Directorio de Bibliotecas de Castilla y León.json', 'Directorio de Museos de Castilla y León.json', 'Municipios Origen Nacimiento.csv', 'Poblacion municipio sexo relacion nacimiento residencia.json', 'bares.csv', 'cafeterias.csv', 'restaurantes.csv']\n"
     ]
    }
   ],
   "source": [
    "# COPY FILES FROM s3 TO LOCAL. LIST FILENAMES (KEYS)\n",
    "# We need to download the files and then read with spark_session.read.csv or read.json from the local directory\n",
    "# because of this error https://github.com/boto/boto3/issues/2566\n",
    "\n",
    "\n",
    "\n",
    "\n",
    "# connect to the bucket\n",
    "conn = boto.connect_s3(os.environ['AWS_ACCESS_KEY_ID'],os.environ['AWS_SECRET_ACCESS_KEY'])\n",
    "print(conn)\n",
    "\n",
    "\n",
    "# Explanation client and resource\n",
    "s3_resource = boto3.resource('s3')\n",
    "s3 = boto3.client('s3')\n",
    "\n",
    "resp=s3.list_objects_v2(Bucket=bucket_name )\n",
    "print(resp)\n",
    "\n",
    "# List file names\n",
    "files = []\n",
    "for obj in resp['Contents']:\n",
    "        files.append(obj['Key'])\n",
    "\n",
    "print(files)\n",
    "\n",
    "# This would clone a file in a s3 bucket\n",
    "# s3_resource.Object('raul-udacity','bares2.csv').copy_from(CopySource='raul-udacity/bares.csv')\n",
    "# And this would read it df=spark.read.json(\"s3a://udacity-dend/log_json_path.json\")\n",
    "\n",
    "for file in files:\n",
    "    try:\n",
    "        s3_resource.Bucket(bucket_name).download_file(file, local_path+file)\n",
    "    except botocore.exceptions.ClientError as e:\n",
    "        if e.response['Error']['Code'] == \"404\":\n",
    "            print(\"The object does not exist.\")\n",
    "        else:\n",
    "            raise"
   ]
  },
  {
   "cell_type": "markdown",
   "id": "liberal-coffee",
   "metadata": {},
   "source": [
    "# Step 2: Explore and Assess the Data\n",
    "## Explore the Data \n",
    "Identify data quality issues, like missing values, duplicate data, etc.\n",
    "\n",
    "## Cleaning Steps\n",
    "Once we have the files in local filesystem, I'll use dataframes to clean the data and later SPARK to manipulate them."
   ]
  },
  {
   "cell_type": "code",
   "execution_count": 9,
   "id": "hundred-america",
   "metadata": {},
   "outputs": [],
   "source": [
    "# Create an SPARK SESSION\n",
    "\n",
    "spark_session = SparkSession \\\n",
    "        .builder \\\n",
    "        .appName(\"Castilla y Leon -> Fact Tables\") \\\n",
    "        .getOrCreate()\n",
    "\n",
    "\n",
    "spark_session.sparkContext._jsc.hadoopConfiguration().set(\"fs.s3a.aws.credentials.provider\",\"org.apache.hadoop.fs.s3a.SimpleAWSCredentialsProvider\")\n",
    "spark_session.sparkContext._jsc.hadoopConfiguration().set(\"fs.s3a.access.key\",os.environ['AWS_ACCESS_KEY_ID'])\n",
    "spark_session.sparkContext._jsc.hadoopConfiguration().set(\"fs.s3a.secret.key\",os.environ['AWS_SECRET_ACCESS_KEY'])\n",
    "\n",
    "#         .config(\"spark.jars.packages\",\"org.apache.hadoop:hadoop-aws:2.7.0\") \\\n",
    "#        .config(\"spark.hadoop.fs.s3a.access.key\",os.environ['AWS_ACCESS_KEY_ID']) \\\n",
    "#        .config(\"spark.hadoop.fs.s3a.secret.key\",os.environ['AWS_SECRET_ACCESS_KEY']) \\\n",
    "#        .config(\"spark.hadoop.fs.s3a.impl\", \"org.apache.hadoop.fs.s3a.S3AFileSystem\") \\\n",
    "#        .config(\"spark.jars.packages\",\"saurfang:spark-sas7bdat:2.0.0-s_2.11\") \\"
   ]
  },
  {
   "cell_type": "markdown",
   "id": "falling-forth",
   "metadata": {},
   "source": [
    "### CLEANING BAR, RESTAURANT, CAFE and CREATING GARITOS TABLE\n",
    "These 3 files share same schema"
   ]
  },
  {
   "cell_type": "code",
   "execution_count": 60,
   "id": "decent-referral",
   "metadata": {},
   "outputs": [
    {
     "name": "stdout",
     "output_type": "stream",
     "text": [
      "DataFrame[summary: string, N.Registro: string, Especialidades: string, Nombre: string, Dirección: string, C.Postal: string, Provincia: string, Municipio: string, Localidad: string, Nucleo: string, Teléfono 1: string, Teléfono 2: string, Teléfono 3: string, Email: string, web: string, Q Calidad: string, Plazas: string, GPS.Longitud: string, GPS.Latitud: string, accesible a personas con discapacidad: string, _c19: string]\n",
      "DataFrame[summary: string, N.Registro: string, Tipo: string, Categoría: string, Especialidades: string, Nombre: string, Dirección: string, C.Postal: string, Provincia: string, Municipio: string, Localidad: string, Nucleo: string, Teléfono 1: string, Teléfono 2: string, Teléfono 3: string, Email: string, web: string, Q Calidad: string, Plazas: string, GPS.Longitud: string, GPS.Latitud: string, accesible a personas con discapacidad: string, _c21: string]\n",
      "DataFrame[summary: string, N.Registro: string, Tipo: string, Categoría: string, Nombre: string, Dirección: string, C.Postal: string, Provincia: string, Municipio: string, Localidad: string, Nucleo: string, Teléfono 1: string, Teléfono 2: string, Teléfono 3: string, Email: string, web: string, Q Calidad: string, Plazas: string, GPS.Longitud: string, GPS.Latitud: string, accesible a personas con discapacidad: string, _c20: string]\n"
     ]
    }
   ],
   "source": [
    "Sparkdf_bar         = spark_session.read.options(inferSchema='true',\\\n",
    "                                delimiter=';',\\\n",
    "                                header='true',\\\n",
    "                                encoding='ISO-8859-1')\\\n",
    "                                .csv('./input_files/bares.csv')\n",
    "\n",
    "Sparkdf_restaurante = spark_session.read.options(inferSchema='true',\\\n",
    "                                delimiter=';',\\\n",
    "                                header='true',\\\n",
    "                                encoding='ISO-8859-1')\\\n",
    "                                .csv('./input_files/restaurantes.csv')\n",
    "\n",
    "Sparkdf_cafeteria   = spark_session.read.options(inferSchema='true',\\\n",
    "                                delimiter=';',\\\n",
    "                                header='true',\\\n",
    "                                encoding='ISO-8859-1')\\\n",
    "                                .csv('./input_files/cafeterias.csv')\n",
    "\n",
    "print(Sparkdf_bar.describe())\n",
    "print(Sparkdf_restaurante.describe())\n",
    "print(Sparkdf_cafeteria.describe())   "
   ]
  },
  {
   "cell_type": "code",
   "execution_count": 63,
   "id": "agricultural-ownership",
   "metadata": {},
   "outputs": [],
   "source": [
    "## We just need some columns\n",
    "Sparkdf_bar=Sparkdf_bar.select(\n",
    "            col('Nombre').alias('name'),\n",
    "            col('Dirección').alias('address'),\n",
    "            col('Provincia').alias('county'),\n",
    "            col('Municipio').alias('city'),\n",
    "            col('`C.Postal`').alias('postal_code')\n",
    "        ).withColumn(\"garito_kind\",lit(\"bar\")).distinct()\n",
    "\n",
    "Sparkdf_restaurante=Sparkdf_restaurante.select(\n",
    "            col('Nombre').alias('name'),\n",
    "            col('Dirección').alias('address'),\n",
    "            col('Provincia').alias('county'),\n",
    "            col('Municipio').alias('city'),\n",
    "            col('`C.Postal`').alias('postal_code')\n",
    "        ).withColumn(\"garito_kind\",lit(\"restaurante\")).distinct()\n",
    "\n",
    "Sparkdf_cafeteria=Sparkdf_cafeteria.select(\n",
    "            col('Nombre').alias('name'),\n",
    "            col('Dirección').alias('address'),\n",
    "            col('Provincia').alias('county'),\n",
    "            col('Municipio').alias('city'),\n",
    "            col('`C.Postal`').alias('postal_code')\n",
    "        ).withColumn(\"garito_kind\",lit(\"cafeteria\")).distinct()\n",
    "\n",
    " "
   ]
  },
  {
   "cell_type": "code",
   "execution_count": 64,
   "id": "failing-brush",
   "metadata": {},
   "outputs": [
    {
     "data": {
      "text/plain": [
       "DataFrame[summary: string, name: string, address: string, county: string, city: string, postal_code: string, garito_kind: string]"
      ]
     },
     "execution_count": 64,
     "metadata": {},
     "output_type": "execute_result"
    }
   ],
   "source": [
    "Sparkdf_garitos = (\n",
    "        Sparkdf_bar.union(Sparkdf_restaurante).union(Sparkdf_cafeteria)\n",
    "    )\n",
    "\n",
    "Sparkdf_garitos.describe()"
   ]
  },
  {
   "cell_type": "markdown",
   "id": "about-victorian",
   "metadata": {},
   "source": [
    "### CREATION OF CITY / POSTALCODE TABLE\n"
   ]
  },
  {
   "cell_type": "code",
   "execution_count": 21,
   "id": "inclusive-sitting",
   "metadata": {},
   "outputs": [],
   "source": [
    "Sparkdf_postal_code_table = Sparkdf_garitos.select(\n",
    "            col('county'),\n",
    "            col('city'),\n",
    "            col('postal_code')\n",
    "        ).distinct().where(col('postal_code').isNotNull())\n"
   ]
  },
  {
   "cell_type": "code",
   "execution_count": 22,
   "id": "collected-likelihood",
   "metadata": {},
   "outputs": [
    {
     "data": {
      "text/html": [
       "<div>\n",
       "<style scoped>\n",
       "    .dataframe tbody tr th:only-of-type {\n",
       "        vertical-align: middle;\n",
       "    }\n",
       "\n",
       "    .dataframe tbody tr th {\n",
       "        vertical-align: top;\n",
       "    }\n",
       "\n",
       "    .dataframe thead th {\n",
       "        text-align: right;\n",
       "    }\n",
       "</style>\n",
       "<table border=\"1\" class=\"dataframe\">\n",
       "  <thead>\n",
       "    <tr style=\"text-align: right;\">\n",
       "      <th></th>\n",
       "      <th>county</th>\n",
       "      <th>city</th>\n",
       "      <th>postal_code</th>\n",
       "    </tr>\n",
       "  </thead>\n",
       "  <tbody>\n",
       "    <tr>\n",
       "      <th>count</th>\n",
       "      <td>2881</td>\n",
       "      <td>2881</td>\n",
       "      <td>2881</td>\n",
       "    </tr>\n",
       "    <tr>\n",
       "      <th>unique</th>\n",
       "      <td>9</td>\n",
       "      <td>1730</td>\n",
       "      <td>2025</td>\n",
       "    </tr>\n",
       "    <tr>\n",
       "      <th>top</th>\n",
       "      <td>León</td>\n",
       "      <td>Zamora</td>\n",
       "      <td>24000</td>\n",
       "    </tr>\n",
       "    <tr>\n",
       "      <th>freq</th>\n",
       "      <td>519</td>\n",
       "      <td>33</td>\n",
       "      <td>23</td>\n",
       "    </tr>\n",
       "  </tbody>\n",
       "</table>\n",
       "</div>"
      ],
      "text/plain": [
       "       county    city postal_code\n",
       "count    2881    2881        2881\n",
       "unique      9    1730        2025\n",
       "top      León  Zamora       24000\n",
       "freq      519      33          23"
      ]
     },
     "execution_count": 22,
     "metadata": {},
     "output_type": "execute_result"
    }
   ],
   "source": [
    "df=Sparkdf_postal_code_table.toPandas()\n",
    "df.describe(include='all')"
   ]
  },
  {
   "cell_type": "code",
   "execution_count": 19,
   "id": "distributed-engineer",
   "metadata": {},
   "outputs": [],
   "source": [
    "Sparkdf_postal_code_table.write.partitionBy(\"county\").parquet(local_parquet_path + \"postal_codes/\", mode=\"overwrite\")\n"
   ]
  },
  {
   "cell_type": "markdown",
   "id": "portable-assault",
   "metadata": {},
   "source": [
    "### GARITOS CLEANUP"
   ]
  },
  {
   "cell_type": "code",
   "execution_count": 65,
   "id": "anonymous-cleveland",
   "metadata": {},
   "outputs": [
    {
     "data": {
      "text/html": [
       "<div>\n",
       "<style scoped>\n",
       "    .dataframe tbody tr th:only-of-type {\n",
       "        vertical-align: middle;\n",
       "    }\n",
       "\n",
       "    .dataframe tbody tr th {\n",
       "        vertical-align: top;\n",
       "    }\n",
       "\n",
       "    .dataframe thead th {\n",
       "        text-align: right;\n",
       "    }\n",
       "</style>\n",
       "<table border=\"1\" class=\"dataframe\">\n",
       "  <thead>\n",
       "    <tr style=\"text-align: right;\">\n",
       "      <th></th>\n",
       "      <th>name</th>\n",
       "      <th>address</th>\n",
       "      <th>county</th>\n",
       "      <th>city</th>\n",
       "      <th>postal_code</th>\n",
       "      <th>garito_kind</th>\n",
       "    </tr>\n",
       "  </thead>\n",
       "  <tbody>\n",
       "    <tr>\n",
       "      <th>count</th>\n",
       "      <td>22487</td>\n",
       "      <td>22426</td>\n",
       "      <td>22487</td>\n",
       "      <td>22487</td>\n",
       "      <td>22472</td>\n",
       "      <td>22487</td>\n",
       "    </tr>\n",
       "    <tr>\n",
       "      <th>unique</th>\n",
       "      <td>16100</td>\n",
       "      <td>21087</td>\n",
       "      <td>9</td>\n",
       "      <td>1730</td>\n",
       "      <td>2025</td>\n",
       "      <td>3</td>\n",
       "    </tr>\n",
       "    <tr>\n",
       "      <th>top</th>\n",
       "      <td>LA PLAZA</td>\n",
       "      <td>PLAZA MAYOR, 2</td>\n",
       "      <td>León</td>\n",
       "      <td>Valladolid</td>\n",
       "      <td>24003</td>\n",
       "      <td>bar</td>\n",
       "    </tr>\n",
       "    <tr>\n",
       "      <th>freq</th>\n",
       "      <td>87</td>\n",
       "      <td>20</td>\n",
       "      <td>4942</td>\n",
       "      <td>2668</td>\n",
       "      <td>369</td>\n",
       "      <td>15080</td>\n",
       "    </tr>\n",
       "  </tbody>\n",
       "</table>\n",
       "</div>"
      ],
      "text/plain": [
       "            name         address county        city postal_code garito_kind\n",
       "count      22487           22426  22487       22487       22472       22487\n",
       "unique     16100           21087      9        1730        2025           3\n",
       "top     LA PLAZA  PLAZA MAYOR, 2   León  Valladolid       24003         bar\n",
       "freq          87              20   4942        2668         369       15080"
      ]
     },
     "execution_count": 65,
     "metadata": {},
     "output_type": "execute_result"
    }
   ],
   "source": [
    "# I want to practice with both dataframes and sparkdfs\n",
    "# df shows here that there are addressless and postal_codeless\n",
    "# garitos (garito= bar | restaurant | cafe) but no countyless or cityless\n",
    "df=Sparkdf_garitos.toPandas()\n",
    "df.describe(include='all')"
   ]
  },
  {
   "cell_type": "code",
   "execution_count": 69,
   "id": "prompt-convert",
   "metadata": {},
   "outputs": [
    {
     "data": {
      "text/plain": [
       "[Row(name='LA PLAZA', Total=87),\n",
       " Row(name='AVENIDA', Total=55),\n",
       " Row(name='PLAZA', Total=47),\n",
       " Row(name='CENTRAL', Total=43),\n",
       " Row(name='TELEPIZZA', Total=41),\n",
       " Row(name='EL PASO', Total=36),\n",
       " Row(name='PISCINAS MUNICIPALES', Total=35),\n",
       " Row(name='LA TABERNA', Total=32),\n",
       " Row(name='EL RINCON', Total=32),\n",
       " Row(name='BURGER KING', Total=31),\n",
       " Row(name='LA TERRAZA', Total=31),\n",
       " Row(name='CASTILLA', Total=31),\n",
       " Row(name='LOS ARCOS', Total=30),\n",
       " Row(name='EL CRUCE', Total=30),\n",
       " Row(name='LA PARADA', Total=29),\n",
       " Row(name='EL PUENTE', Total=28),\n",
       " Row(name='LA BODEGUILLA', Total=27),\n",
       " Row(name='LA FUENTE', Total=27),\n",
       " Row(name='LOS ANGELES', Total=23),\n",
       " Row(name='EL MOLINO', Total=23),\n",
       " Row(name='EL PARQUE', Total=22),\n",
       " Row(name='MANOLO', Total=22),\n",
       " Row(name='EL CASTILLO', Total=21),\n",
       " Row(name='LA BODEGA', Total=21),\n",
       " Row(name='LAS PISCINAS', Total=21),\n",
       " Row(name='PISCINA MUNICIPAL', Total=21),\n",
       " Row(name='LA CASONA', Total=21),\n",
       " Row(name='LA POSADA', Total=20),\n",
       " Row(name='EL REFUGIO', Total=20),\n",
       " Row(name='LA FRAGUA', Total=19)]"
      ]
     },
     "execution_count": 69,
     "metadata": {},
     "output_type": "execute_result"
    }
   ],
   "source": [
    "# Playing with Spark Data Frames. Most repeated names.\n",
    "garitos_name_top = Sparkdf_garitos \\\n",
    "    .select(\"name\",'address') \\\n",
    "    .groupBy(\"name\") \\\n",
    "    .agg(count(\"address\").alias(\"Total\")) \\\n",
    "    .orderBy(\"Total\", ascending=False)\n",
    "garitos_name_top.head(30)\n"
   ]
  },
  {
   "cell_type": "code",
   "execution_count": 86,
   "id": "afraid-azerbaijan",
   "metadata": {},
   "outputs": [
    {
     "name": "stdout",
     "output_type": "stream",
     "text": [
      "[Row(name='BURGER KING', Total=27), Row(name='TELEPIZZA', Total=18), Row(name='LA POSADA', Total=12), Row(name='LA CASONA', Total=10), Row(name='EL MOLINO', Total=10), Row(name='LA TABERNA', Total=10), Row(name='AVENIDA', Total=10), Row(name=\"FOSTER'S HOLLYWOOD\", Total=9), Row(name='EL CRUCE', Total=8), Row(name='EL CASTILLO', Total=7), Row(name='PLAZA', Total=7), Row(name='LOS ARCOS', Total=7), Row(name=\"DOMINO'S PIZZA\", Total=7), Row(name='CASTILLA', Total=7), Row(name=\"MC DONALD'S\", Total=7), Row(name='LA PARADA', Total=7), Row(name='BURGUER KING', Total=7), Row(name='LA TERRAZA', Total=7), Row(name='EL JARDIN', Total=6), Row(name='CENTRAL', Total=6), Row(name='LAS NIEVES', Total=6), Row(name='LA GRAN MURALLA', Total=6), Row(name='LA ENCINA', Total=6), Row(name='EL CAPRICHO', Total=6), Row(name='CASA PACO', Total=6), Row(name='LA MURALLA', Total=6), Row(name='EL MESON', Total=6), Row(name='EL MIRADOR', Total=6), Row(name='EL PASO', Total=6), Row(name='EL REFUGIO', Total=5)]\n"
     ]
    }
   ],
   "source": [
    "# Playing with Spark Data Frames. \n",
    "restaurante_name_top = Sparkdf_garitos \\\n",
    "    .select(\"name\",'address','garito_kind') \\\n",
    "    .where(\"garito_kind='restaurante'\") \\\n",
    "    .groupBy(\"name\",) \\\n",
    "    .agg(count(\"address\").alias(\"Total\")) \\\n",
    "    .orderBy(\"Total\", ascending=False)\n",
    "\n",
    "print(restaurante_name_top.head(30))\n",
    "\n"
   ]
  },
  {
   "cell_type": "code",
   "execution_count": 87,
   "id": "minute-sheep",
   "metadata": {},
   "outputs": [
    {
     "name": "stdout",
     "output_type": "stream",
     "text": [
      "[Row(county='León', Total=317), Row(county='Salamanca', Total=315), Row(county='Valladolid', Total=230), Row(county='Burgos', Total=179), Row(county='Ávila', Total=141), Row(county='Zamora', Total=91), Row(county='Segovia', Total=59), Row(county='Soria', Total=59), Row(county='Palencia', Total=54)]\n"
     ]
    }
   ],
   "source": [
    "# Playing with Spark Data Frames. \n",
    "cafe_name_top = Sparkdf_garitos \\\n",
    "    .select(\"county\",'address') \\\n",
    "    .where(\"garito_kind='cafeteria'\") \\\n",
    "    .groupBy(\"county\",) \\\n",
    "    .agg(count(\"address\").alias(\"Total\")) \\\n",
    "    .orderBy(\"Total\", ascending=False)\n",
    "\n",
    "print(cafe_name_top.head(30))"
   ]
  },
  {
   "cell_type": "code",
   "execution_count": 109,
   "id": "smaller-trinity",
   "metadata": {},
   "outputs": [
    {
     "data": {
      "text/plain": [
       "[Row(city='Burgos', cafes=102, bars=765, restaurants=244, total=1110),\n",
       " Row(city='Aranda de Duero', cafes=19, bars=168, restaurants=62, total=249),\n",
       " Row(city='Miranda de Ebro', cafes=14, bars=177, restaurants=42, total=233),\n",
       " Row(city='Medina de Pomar', cafes=3, bars=67, restaurants=20, total=90),\n",
       " Row(city='Villarcayo de Merindad de Castilla la Vieja', cafes=7, bars=42, restaurants=16, total=65),\n",
       " Row(city='Briviesca', cafes=3, bars=42, restaurants=13, total=58),\n",
       " Row(city='Lerma', cafes=2, bars=19, restaurants=22, total=43),\n",
       " Row(city='Valle de Mena', cafes=2, bars=29, restaurants=13, total=41),\n",
       " Row(city='Espinosa de los Monteros', cafes=0, bars=25, restaurants=11, total=36),\n",
       " Row(city='Salas de los Infantes', cafes=0, bars=20, restaurants=9, total=29),\n",
       " Row(city='Belorado', cafes=3, bars=12, restaurants=10, total=25),\n",
       " Row(city='Roa', cafes=1, bars=18, restaurants=6, total=25),\n",
       " Row(city='Quintanar de la Sierra', cafes=0, bars=18, restaurants=7, total=24),\n",
       " Row(city='Melgar de Fernamental', cafes=0, bars=17, restaurants=6, total=23),\n",
       " Row(city='Valle de Sedano', cafes=0, bars=8, restaurants=14, total=21),\n",
       " Row(city='Huerta de Rey', cafes=0, bars=14, restaurants=5, total=19),\n",
       " Row(city='Covarrubias', cafes=0, bars=9, restaurants=9, total=18),\n",
       " Row(city='Valle de Tobalina', cafes=0, bars=10, restaurants=8, total=18),\n",
       " Row(city='Villadiego', cafes=0, bars=15, restaurants=5, total=18),\n",
       " Row(city='Trespaderne', cafes=3, bars=12, restaurants=2, total=17),\n",
       " Row(city='Oña', cafes=0, bars=10, restaurants=6, total=16),\n",
       " Row(city='Valle de Valdebezana', cafes=0, bars=9, restaurants=8, total=14),\n",
       " Row(city='Castrojeriz', cafes=1, bars=7, restaurants=7, total=14),\n",
       " Row(city='Merindad de Montija', cafes=0, bars=10, restaurants=7, total=14),\n",
       " Row(city='Ibeas de Juarros', cafes=0, bars=7, restaurants=5, total=12),\n",
       " Row(city='Pancorbo', cafes=1, bars=7, restaurants=4, total=12),\n",
       " Row(city='Villalmanzo', cafes=1, bars=5, restaurants=5, total=11),\n",
       " Row(city='Valle de Losa', cafes=0, bars=8, restaurants=3, total=11),\n",
       " Row(city='Santo Domingo de Silos', cafes=0, bars=4, restaurants=7, total=11),\n",
       " Row(city='Pradoluengo', cafes=0, bars=8, restaurants=2, total=10)]"
      ]
     },
     "execution_count": 109,
     "metadata": {},
     "output_type": "execute_result"
    }
   ],
   "source": [
    "# Playing with Spark Data Frames. \n",
    "burgos_top = Sparkdf_garitos \\\n",
    "    .select(\"city\",'address',\n",
    "           when(Sparkdf_garitos['garito_kind'] == 'cafeteria', 1).alias(\"is_cafe\"),\n",
    "           when(Sparkdf_garitos['garito_kind'] == 'bar', 1).alias(\"is_bar\"),\n",
    "           when(Sparkdf_garitos['garito_kind'] == 'restaurante', 1).alias(\"is_restaurante\")\n",
    "           ) \\\n",
    "    .where(\"county='Burgos'\") \\\n",
    "    .groupBy(\"city\") \\\n",
    "    .agg(count(\"is_cafe\").alias(\"cafes\"), \n",
    "         count(\"is_bar\").alias(\"bars\"),\n",
    "         count(\"is_restaurante\").alias(\"restaurants\"),\n",
    "         count(\"address\").alias(\"total\"),\n",
    "        ) \\\n",
    "    .orderBy(\"Total\", ascending=False)\n",
    "\n",
    "\n",
    "burgos_top.head(30)"
   ]
  },
  {
   "cell_type": "code",
   "execution_count": 114,
   "id": "involved-flight",
   "metadata": {},
   "outputs": [
    {
     "data": {
      "text/plain": [
       "[Row(name='LA PLAZA', address='PZA. MAYOR, S/N', county='León', city='Vegas del Condado', postal_code=None),\n",
       " Row(name='RAMSES', address='CARRETERA ESTACION S/N', county='Ávila', city='Sanchidrián', postal_code=None),\n",
       " Row(name='MESON LA BARRACA', address='AVDA. RODRÍGUEZ PANDIELLA, 42', county='León', city='León', postal_code=None),\n",
       " Row(name='MERCADO REGIONAL DE GANADOS', address='CTRA. BURGOS-PORTUGAL, KM.2', county='Salamanca', city='Salamanca', postal_code=None),\n",
       " Row(name='OASIS', address='LA VICTORIA, 4', county='León', city='Valencia de Don Juan', postal_code=None),\n",
       " Row(name='LA VUELTA', address='TRAVESIA DE SANTA TERESA S/N', county='Ávila', city='Hoyo de Pinares (El)', postal_code=None),\n",
       " Row(name='PUB EBANO', address='C/ JUAN FERRERO Nº 80', county='León', city='Valderrueda', postal_code=None),\n",
       " Row(name='AVENIDA', address='GONZÁLEZ DE LAMA, 10', county='León', city='León', postal_code=None),\n",
       " Row(name='VIFER', address='MAESTRO URIARTE, 25', county='León', city='León', postal_code=None),\n",
       " Row(name='FARINA', address='C/ ANTONIO ALMARZA,S/N', county='Ávila', city='Ávila', postal_code=None),\n",
       " Row(name='LA CHISPA', address='C/ OBISPO MONTOYA, 24', county='Palencia', city='Grijota', postal_code=None),\n",
       " Row(name='SILVAN', address=None, county='León', city='Torre del Bierzo', postal_code=None),\n",
       " Row(name='AGUEDA', address='CAMINO DEL PEREGRINO (CASAS MAYORAL)', county='León', city='León', postal_code=None),\n",
       " Row(name='LA PETENERA', address='CL/ CALZADAS, 1', county='Burgos', city='Burgos', postal_code=None),\n",
       " Row(name='CASINO', address='PLAZA DE LA LEÑA, S/N', county='León', city='Villamañán', postal_code=None)]"
      ]
     },
     "execution_count": 114,
     "metadata": {},
     "output_type": "execute_result"
    }
   ],
   "source": [
    "## we need a correspondence city - xxx- postal code so checking empty postal_code cases\n",
    "\n",
    "Sparkdf_garitos_cp_null=Sparkdf_garitos.select(\n",
    "            'name',\n",
    "            'address',\n",
    "            'county',\n",
    "            'city',\n",
    "            'postal_code'\n",
    "            ).where(col('postal_code').isNull())\n",
    "\n",
    "Sparkdf_garitos=Sparkdf_garitos.select(\n",
    "            'name',\n",
    "            'address',\n",
    "            'county',\n",
    "            'city',\n",
    "            'postal_code'\n",
    "            ).where(col('postal_code').isNotNull())\n",
    "\n",
    "Sparkdf_garitos_null.head(25)"
   ]
  },
  {
   "cell_type": "code",
   "execution_count": 126,
   "id": "employed-senate",
   "metadata": {},
   "outputs": [
    {
     "name": "stdout",
     "output_type": "stream",
     "text": [
      "+--------------------+------------+-----------+\n",
      "|                city|postal_codes|postal_code|\n",
      "+--------------------+------------+-----------+\n",
      "|              Abades|           1|      40141|\n",
      "|    Abarca de Campos|           1|      34338|\n",
      "|              Abejar|           1|      42146|\n",
      "|             Abusejo|           1|      37640|\n",
      "|      Adrada de Haza|           1|      09462|\n",
      "|     Adrada de Pirón|           1|      40192|\n",
      "|             Adrados|           1|      40354|\n",
      "|        Aguilafuente|           1|      40340|\n",
      "|   Aguilar de Campos|           1|      47814|\n",
      "|Ahigal de los Ace...|           1|      37248|\n",
      "|     Alamedilla (La)|           1|      37554|\n",
      "|              Alaraz|           1|      37312|\n",
      "|     Alba de Cerrato|           1|      34219|\n",
      "|      Alba de Tormes|           1|      37800|\n",
      "|      Alba de Yeltes|           1|      37478|\n",
      "+--------------------+------------+-----------+\n",
      "only showing top 15 rows\n",
      "\n"
     ]
    }
   ],
   "source": [
    "# Extracting cities with unique postal code\n",
    "\n",
    "cities_with_unique_postal_codes=Sparkdf_postal_code_table.select(\n",
    "            'city',\n",
    "            'postal_code'\n",
    "            ).groupBy(\"city\") \\\n",
    "            .agg(count('postal_code').alias('postal_codes'),\n",
    "                 max('postal_code').alias('postal_code')) \\\n",
    "            .orderBy('city', ascending=True) \\\n",
    "            .where(\"postal_codes=1\")\n",
    "\n",
    "\n",
    "cities_with_unique_postal_codes.show(15)   \n",
    "\n"
   ]
  },
  {
   "cell_type": "code",
   "execution_count": 130,
   "id": "future-distribution",
   "metadata": {},
   "outputs": [
    {
     "name": "stdout",
     "output_type": "stream",
     "text": [
      "+--------------------+--------------------+---------+--------------------+-----------+\n",
      "|                name|             address|   county|                city|postal_code|\n",
      "+--------------------+--------------------+---------+--------------------+-----------+\n",
      "|            LA PLAZA|     PZA. MAYOR, S/N|     León|   Vegas del Condado|       null|\n",
      "|              RAMSES|CARRETERA ESTACIO...|    Ávila|         Sanchidrián|       null|\n",
      "|    MESON LA BARRACA|AVDA. RODRÍGUEZ P...|     León|                León|       null|\n",
      "|MERCADO REGIONAL ...|CTRA. BURGOS-PORT...|Salamanca|           Salamanca|       null|\n",
      "|               OASIS|      LA VICTORIA, 4|     León|Valencia de Don Juan|       null|\n",
      "|           LA VUELTA|TRAVESIA DE SANTA...|    Ávila|Hoyo de Pinares (El)|       null|\n",
      "|           PUB EBANO|C/ JUAN FERRERO N...|     León|         Valderrueda|       null|\n",
      "|             AVENIDA|GONZÁLEZ DE LAMA, 10|     León|                León|       null|\n",
      "|               VIFER| MAESTRO URIARTE, 25|     León|                León|       null|\n",
      "|              FARINA|C/ ANTONIO ALMARZ...|    Ávila|               Ávila|       null|\n",
      "|           LA CHISPA|C/ OBISPO MONTOYA...| Palencia|             Grijota|      34192|\n",
      "|              SILVAN|                null|     León|    Torre del Bierzo|       null|\n",
      "|              AGUEDA|CAMINO DEL PEREGR...|     León|                León|       null|\n",
      "|         LA PETENERA|     CL/ CALZADAS, 1|   Burgos|              Burgos|       null|\n",
      "|              CASINO|PLAZA DE LA LEÑA,...|     León|          Villamañán|       null|\n",
      "+--------------------+--------------------+---------+--------------------+-----------+\n",
      "\n"
     ]
    }
   ],
   "source": [
    "# Completing postalcodeless garitos with postal code when there is only one / city\n",
    "\n",
    "Sparkdf_garitos_null = Sparkdf_garitos_null.join(\n",
    "    cities_with_unique_postal_codes,\n",
    "    Sparkdf_garitos_null.city == cities_with_unique_postal_codes.city,\n",
    "    'left').select(\n",
    "        'name',\n",
    "        'address',\n",
    "        'county',\n",
    "        Sparkdf_garitos_null.city,\n",
    "        cities_with_unique_postal_codes.postal_code\n",
    "    )\n",
    "\n",
    "\n",
    "print(Sparkdf_garitos_null.show(15)\n"
   ]
  },
  {
   "cell_type": "code",
   "execution_count": 132,
   "id": "dying-harmony",
   "metadata": {},
   "outputs": [
    {
     "name": "stdout",
     "output_type": "stream",
     "text": [
      "garitos without null postalcodes 22472\n",
      "total garitos 22487\n"
     ]
    }
   ],
   "source": [
    "print(\"garitos without null postalcodes\",Sparkdf_garitos.count())\n",
    "\n",
    "\n",
    "Sparkdf_garitos = (\n",
    "        Sparkdf_garitos.union(Sparkdf_garitos_null)\n",
    "    )\n",
    "\n",
    "Sparkdf_garitos.describe()\n",
    "\n",
    "\n",
    "print(\"total garitos\",Sparkdf_garitos.count())\n"
   ]
  },
  {
   "cell_type": "code",
   "execution_count": 133,
   "id": "relative-nylon",
   "metadata": {},
   "outputs": [],
   "source": [
    "## CLEANED UP GARITOS TO PARQUET \n",
    "\n",
    "Sparkdf_garitos.write.partitionBy(\"county\",\"postal_code\").parquet(local_parquet_path + \"garitos/\", mode=\"overwrite\")"
   ]
  },
  {
   "cell_type": "markdown",
   "id": "therapeutic-terminology",
   "metadata": {},
   "source": [
    "### CLEANING ASOCIACIONES Y CLUBES DEPORTIVOS\n",
    "These 3 files share same schema"
   ]
  },
  {
   "cell_type": "code",
   "execution_count": 134,
   "id": "going-karen",
   "metadata": {},
   "outputs": [
    {
     "name": "stdout",
     "output_type": "stream",
     "text": [
      "DataFrame[summary: string, Num_Asoc: string, Ambito: string, Asociación: string, Domicilio: string, Municipio: string, Provincia: string, C_Postal: string, Web: string, Fines: string, Fines_Específicos: string, F_Registro: string]\n",
      "\n",
      "\n",
      "DataFrame[summary: string, Nº registro: string, Nombre: string, Domicilio: string, Provincia: string, Localidad: string, C.Postal: string, Teléfono: string, Fax: string, Email: string, Web: string, F.Fundación: string, F.Inscripción: string, Deportes: string, _c13: string]\n"
     ]
    }
   ],
   "source": [
    "Sparkdf_association = spark_session.read.options(inferSchema='true',\\\n",
    "                                delimiter=';',\\\n",
    "                                header='true',\\\n",
    "                                encoding='ISO-8859-1')\\\n",
    "                                .csv('./input_files/'+data_asociaciones)\n",
    "\n",
    "Sparkdf_sports_club = spark_session.read.options(inferSchema='true',\\\n",
    "                                delimiter=';',\\\n",
    "                                header='true',\\\n",
    "                                encoding='ISO-8859-1')\\\n",
    "                                .csv('./input_files/'+data_clubes_deportivos)\n",
    "\n",
    "\n",
    "print(Sparkdf_association.describe())\n",
    "\n",
    "print('\\n')\n",
    "print(Sparkdf_sports_club.describe())\n"
   ]
  },
  {
   "cell_type": "code",
   "execution_count": 137,
   "id": "monthly-partner",
   "metadata": {},
   "outputs": [
    {
     "data": {
      "text/plain": [
       "[Row(Num_Asoc='05/1/0000002', Ambito='COMARCAL', Asociación='ASOCIACION DE MADRES Y PADRES DE ALUMNOS DEL INSTITUTO DE BACHILLERATO EULOGIO FLORENTINO SANZ', Domicilio='Avda. Emilio Romero, 22', Municipio='ARÉVALO', Provincia='AVILA', C_Postal='05200', Web=None, Fines='-Asistir a los padres/madres o tutores en todo aquello que concierne a la educación de sus hijos o pupilos. -Colaborar en las actividades del Instituto. -Promover la participación de los padres/madres o tutores de los alumnos/as en la gestión del Instituto. -Asistir a los padres/madres o tutores en el ejercicio de su derecho a intervenir en el control y gestión del Instituto. -Facilitar la representación y la participación de los padres/madres o tutores en el Consejo Escolar del Instituto. -Promover la integración de los padres/madres o tutores en el proceso educativo. -Promover el transporte escolar de los alumnos/as no residentes en Arévalo, pero dentro de la zona del ámbito territorial de la Asociación. -Fomentar la constitución de Asociaciones de Alumnos/as, conforme a las leyes vigentes. -Colaborar en el desarrollo de la personalidad, en los términos previstos en la Convención de Naciones Unidas sobre los derechos del Niño de 20 de noviembre de 1.989.', Fines_Específicos=None, F_Registro='06/08/65'),\n",
       " Row(Num_Asoc='05/1/0000005', Ambito='PROVINCIAL', Asociación='ASOCIACION CATOLICA DE MAESTROS DE LA PROVINCIA DE AVILA ', Domicilio='AVDA DE PORTUGAL 19 1 ', Municipio='ÁVILA', Provincia='AVILA', C_Postal='05000', Web=None, Fines=None, Fines_Específicos=None, F_Registro='11/10/65')]"
      ]
     },
     "execution_count": 137,
     "metadata": {},
     "output_type": "execute_result"
    }
   ],
   "source": [
    "Sparkdf_association.head(2)"
   ]
  },
  {
   "cell_type": "code",
   "execution_count": 138,
   "id": "legal-journey",
   "metadata": {},
   "outputs": [
    {
     "data": {
      "text/plain": [
       "[Row(Nº registro='CYA/000009', Nombre='CLUB DEPORTIVO AREVALO DO.SA.', Domicilio='C/ ADOVERAS 35 A, 2º B', Provincia='Ávila', Localidad='AREVALO', C.Postal=5200, Teléfono=None, Fax=None, Email=None, Web=None, F.Fundación='17/01/1974', F.Inscripción='12/11/1984', Deportes='AT001#ATLETISMO - PISTA#|AT002#ATLETISMO - CAMPO A TRAVES#|AT003#ATLETISMO - RUTA#|AT004#ATLETISMO - MARCHA ATLÉTICA#|BC001#BALONCESTO - BALONCESTO#|FU001#FÚTBOL - FÚTBOL#|VB001#VOLEIBOL - VOLEIBOL#|VB002#VOLEIBOL - VOLEY-PLAYA#|VB003#VOLEIBOL - MINIVOLEY#|', _c13=None),\n",
       " Row(Nº registro='CYA/000018', Nombre='\"CLUB DEPORTIVO GALGUERO \"\"LA CASTELLANA\"\"\"', Domicilio='C/ GENERAL PRIMO DE RIVERA, 14-1', Provincia='Ávila', Localidad='FONTIVEROS', C.Postal=5310, Teléfono=None, Fax=None, Email=None, Web=None, F.Fundación='01/03/1982', F.Inscripción='12/11/1984', Deportes='CA001#CAZA - PICHON A BRAZO#|CA002#CAZA - CAZA MENOR CON PERROS#|CA003#CAZA - RECORRIDOS DE CAZA#|CA004#CAZA - CAZA SAN HUBERTO#|CA005#CAZA - PERROS DE CAZA Y AGILITY#|CA006#CAZA - CETRERIA#|CA007#CAZA - PAJAROS DE CANTO#|CA008#CAZA - CAZA CON ARCO#|CA009#CAZA - TIRO A CAZA LANZADA#|CA010#CAZA - CAZA FOTOGRAFICA Y VIDEO#|CA011#CAZA - COMPAK SPORTING#|CA012#CAZA - PERDIZ CON RECLAMO#|CA013#CAZA - EDUCACIÓN CANINA#|CA014#CAZA - CAZA DE BECADAS#|GA001#GALGOS - CARRERAS EN CAMPO#|GA002#GALGOS - CARRERAS EN PISTA#|', _c13=None)]"
      ]
     },
     "execution_count": 138,
     "metadata": {},
     "output_type": "execute_result"
    }
   ],
   "source": [
    "Sparkdf_sports_club.head(2)"
   ]
  },
  {
   "cell_type": "code",
   "execution_count": 140,
   "id": "prerequisite-petite",
   "metadata": {},
   "outputs": [
    {
     "ename": "AnalysisException",
     "evalue": "cannot resolve '`C.Postal`' given input columns: [Ambito, Asociación, C_Postal, Domicilio, F_Registro, Fines, Fines_Específicos, Municipio, Num_Asoc, Provincia, Web];\n'Project [Asociación#18686 AS name#20324, Domicilio#18687 AS address#20325, Provincia#18689 AS county#20326, Municipio#18688 AS city#20327, 'C.Postal AS postal_code#20328]\n+- Relation[Num_Asoc#18684,Ambito#18685,Asociación#18686,Domicilio#18687,Municipio#18688,Provincia#18689,C_Postal#18690,Web#18691,Fines#18692,Fines_Específicos#18693,F_Registro#18694] csv\n",
     "output_type": "error",
     "traceback": [
      "\u001b[0;31m---------------------------------------------------------------------------\u001b[0m",
      "\u001b[0;31mAnalysisException\u001b[0m                         Traceback (most recent call last)",
      "\u001b[0;32m<ipython-input-140-e803cfaf4dc5>\u001b[0m in \u001b[0;36m<module>\u001b[0;34m\u001b[0m\n\u001b[0;32m----> 1\u001b[0;31m Sparkdf_association=Sparkdf_association.select(\n\u001b[0m\u001b[1;32m      2\u001b[0m             \u001b[0mcol\u001b[0m\u001b[0;34m(\u001b[0m\u001b[0;34m'Asociación'\u001b[0m\u001b[0;34m)\u001b[0m\u001b[0;34m.\u001b[0m\u001b[0malias\u001b[0m\u001b[0;34m(\u001b[0m\u001b[0;34m'name'\u001b[0m\u001b[0;34m)\u001b[0m\u001b[0;34m,\u001b[0m\u001b[0;34m\u001b[0m\u001b[0;34m\u001b[0m\u001b[0m\n\u001b[1;32m      3\u001b[0m             \u001b[0mcol\u001b[0m\u001b[0;34m(\u001b[0m\u001b[0;34m'Domicilio'\u001b[0m\u001b[0;34m)\u001b[0m\u001b[0;34m.\u001b[0m\u001b[0malias\u001b[0m\u001b[0;34m(\u001b[0m\u001b[0;34m'address'\u001b[0m\u001b[0;34m)\u001b[0m\u001b[0;34m,\u001b[0m\u001b[0;34m\u001b[0m\u001b[0;34m\u001b[0m\u001b[0m\n\u001b[1;32m      4\u001b[0m             \u001b[0mcol\u001b[0m\u001b[0;34m(\u001b[0m\u001b[0;34m'Provincia'\u001b[0m\u001b[0;34m)\u001b[0m\u001b[0;34m.\u001b[0m\u001b[0malias\u001b[0m\u001b[0;34m(\u001b[0m\u001b[0;34m'county'\u001b[0m\u001b[0;34m)\u001b[0m\u001b[0;34m,\u001b[0m\u001b[0;34m\u001b[0m\u001b[0;34m\u001b[0m\u001b[0m\n\u001b[1;32m      5\u001b[0m             \u001b[0mcol\u001b[0m\u001b[0;34m(\u001b[0m\u001b[0;34m'Municipio'\u001b[0m\u001b[0;34m)\u001b[0m\u001b[0;34m.\u001b[0m\u001b[0malias\u001b[0m\u001b[0;34m(\u001b[0m\u001b[0;34m'city'\u001b[0m\u001b[0;34m)\u001b[0m\u001b[0;34m,\u001b[0m\u001b[0;34m\u001b[0m\u001b[0;34m\u001b[0m\u001b[0m\n",
      "\u001b[0;32m/usr/local/lib/python3.8/site-packages/pyspark/sql/dataframe.py\u001b[0m in \u001b[0;36mselect\u001b[0;34m(self, *cols)\u001b[0m\n\u001b[1;32m   1667\u001b[0m         \u001b[0;34m[\u001b[0m\u001b[0mRow\u001b[0m\u001b[0;34m(\u001b[0m\u001b[0mname\u001b[0m\u001b[0;34m=\u001b[0m\u001b[0;34m'Alice'\u001b[0m\u001b[0;34m,\u001b[0m \u001b[0mage\u001b[0m\u001b[0;34m=\u001b[0m\u001b[0;36m12\u001b[0m\u001b[0;34m)\u001b[0m\u001b[0;34m,\u001b[0m \u001b[0mRow\u001b[0m\u001b[0;34m(\u001b[0m\u001b[0mname\u001b[0m\u001b[0;34m=\u001b[0m\u001b[0;34m'Bob'\u001b[0m\u001b[0;34m,\u001b[0m \u001b[0mage\u001b[0m\u001b[0;34m=\u001b[0m\u001b[0;36m15\u001b[0m\u001b[0;34m)\u001b[0m\u001b[0;34m]\u001b[0m\u001b[0;34m\u001b[0m\u001b[0;34m\u001b[0m\u001b[0m\n\u001b[1;32m   1668\u001b[0m         \"\"\"\n\u001b[0;32m-> 1669\u001b[0;31m         \u001b[0mjdf\u001b[0m \u001b[0;34m=\u001b[0m \u001b[0mself\u001b[0m\u001b[0;34m.\u001b[0m\u001b[0m_jdf\u001b[0m\u001b[0;34m.\u001b[0m\u001b[0mselect\u001b[0m\u001b[0;34m(\u001b[0m\u001b[0mself\u001b[0m\u001b[0;34m.\u001b[0m\u001b[0m_jcols\u001b[0m\u001b[0;34m(\u001b[0m\u001b[0;34m*\u001b[0m\u001b[0mcols\u001b[0m\u001b[0;34m)\u001b[0m\u001b[0;34m)\u001b[0m\u001b[0;34m\u001b[0m\u001b[0;34m\u001b[0m\u001b[0m\n\u001b[0m\u001b[1;32m   1670\u001b[0m         \u001b[0;32mreturn\u001b[0m \u001b[0mDataFrame\u001b[0m\u001b[0;34m(\u001b[0m\u001b[0mjdf\u001b[0m\u001b[0;34m,\u001b[0m \u001b[0mself\u001b[0m\u001b[0;34m.\u001b[0m\u001b[0msql_ctx\u001b[0m\u001b[0;34m)\u001b[0m\u001b[0;34m\u001b[0m\u001b[0;34m\u001b[0m\u001b[0m\n\u001b[1;32m   1671\u001b[0m \u001b[0;34m\u001b[0m\u001b[0m\n",
      "\u001b[0;32m/usr/local/lib/python3.8/site-packages/py4j/java_gateway.py\u001b[0m in \u001b[0;36m__call__\u001b[0;34m(self, *args)\u001b[0m\n\u001b[1;32m   1302\u001b[0m \u001b[0;34m\u001b[0m\u001b[0m\n\u001b[1;32m   1303\u001b[0m         \u001b[0manswer\u001b[0m \u001b[0;34m=\u001b[0m \u001b[0mself\u001b[0m\u001b[0;34m.\u001b[0m\u001b[0mgateway_client\u001b[0m\u001b[0;34m.\u001b[0m\u001b[0msend_command\u001b[0m\u001b[0;34m(\u001b[0m\u001b[0mcommand\u001b[0m\u001b[0;34m)\u001b[0m\u001b[0;34m\u001b[0m\u001b[0;34m\u001b[0m\u001b[0m\n\u001b[0;32m-> 1304\u001b[0;31m         return_value = get_return_value(\n\u001b[0m\u001b[1;32m   1305\u001b[0m             answer, self.gateway_client, self.target_id, self.name)\n\u001b[1;32m   1306\u001b[0m \u001b[0;34m\u001b[0m\u001b[0m\n",
      "\u001b[0;32m/usr/local/lib/python3.8/site-packages/pyspark/sql/utils.py\u001b[0m in \u001b[0;36mdeco\u001b[0;34m(*a, **kw)\u001b[0m\n\u001b[1;32m    115\u001b[0m                 \u001b[0;31m# Hide where the exception came from that shows a non-Pythonic\u001b[0m\u001b[0;34m\u001b[0m\u001b[0;34m\u001b[0m\u001b[0;34m\u001b[0m\u001b[0m\n\u001b[1;32m    116\u001b[0m                 \u001b[0;31m# JVM exception message.\u001b[0m\u001b[0;34m\u001b[0m\u001b[0;34m\u001b[0m\u001b[0;34m\u001b[0m\u001b[0m\n\u001b[0;32m--> 117\u001b[0;31m                 \u001b[0;32mraise\u001b[0m \u001b[0mconverted\u001b[0m \u001b[0;32mfrom\u001b[0m \u001b[0;32mNone\u001b[0m\u001b[0;34m\u001b[0m\u001b[0;34m\u001b[0m\u001b[0m\n\u001b[0m\u001b[1;32m    118\u001b[0m             \u001b[0;32melse\u001b[0m\u001b[0;34m:\u001b[0m\u001b[0;34m\u001b[0m\u001b[0;34m\u001b[0m\u001b[0m\n\u001b[1;32m    119\u001b[0m                 \u001b[0;32mraise\u001b[0m\u001b[0;34m\u001b[0m\u001b[0;34m\u001b[0m\u001b[0m\n",
      "\u001b[0;31mAnalysisException\u001b[0m: cannot resolve '`C.Postal`' given input columns: [Ambito, Asociación, C_Postal, Domicilio, F_Registro, Fines, Fines_Específicos, Municipio, Num_Asoc, Provincia, Web];\n'Project [Asociación#18686 AS name#20324, Domicilio#18687 AS address#20325, Provincia#18689 AS county#20326, Municipio#18688 AS city#20327, 'C.Postal AS postal_code#20328]\n+- Relation[Num_Asoc#18684,Ambito#18685,Asociación#18686,Domicilio#18687,Municipio#18688,Provincia#18689,C_Postal#18690,Web#18691,Fines#18692,Fines_Específicos#18693,F_Registro#18694] csv\n"
     ]
    }
   ],
   "source": [
    "\n",
    "Sparkdf_association=Sparkdf_association.select(\n",
    "            col('Asociación').alias('name'),\n",
    "            col('Domicilio').alias('address'),\n",
    "            col('Provincia').alias('county'),\n",
    "            col('Municipio').alias('city'),\n",
    "            col('`C.Postal`').alias('postal_code')\n",
    "        ).withColumn(\"social_kind\",lit('sports_club')).distinct()\n",
    "\n",
    "Sparkdf_sports_club=Sparkdf_sports_club.select(\n",
    "            col('Nombre').alias('name'),\n",
    "            col('Domicilio').alias('address'),\n",
    "            col('Provincia').alias('county'),\n",
    "            col('Municipio').alias('city'),\n",
    "            col('`C.Postal`').alias('postal_code')\n",
    "        ).withColumn(\"social_kind\",lit('sports_club')).distinct()\n",
    "\n",
    "\n",
    "Sparkdf_social = (\n",
    "        Sparkdf_association.union(Sparkdf_sports_club)\n",
    "    )\n",
    "\n",
    "Sparkdf_social.describe()"
   ]
  },
  {
   "cell_type": "code",
   "execution_count": null,
   "id": "indirect-aging",
   "metadata": {},
   "outputs": [],
   "source": [
    "Deportes por código postal y provincia."
   ]
  },
  {
   "cell_type": "markdown",
   "id": "elegant-garden",
   "metadata": {},
   "source": [
    "# Step 3: Define the Data Model\n",
    "## 3.1 Conceptual Data Model\n",
    "Map out the conceptual data model and explain why you chose that model\n",
    "\n",
    "## 3.2 Mapping Out Data Pipelines\n",
    "List the steps necessary to pipeline the data into the chosen data model"
   ]
  },
  {
   "cell_type": "markdown",
   "id": "modular-avatar",
   "metadata": {},
   "source": [
    "# Step 4: Run Pipelines to Model the Data \n",
    "## 4.1 Create the data model\n",
    "Build the data pipelines to create the data model.\n"
   ]
  },
  {
   "cell_type": "markdown",
   "id": "expired-palace",
   "metadata": {},
   "source": [
    "## 4.2 Data Quality Checks\n",
    "Explain the data quality checks you'll perform to ensure the pipeline ran as expected. These could include:\n",
    " * Integrity constraints on the relational database (e.g., unique key, data type, etc.)\n",
    " * Unit tests for the scripts to ensure they are doing the right thing\n",
    " * Source/Count checks to ensure completeness\n",
    " \n",
    "Run Quality Checks"
   ]
  },
  {
   "cell_type": "markdown",
   "id": "entertaining-industry",
   "metadata": {},
   "source": [
    "## 4.3 Data dictionary \n",
    "Create a data dictionary for your data model. For each field, provide a brief description of what the data is and where it came from. You can include the data dictionary in the notebook or in a separate file."
   ]
  },
  {
   "cell_type": "markdown",
   "id": "amber-strain",
   "metadata": {},
   "source": [
    "## Step 5: Complete Project Write Up\n",
    "* Clearly state the rationale for the choice of tools and technologies for the project.\n",
    "* Propose how often the data should be updated and why.\n",
    "* Write a description of how you would approach the problem differently under the following scenarios:\n",
    " * The data was increased by 100x.\n",
    " * The data populates a dashboard that must be updated on a daily basis by 7am every day.\n",
    " * The database needed to be accessed by 100+ people."
   ]
  },
  {
   "cell_type": "code",
   "execution_count": null,
   "id": "hairy-elevation",
   "metadata": {},
   "outputs": [],
   "source": []
  }
 ],
 "metadata": {
  "kernelspec": {
   "display_name": "Python 3",
   "language": "python",
   "name": "python3"
  },
  "language_info": {
   "codemirror_mode": {
    "name": "ipython",
    "version": 3
   },
   "file_extension": ".py",
   "mimetype": "text/x-python",
   "name": "python",
   "nbconvert_exporter": "python",
   "pygments_lexer": "ipython3",
   "version": "3.8.5"
  }
 },
 "nbformat": 4,
 "nbformat_minor": 5
}
